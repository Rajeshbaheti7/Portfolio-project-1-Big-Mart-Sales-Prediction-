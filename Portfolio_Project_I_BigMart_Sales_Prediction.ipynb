{
 "cells": [
  {
   "cell_type": "code",
   "execution_count": 1,
   "metadata": {
    "colab": {
     "base_uri": "https://localhost:8080/"
    },
    "executionInfo": {
     "elapsed": 47897,
     "status": "ok",
     "timestamp": 1644224045660,
     "user": {
      "displayName": "Siddhi Jadhav",
      "photoUrl": "https://lh3.googleusercontent.com/a/default-user=s64",
      "userId": "08402691859170607175"
     },
     "user_tz": -330
    },
    "id": "S2vYSOGzXsgv",
    "outputId": "aa2ea31d-fa82-4e60-c922-ed6a5e332939"
   },
   "outputs": [
    {
     "data": {
      "text/plain": [
       "'!pip install featuretools==1.7.0\\n!pip install joblib==1.0.1\\n!pip install matplotlib==3.3.4\\n!pip install numpy==1.20.1\\n!pip install pandas==1.3.5\\n!pip install scikit_learn==0.24.1\\n!pip install scipy==1.6.2\\n!pip install seaborn==0.11.1\\n!pip install xgboost==1.5.1'"
      ]
     },
     "execution_count": 1,
     "metadata": {},
     "output_type": "execute_result"
    }
   ],
   "source": [
    "\"\"\"!pip install featuretools==1.7.0\n",
    "!pip install joblib==1.0.1\n",
    "!pip install matplotlib==3.3.4\n",
    "!pip install numpy==1.20.1\n",
    "!pip install pandas==1.3.5\n",
    "!pip install scikit_learn==0.24.1\n",
    "!pip install scipy==1.6.2\n",
    "!pip install seaborn==0.11.1\n",
    "!pip install xgboost==1.5.1\"\"\""
   ]
  },
  {
   "cell_type": "code",
   "execution_count": 2,
   "metadata": {
    "id": "UlPznIcjXaUl"
   },
   "outputs": [],
   "source": [
    "#Importing Necessary Libraries\n",
    "#Matplot and seaborn for making graphs\n",
    "\n",
    "import featuretools as ft\n",
    "\n",
    "import numpy as np\n",
    "import pandas as pd\n",
    "\n",
    "from scipy import stats\n",
    "import matplotlib.pyplot as plt\n",
    "import seaborn as sns\n",
    "import warnings\n",
    "warnings.filterwarnings('ignore')\n",
    "\n",
    "from sklearn.linear_model import Ridge\n",
    "from sklearn.model_selection import KFold, cross_val_score\n",
    "from sklearn.model_selection import train_test_split\n",
    "from sklearn.preprocessing import LabelEncoder\n",
    "from sklearn.model_selection import GridSearchCV\n",
    "from sklearn.model_selection import RandomizedSearchCV"
   ]
  },
  {
   "cell_type": "code",
   "execution_count": 3,
   "metadata": {},
   "outputs": [],
   "source": [
    "# ! pip freeze > requirements.txt"
   ]
  },
  {
   "cell_type": "code",
   "execution_count": 4,
   "metadata": {
    "colab": {
     "base_uri": "https://localhost:8080/"
    },
    "executionInfo": {
     "elapsed": 1042,
     "status": "ok",
     "timestamp": 1644224107710,
     "user": {
      "displayName": "Siddhi Jadhav",
      "photoUrl": "https://lh3.googleusercontent.com/a/default-user=s64",
      "userId": "08402691859170607175"
     },
     "user_tz": -330
    },
    "id": "96sMPrZWXnRL",
    "outputId": "b3860ab9-1753-4f40-8395-233d8d74f36e"
   },
   "outputs": [
    {
     "name": "stdout",
     "output_type": "stream",
     "text": [
      "(8523, 12) (5681, 11)\n"
     ]
    }
   ],
   "source": [
    " #Imorting the datasets\n",
    "train =pd.read_csv(\"train_kOBLwZA.csv\")\n",
    "test=pd.read_csv(\"test_t02dQwI.csv\")\n",
    "\n",
    "print(train.shape,test.shape)"
   ]
  },
  {
   "cell_type": "code",
   "execution_count": 5,
   "metadata": {
    "id": "xWzD4aGXXaUp"
   },
   "outputs": [],
   "source": [
    "def concat(X,Y):\n",
    "    df= pd.concat([X,Y],ignore_index=True)\n",
    "    return df"
   ]
  },
  {
   "cell_type": "code",
   "execution_count": 6,
   "metadata": {
    "colab": {
     "base_uri": "https://localhost:8080/"
    },
    "executionInfo": {
     "elapsed": 744,
     "status": "ok",
     "timestamp": 1644224116462,
     "user": {
      "displayName": "Siddhi Jadhav",
      "photoUrl": "https://lh3.googleusercontent.com/a/default-user=s64",
      "userId": "08402691859170607175"
     },
     "user_tz": -330
    },
    "id": "7ULPjMqzXaUp",
    "outputId": "07c0cd7b-ed80-4777-dcad-ac12a9b3aa6f"
   },
   "outputs": [
    {
     "name": "stdout",
     "output_type": "stream",
     "text": [
      "(14204, 12)\n"
     ]
    }
   ],
   "source": [
    "df=concat(train,test)\n",
    "print(df.shape)"
   ]
  },
  {
   "cell_type": "code",
   "execution_count": 7,
   "metadata": {
    "colab": {
     "base_uri": "https://localhost:8080/",
     "height": 206
    },
    "executionInfo": {
     "elapsed": 11,
     "status": "ok",
     "timestamp": 1644224116463,
     "user": {
      "displayName": "Siddhi Jadhav",
      "photoUrl": "https://lh3.googleusercontent.com/a/default-user=s64",
      "userId": "08402691859170607175"
     },
     "user_tz": -330
    },
    "id": "4nOpWvg7XaUq",
    "outputId": "34185490-5c01-4f8b-81d4-13e1612a57a8"
   },
   "outputs": [
    {
     "data": {
      "text/html": [
       "<div>\n",
       "<style scoped>\n",
       "    .dataframe tbody tr th:only-of-type {\n",
       "        vertical-align: middle;\n",
       "    }\n",
       "\n",
       "    .dataframe tbody tr th {\n",
       "        vertical-align: top;\n",
       "    }\n",
       "\n",
       "    .dataframe thead th {\n",
       "        text-align: right;\n",
       "    }\n",
       "</style>\n",
       "<table border=\"1\" class=\"dataframe\">\n",
       "  <thead>\n",
       "    <tr style=\"text-align: right;\">\n",
       "      <th></th>\n",
       "      <th>Item_Identifier</th>\n",
       "      <th>Item_Weight</th>\n",
       "      <th>Item_Fat_Content</th>\n",
       "      <th>Item_Visibility</th>\n",
       "      <th>Item_Type</th>\n",
       "      <th>Item_MRP</th>\n",
       "      <th>Outlet_Identifier</th>\n",
       "      <th>Outlet_Establishment_Year</th>\n",
       "      <th>Outlet_Size</th>\n",
       "      <th>Outlet_Location_Type</th>\n",
       "      <th>Outlet_Type</th>\n",
       "      <th>Item_Outlet_Sales</th>\n",
       "    </tr>\n",
       "  </thead>\n",
       "  <tbody>\n",
       "    <tr>\n",
       "      <th>0</th>\n",
       "      <td>FDA15</td>\n",
       "      <td>9.30</td>\n",
       "      <td>Low Fat</td>\n",
       "      <td>0.016047</td>\n",
       "      <td>Dairy</td>\n",
       "      <td>249.8092</td>\n",
       "      <td>OUT049</td>\n",
       "      <td>1999</td>\n",
       "      <td>Medium</td>\n",
       "      <td>Tier 1</td>\n",
       "      <td>Supermarket Type1</td>\n",
       "      <td>3735.1380</td>\n",
       "    </tr>\n",
       "    <tr>\n",
       "      <th>1</th>\n",
       "      <td>DRC01</td>\n",
       "      <td>5.92</td>\n",
       "      <td>Regular</td>\n",
       "      <td>0.019278</td>\n",
       "      <td>Soft Drinks</td>\n",
       "      <td>48.2692</td>\n",
       "      <td>OUT018</td>\n",
       "      <td>2009</td>\n",
       "      <td>Medium</td>\n",
       "      <td>Tier 3</td>\n",
       "      <td>Supermarket Type2</td>\n",
       "      <td>443.4228</td>\n",
       "    </tr>\n",
       "    <tr>\n",
       "      <th>2</th>\n",
       "      <td>FDN15</td>\n",
       "      <td>17.50</td>\n",
       "      <td>Low Fat</td>\n",
       "      <td>0.016760</td>\n",
       "      <td>Meat</td>\n",
       "      <td>141.6180</td>\n",
       "      <td>OUT049</td>\n",
       "      <td>1999</td>\n",
       "      <td>Medium</td>\n",
       "      <td>Tier 1</td>\n",
       "      <td>Supermarket Type1</td>\n",
       "      <td>2097.2700</td>\n",
       "    </tr>\n",
       "    <tr>\n",
       "      <th>3</th>\n",
       "      <td>FDX07</td>\n",
       "      <td>19.20</td>\n",
       "      <td>Regular</td>\n",
       "      <td>0.000000</td>\n",
       "      <td>Fruits and Vegetables</td>\n",
       "      <td>182.0950</td>\n",
       "      <td>OUT010</td>\n",
       "      <td>1998</td>\n",
       "      <td>NaN</td>\n",
       "      <td>Tier 3</td>\n",
       "      <td>Grocery Store</td>\n",
       "      <td>732.3800</td>\n",
       "    </tr>\n",
       "    <tr>\n",
       "      <th>4</th>\n",
       "      <td>NCD19</td>\n",
       "      <td>8.93</td>\n",
       "      <td>Low Fat</td>\n",
       "      <td>0.000000</td>\n",
       "      <td>Household</td>\n",
       "      <td>53.8614</td>\n",
       "      <td>OUT013</td>\n",
       "      <td>1987</td>\n",
       "      <td>High</td>\n",
       "      <td>Tier 3</td>\n",
       "      <td>Supermarket Type1</td>\n",
       "      <td>994.7052</td>\n",
       "    </tr>\n",
       "  </tbody>\n",
       "</table>\n",
       "</div>"
      ],
      "text/plain": [
       "  Item_Identifier  Item_Weight Item_Fat_Content  Item_Visibility  \\\n",
       "0           FDA15         9.30          Low Fat         0.016047   \n",
       "1           DRC01         5.92          Regular         0.019278   \n",
       "2           FDN15        17.50          Low Fat         0.016760   \n",
       "3           FDX07        19.20          Regular         0.000000   \n",
       "4           NCD19         8.93          Low Fat         0.000000   \n",
       "\n",
       "               Item_Type  Item_MRP Outlet_Identifier  \\\n",
       "0                  Dairy  249.8092            OUT049   \n",
       "1            Soft Drinks   48.2692            OUT018   \n",
       "2                   Meat  141.6180            OUT049   \n",
       "3  Fruits and Vegetables  182.0950            OUT010   \n",
       "4              Household   53.8614            OUT013   \n",
       "\n",
       "   Outlet_Establishment_Year Outlet_Size Outlet_Location_Type  \\\n",
       "0                       1999      Medium               Tier 1   \n",
       "1                       2009      Medium               Tier 3   \n",
       "2                       1999      Medium               Tier 1   \n",
       "3                       1998         NaN               Tier 3   \n",
       "4                       1987        High               Tier 3   \n",
       "\n",
       "         Outlet_Type  Item_Outlet_Sales  \n",
       "0  Supermarket Type1          3735.1380  \n",
       "1  Supermarket Type2           443.4228  \n",
       "2  Supermarket Type1          2097.2700  \n",
       "3      Grocery Store           732.3800  \n",
       "4  Supermarket Type1           994.7052  "
      ]
     },
     "execution_count": 7,
     "metadata": {},
     "output_type": "execute_result"
    }
   ],
   "source": [
    "df.head()"
   ]
  },
  {
   "cell_type": "code",
   "execution_count": 9,
   "metadata": {
    "colab": {
     "base_uri": "https://localhost:8080/"
    },
    "executionInfo": {
     "elapsed": 10,
     "status": "ok",
     "timestamp": 1644224116463,
     "user": {
      "displayName": "Siddhi Jadhav",
      "photoUrl": "https://lh3.googleusercontent.com/a/default-user=s64",
      "userId": "08402691859170607175"
     },
     "user_tz": -330
    },
    "id": "MLlbwJ8QXaUq",
    "outputId": "5eb5bc18-0c47-47a7-adfa-2e4df46528ac"
   },
   "outputs": [
    {
     "data": {
      "text/plain": [
       "Item_Identifier                 0\n",
       "Item_Weight                  2439\n",
       "Item_Fat_Content                0\n",
       "Item_Visibility                 0\n",
       "Item_Type                       0\n",
       "Item_MRP                        0\n",
       "Outlet_Identifier               0\n",
       "Outlet_Establishment_Year       0\n",
       "Outlet_Size                  4016\n",
       "Outlet_Location_Type            0\n",
       "Outlet_Type                     0\n",
       "Item_Outlet_Sales            5681\n",
       "dtype: int64"
      ]
     },
     "execution_count": 9,
     "metadata": {},
     "output_type": "execute_result"
    }
   ],
   "source": [
    "df.isnull().sum()  \n",
    "#Checks number of null values for all the variables\n",
    "#Item_Weight has 2439 null values \n",
    "#Outlet Size has 4016 null values"
   ]
  },
  {
   "cell_type": "code",
   "execution_count": 10,
   "metadata": {
    "colab": {
     "base_uri": "https://localhost:8080/"
    },
    "executionInfo": {
     "elapsed": 9,
     "status": "ok",
     "timestamp": 1644224116464,
     "user": {
      "displayName": "Siddhi Jadhav",
      "photoUrl": "https://lh3.googleusercontent.com/a/default-user=s64",
      "userId": "08402691859170607175"
     },
     "user_tz": -330
    },
    "id": "jTcjzOsrXaUr",
    "outputId": "239731cc-4545-46cb-c3ef-90af9ac2180d"
   },
   "outputs": [
    {
     "data": {
      "text/plain": [
       "Item_Identifier               1559\n",
       "Item_Weight                    416\n",
       "Item_Fat_Content                 5\n",
       "Item_Visibility              13006\n",
       "Item_Type                       16\n",
       "Item_MRP                      8052\n",
       "Outlet_Identifier               10\n",
       "Outlet_Establishment_Year        9\n",
       "Outlet_Size                      4\n",
       "Outlet_Location_Type             3\n",
       "Outlet_Type                      4\n",
       "Item_Outlet_Sales             3494\n",
       "dtype: int64"
      ]
     },
     "execution_count": 10,
     "metadata": {},
     "output_type": "execute_result"
    }
   ],
   "source": [
    "df.apply(lambda x: len(x.unique()))\n",
    "#Checks the number of unique entries correspnding to each variable"
   ]
  },
  {
   "cell_type": "code",
   "execution_count": 11,
   "metadata": {
    "id": "Iitlz2PwXaUr"
   },
   "outputs": [],
   "source": [
    "#defining a function:\n",
    "#frequency of unique entries in each columns with their names\n",
    "\n",
    "def frequency_each_item(X,Y):\n",
    "    for i in Y:\n",
    "        print(\"frequency of each category for\",i)\n",
    "        print(X[i].value_counts())\n",
    "        print(\"-\"*60)"
   ]
  },
  {
   "cell_type": "code",
   "execution_count": 13,
   "metadata": {
    "colab": {
     "base_uri": "https://localhost:8080/"
    },
    "executionInfo": {
     "elapsed": 7,
     "status": "ok",
     "timestamp": 1644224116464,
     "user": {
      "displayName": "Siddhi Jadhav",
      "photoUrl": "https://lh3.googleusercontent.com/a/default-user=s64",
      "userId": "08402691859170607175"
     },
     "user_tz": -330
    },
    "id": "aayllxueXaUs",
    "outputId": "9096b552-d60e-4b15-aefa-97feb1624f93"
   },
   "outputs": [
    {
     "name": "stdout",
     "output_type": "stream",
     "text": [
      "frequency of each category for Item_Fat_Content\n",
      "Low Fat    8485\n",
      "Regular    4824\n",
      "LF          522\n",
      "reg         195\n",
      "low fat     178\n",
      "Name: Item_Fat_Content, dtype: int64\n",
      "------------------------------------------------------------\n",
      "frequency of each category for Item_Type\n",
      "Fruits and Vegetables    2013\n",
      "Snack Foods              1989\n",
      "Household                1548\n",
      "Frozen Foods             1426\n",
      "Dairy                    1136\n",
      "Baking Goods             1086\n",
      "Canned                   1084\n",
      "Health and Hygiene        858\n",
      "Meat                      736\n",
      "Soft Drinks               726\n",
      "Breads                    416\n",
      "Hard Drinks               362\n",
      "Others                    280\n",
      "Starchy Foods             269\n",
      "Breakfast                 186\n",
      "Seafood                    89\n",
      "Name: Item_Type, dtype: int64\n",
      "------------------------------------------------------------\n",
      "frequency of each category for Outlet_Location_Type\n",
      "Tier 3    5583\n",
      "Tier 2    4641\n",
      "Tier 1    3980\n",
      "Name: Outlet_Location_Type, dtype: int64\n",
      "------------------------------------------------------------\n",
      "frequency of each category for Outlet_Size\n",
      "Medium    4655\n",
      "Small     3980\n",
      "High      1553\n",
      "Name: Outlet_Size, dtype: int64\n",
      "------------------------------------------------------------\n",
      "frequency of each category for Outlet_Type\n",
      "Supermarket Type1    9294\n",
      "Grocery Store        1805\n",
      "Supermarket Type3    1559\n",
      "Supermarket Type2    1546\n",
      "Name: Outlet_Type, dtype: int64\n",
      "------------------------------------------------------------\n"
     ]
    }
   ],
   "source": [
    "#frequency of unique entries in each columns with their names\n",
    "category=['Item_Fat_Content','Item_Type','Outlet_Location_Type','Outlet_Size','Outlet_Type']\n",
    "frequency_each_item(df,category)"
   ]
  },
  {
   "cell_type": "code",
   "execution_count": 14,
   "metadata": {
    "scrolled": true
   },
   "outputs": [
    {
     "data": {
      "text/html": [
       "<div>\n",
       "<style scoped>\n",
       "    .dataframe tbody tr th:only-of-type {\n",
       "        vertical-align: middle;\n",
       "    }\n",
       "\n",
       "    .dataframe tbody tr th {\n",
       "        vertical-align: top;\n",
       "    }\n",
       "\n",
       "    .dataframe thead th {\n",
       "        text-align: right;\n",
       "    }\n",
       "</style>\n",
       "<table border=\"1\" class=\"dataframe\">\n",
       "  <thead>\n",
       "    <tr style=\"text-align: right;\">\n",
       "      <th></th>\n",
       "      <th>Item_Identifier</th>\n",
       "      <th>Item_Weight</th>\n",
       "      <th>Item_Fat_Content</th>\n",
       "      <th>Item_Visibility</th>\n",
       "      <th>Item_Type</th>\n",
       "      <th>Item_MRP</th>\n",
       "      <th>Outlet_Identifier</th>\n",
       "      <th>Outlet_Establishment_Year</th>\n",
       "      <th>Outlet_Size</th>\n",
       "      <th>Outlet_Location_Type</th>\n",
       "      <th>Outlet_Type</th>\n",
       "      <th>Item_Outlet_Sales</th>\n",
       "    </tr>\n",
       "  </thead>\n",
       "  <tbody>\n",
       "    <tr>\n",
       "      <th>0</th>\n",
       "      <td>FDA15</td>\n",
       "      <td>9.300</td>\n",
       "      <td>Low Fat</td>\n",
       "      <td>0.016047</td>\n",
       "      <td>Dairy</td>\n",
       "      <td>249.8092</td>\n",
       "      <td>OUT049</td>\n",
       "      <td>1999</td>\n",
       "      <td>Medium</td>\n",
       "      <td>Tier 1</td>\n",
       "      <td>Supermarket Type1</td>\n",
       "      <td>3735.1380</td>\n",
       "    </tr>\n",
       "    <tr>\n",
       "      <th>1</th>\n",
       "      <td>DRC01</td>\n",
       "      <td>5.920</td>\n",
       "      <td>Regular</td>\n",
       "      <td>0.019278</td>\n",
       "      <td>Soft Drinks</td>\n",
       "      <td>48.2692</td>\n",
       "      <td>OUT018</td>\n",
       "      <td>2009</td>\n",
       "      <td>Medium</td>\n",
       "      <td>Tier 3</td>\n",
       "      <td>Supermarket Type2</td>\n",
       "      <td>443.4228</td>\n",
       "    </tr>\n",
       "    <tr>\n",
       "      <th>2</th>\n",
       "      <td>FDN15</td>\n",
       "      <td>17.500</td>\n",
       "      <td>Low Fat</td>\n",
       "      <td>0.016760</td>\n",
       "      <td>Meat</td>\n",
       "      <td>141.6180</td>\n",
       "      <td>OUT049</td>\n",
       "      <td>1999</td>\n",
       "      <td>Medium</td>\n",
       "      <td>Tier 1</td>\n",
       "      <td>Supermarket Type1</td>\n",
       "      <td>2097.2700</td>\n",
       "    </tr>\n",
       "    <tr>\n",
       "      <th>3</th>\n",
       "      <td>FDX07</td>\n",
       "      <td>19.200</td>\n",
       "      <td>Regular</td>\n",
       "      <td>0.000000</td>\n",
       "      <td>Fruits and Vegetables</td>\n",
       "      <td>182.0950</td>\n",
       "      <td>OUT010</td>\n",
       "      <td>1998</td>\n",
       "      <td>NaN</td>\n",
       "      <td>Tier 3</td>\n",
       "      <td>Grocery Store</td>\n",
       "      <td>732.3800</td>\n",
       "    </tr>\n",
       "    <tr>\n",
       "      <th>4</th>\n",
       "      <td>NCD19</td>\n",
       "      <td>8.930</td>\n",
       "      <td>Low Fat</td>\n",
       "      <td>0.000000</td>\n",
       "      <td>Household</td>\n",
       "      <td>53.8614</td>\n",
       "      <td>OUT013</td>\n",
       "      <td>1987</td>\n",
       "      <td>High</td>\n",
       "      <td>Tier 3</td>\n",
       "      <td>Supermarket Type1</td>\n",
       "      <td>994.7052</td>\n",
       "    </tr>\n",
       "    <tr>\n",
       "      <th>5</th>\n",
       "      <td>FDP36</td>\n",
       "      <td>10.395</td>\n",
       "      <td>Regular</td>\n",
       "      <td>0.000000</td>\n",
       "      <td>Baking Goods</td>\n",
       "      <td>51.4008</td>\n",
       "      <td>OUT018</td>\n",
       "      <td>2009</td>\n",
       "      <td>Medium</td>\n",
       "      <td>Tier 3</td>\n",
       "      <td>Supermarket Type2</td>\n",
       "      <td>556.6088</td>\n",
       "    </tr>\n",
       "    <tr>\n",
       "      <th>6</th>\n",
       "      <td>FDO10</td>\n",
       "      <td>13.650</td>\n",
       "      <td>Regular</td>\n",
       "      <td>0.012741</td>\n",
       "      <td>Snack Foods</td>\n",
       "      <td>57.6588</td>\n",
       "      <td>OUT013</td>\n",
       "      <td>1987</td>\n",
       "      <td>High</td>\n",
       "      <td>Tier 3</td>\n",
       "      <td>Supermarket Type1</td>\n",
       "      <td>343.5528</td>\n",
       "    </tr>\n",
       "    <tr>\n",
       "      <th>7</th>\n",
       "      <td>FDP10</td>\n",
       "      <td>NaN</td>\n",
       "      <td>Low Fat</td>\n",
       "      <td>0.127470</td>\n",
       "      <td>Snack Foods</td>\n",
       "      <td>107.7622</td>\n",
       "      <td>OUT027</td>\n",
       "      <td>1985</td>\n",
       "      <td>Medium</td>\n",
       "      <td>Tier 3</td>\n",
       "      <td>Supermarket Type3</td>\n",
       "      <td>4022.7636</td>\n",
       "    </tr>\n",
       "    <tr>\n",
       "      <th>8</th>\n",
       "      <td>FDH17</td>\n",
       "      <td>16.200</td>\n",
       "      <td>Regular</td>\n",
       "      <td>0.016687</td>\n",
       "      <td>Frozen Foods</td>\n",
       "      <td>96.9726</td>\n",
       "      <td>OUT045</td>\n",
       "      <td>2002</td>\n",
       "      <td>NaN</td>\n",
       "      <td>Tier 2</td>\n",
       "      <td>Supermarket Type1</td>\n",
       "      <td>1076.5986</td>\n",
       "    </tr>\n",
       "    <tr>\n",
       "      <th>9</th>\n",
       "      <td>FDU28</td>\n",
       "      <td>19.200</td>\n",
       "      <td>Regular</td>\n",
       "      <td>0.094450</td>\n",
       "      <td>Frozen Foods</td>\n",
       "      <td>187.8214</td>\n",
       "      <td>OUT017</td>\n",
       "      <td>2007</td>\n",
       "      <td>NaN</td>\n",
       "      <td>Tier 2</td>\n",
       "      <td>Supermarket Type1</td>\n",
       "      <td>4710.5350</td>\n",
       "    </tr>\n",
       "  </tbody>\n",
       "</table>\n",
       "</div>"
      ],
      "text/plain": [
       "  Item_Identifier  Item_Weight Item_Fat_Content  Item_Visibility  \\\n",
       "0           FDA15        9.300          Low Fat         0.016047   \n",
       "1           DRC01        5.920          Regular         0.019278   \n",
       "2           FDN15       17.500          Low Fat         0.016760   \n",
       "3           FDX07       19.200          Regular         0.000000   \n",
       "4           NCD19        8.930          Low Fat         0.000000   \n",
       "5           FDP36       10.395          Regular         0.000000   \n",
       "6           FDO10       13.650          Regular         0.012741   \n",
       "7           FDP10          NaN          Low Fat         0.127470   \n",
       "8           FDH17       16.200          Regular         0.016687   \n",
       "9           FDU28       19.200          Regular         0.094450   \n",
       "\n",
       "               Item_Type  Item_MRP Outlet_Identifier  \\\n",
       "0                  Dairy  249.8092            OUT049   \n",
       "1            Soft Drinks   48.2692            OUT018   \n",
       "2                   Meat  141.6180            OUT049   \n",
       "3  Fruits and Vegetables  182.0950            OUT010   \n",
       "4              Household   53.8614            OUT013   \n",
       "5           Baking Goods   51.4008            OUT018   \n",
       "6            Snack Foods   57.6588            OUT013   \n",
       "7            Snack Foods  107.7622            OUT027   \n",
       "8           Frozen Foods   96.9726            OUT045   \n",
       "9           Frozen Foods  187.8214            OUT017   \n",
       "\n",
       "   Outlet_Establishment_Year Outlet_Size Outlet_Location_Type  \\\n",
       "0                       1999      Medium               Tier 1   \n",
       "1                       2009      Medium               Tier 3   \n",
       "2                       1999      Medium               Tier 1   \n",
       "3                       1998         NaN               Tier 3   \n",
       "4                       1987        High               Tier 3   \n",
       "5                       2009      Medium               Tier 3   \n",
       "6                       1987        High               Tier 3   \n",
       "7                       1985      Medium               Tier 3   \n",
       "8                       2002         NaN               Tier 2   \n",
       "9                       2007         NaN               Tier 2   \n",
       "\n",
       "         Outlet_Type  Item_Outlet_Sales  \n",
       "0  Supermarket Type1          3735.1380  \n",
       "1  Supermarket Type2           443.4228  \n",
       "2  Supermarket Type1          2097.2700  \n",
       "3      Grocery Store           732.3800  \n",
       "4  Supermarket Type1           994.7052  \n",
       "5  Supermarket Type2           556.6088  \n",
       "6  Supermarket Type1           343.5528  \n",
       "7  Supermarket Type3          4022.7636  \n",
       "8  Supermarket Type1          1076.5986  \n",
       "9  Supermarket Type1          4710.5350  "
      ]
     },
     "execution_count": 14,
     "metadata": {},
     "output_type": "execute_result"
    }
   ],
   "source": [
    "df.head(10)"
   ]
  },
  {
   "cell_type": "markdown",
   "metadata": {},
   "source": [
    "## Sanity Check"
   ]
  },
  {
   "cell_type": "code",
   "execution_count": 15,
   "metadata": {},
   "outputs": [
    {
     "name": "stdout",
     "output_type": "stream",
     "text": [
      "<class 'pandas.core.frame.DataFrame'>\n",
      "RangeIndex: 14204 entries, 0 to 14203\n",
      "Data columns (total 12 columns):\n",
      " #   Column                     Non-Null Count  Dtype  \n",
      "---  ------                     --------------  -----  \n",
      " 0   Item_Identifier            14204 non-null  object \n",
      " 1   Item_Weight                11765 non-null  float64\n",
      " 2   Item_Fat_Content           14204 non-null  object \n",
      " 3   Item_Visibility            14204 non-null  float64\n",
      " 4   Item_Type                  14204 non-null  object \n",
      " 5   Item_MRP                   14204 non-null  float64\n",
      " 6   Outlet_Identifier          14204 non-null  object \n",
      " 7   Outlet_Establishment_Year  14204 non-null  int64  \n",
      " 8   Outlet_Size                10188 non-null  object \n",
      " 9   Outlet_Location_Type       14204 non-null  object \n",
      " 10  Outlet_Type                14204 non-null  object \n",
      " 11  Item_Outlet_Sales          8523 non-null   float64\n",
      "dtypes: float64(4), int64(1), object(7)\n",
      "memory usage: 1.3+ MB\n"
     ]
    }
   ],
   "source": [
    "df.info()"
   ]
  },
  {
   "cell_type": "markdown",
   "metadata": {},
   "source": [
    "### Fixing Inconsistencies in \"Item_Fat_Content\""
   ]
  },
  {
   "cell_type": "code",
   "execution_count": 17,
   "metadata": {
    "colab": {
     "base_uri": "https://localhost:8080/",
     "height": 206
    },
    "executionInfo": {
     "elapsed": 12,
     "status": "ok",
     "timestamp": 1644224117792,
     "user": {
      "displayName": "Siddhi Jadhav",
      "photoUrl": "https://lh3.googleusercontent.com/a/default-user=s64",
      "userId": "08402691859170607175"
     },
     "user_tz": -330
    },
    "id": "O8l2BFUuXaUt",
    "outputId": "689c97d6-8867-417a-a4be-a9ac3b100492"
   },
   "outputs": [
    {
     "data": {
      "text/plain": [
       "Low Fat    9185\n",
       "Regular    5019\n",
       "Name: Item_Fat_Content, dtype: int64"
      ]
     },
     "execution_count": 17,
     "metadata": {},
     "output_type": "execute_result"
    }
   ],
   "source": [
    "# Correcting the mis-written datas\n",
    "df['Item_Fat_Content'].replace(to_replace =['low fat','reg','LF'], \n",
    "                 value =['Low Fat','Regular','Low Fat'],inplace=True)\n",
    "df['Item_Fat_Content'].value_counts()"
   ]
  },
  {
   "cell_type": "markdown",
   "metadata": {},
   "source": [
    "### Handling Missing Value for \"Outlet_Size\""
   ]
  },
  {
   "cell_type": "code",
   "execution_count": 19,
   "metadata": {},
   "outputs": [
    {
     "name": "stdout",
     "output_type": "stream",
     "text": [
      "Outlet_Type\n",
      "Grocery Store         Small\n",
      "Supermarket Type1     Small\n",
      "Supermarket Type2    Medium\n",
      "Supermarket Type3    Medium\n",
      "Name: Outlet_Size, dtype: object\n"
     ]
    },
    {
     "data": {
      "text/plain": [
       "0"
      ]
     },
     "execution_count": 19,
     "metadata": {},
     "output_type": "execute_result"
    }
   ],
   "source": [
    "mode_Outlet_Size= df.groupby(['Outlet_Type'])['Outlet_Size'].agg(pd.Series.mode)\n",
    "print(mode_Outlet_Size)\n",
    "bool2=df['Outlet_Size'].isnull()\n",
    "df['Outlet_Size'][bool2]=df['Outlet_Type'][bool2].apply(lambda x : mode_Outlet_Size.loc[x]).values\n",
    "sum(df['Outlet_Size'].isnull())"
   ]
  },
  {
   "cell_type": "markdown",
   "metadata": {},
   "source": [
    "### Handling Missing Value for \"Item_Weight\""
   ]
  },
  {
   "cell_type": "code",
   "execution_count": 20,
   "metadata": {
    "colab": {
     "base_uri": "https://localhost:8080/"
    },
    "executionInfo": {
     "elapsed": 10,
     "status": "ok",
     "timestamp": 1644224117792,
     "user": {
      "displayName": "Siddhi Jadhav",
      "photoUrl": "https://lh3.googleusercontent.com/a/default-user=s64",
      "userId": "08402691859170607175"
     },
     "user_tz": -330
    },
    "id": "lYPt9iRtXaUt",
    "outputId": "5d55fc89-570a-493b-c5d5-64f486f85c98",
    "scrolled": true
   },
   "outputs": [
    {
     "name": "stdout",
     "output_type": "stream",
     "text": [
      "Item_Identifier\n",
      "DRA12    11.600\n",
      "DRA24    19.350\n",
      "DRA59     8.270\n",
      "DRB01     7.390\n",
      "DRB13     6.115\n",
      "          ...  \n",
      "NCZ30     6.590\n",
      "NCZ41    19.850\n",
      "NCZ42    10.500\n",
      "NCZ53     9.600\n",
      "NCZ54    14.650\n",
      "Name: Item_Weight, Length: 1559, dtype: float64\n"
     ]
    },
    {
     "data": {
      "text/plain": [
       "0"
      ]
     },
     "execution_count": 20,
     "metadata": {},
     "output_type": "execute_result"
    }
   ],
   "source": [
    "avg_item_weight=df.groupby('Item_Identifier')['Item_Weight'].agg(np.mean)\n",
    "print(avg_item_weight)\n",
    "bool_value= df['Item_Weight'].isnull()\n",
    "df['Item_Weight'][bool_value]=df['Item_Identifier'][bool_value].apply(lambda x :avg_item_weight.loc[x]).values\n",
    "sum(df['Item_Weight'].isnull())"
   ]
  },
  {
   "cell_type": "code",
   "execution_count": 22,
   "metadata": {},
   "outputs": [
    {
     "data": {
      "text/html": [
       "<div>\n",
       "<style scoped>\n",
       "    .dataframe tbody tr th:only-of-type {\n",
       "        vertical-align: middle;\n",
       "    }\n",
       "\n",
       "    .dataframe tbody tr th {\n",
       "        vertical-align: top;\n",
       "    }\n",
       "\n",
       "    .dataframe thead th {\n",
       "        text-align: right;\n",
       "    }\n",
       "</style>\n",
       "<table border=\"1\" class=\"dataframe\">\n",
       "  <thead>\n",
       "    <tr style=\"text-align: right;\">\n",
       "      <th></th>\n",
       "      <th>Item_Identifier</th>\n",
       "      <th>Item_Weight</th>\n",
       "      <th>Item_Fat_Content</th>\n",
       "      <th>Item_Visibility</th>\n",
       "      <th>Item_Type</th>\n",
       "      <th>Item_MRP</th>\n",
       "      <th>Outlet_Identifier</th>\n",
       "      <th>Outlet_Establishment_Year</th>\n",
       "      <th>Outlet_Size</th>\n",
       "      <th>Outlet_Location_Type</th>\n",
       "      <th>Outlet_Type</th>\n",
       "      <th>Item_Outlet_Sales</th>\n",
       "    </tr>\n",
       "  </thead>\n",
       "  <tbody>\n",
       "    <tr>\n",
       "      <th>11187</th>\n",
       "      <td>FDT22</td>\n",
       "      <td>10.395</td>\n",
       "      <td>Low Fat</td>\n",
       "      <td>0.112004</td>\n",
       "      <td>Snack Foods</td>\n",
       "      <td>58.0220</td>\n",
       "      <td>OUT013</td>\n",
       "      <td>1987</td>\n",
       "      <td>High</td>\n",
       "      <td>Tier 3</td>\n",
       "      <td>Supermarket Type1</td>\n",
       "      <td>NaN</td>\n",
       "    </tr>\n",
       "    <tr>\n",
       "      <th>4752</th>\n",
       "      <td>FDQ51</td>\n",
       "      <td>16.000</td>\n",
       "      <td>Regular</td>\n",
       "      <td>0.000000</td>\n",
       "      <td>Meat</td>\n",
       "      <td>48.1718</td>\n",
       "      <td>OUT017</td>\n",
       "      <td>2007</td>\n",
       "      <td>Small</td>\n",
       "      <td>Tier 2</td>\n",
       "      <td>Supermarket Type1</td>\n",
       "      <td>756.3488</td>\n",
       "    </tr>\n",
       "    <tr>\n",
       "      <th>8088</th>\n",
       "      <td>FDY15</td>\n",
       "      <td>18.250</td>\n",
       "      <td>Regular</td>\n",
       "      <td>0.171524</td>\n",
       "      <td>Dairy</td>\n",
       "      <td>155.8630</td>\n",
       "      <td>OUT018</td>\n",
       "      <td>2009</td>\n",
       "      <td>Medium</td>\n",
       "      <td>Tier 3</td>\n",
       "      <td>Supermarket Type2</td>\n",
       "      <td>2346.9450</td>\n",
       "    </tr>\n",
       "    <tr>\n",
       "      <th>9373</th>\n",
       "      <td>FDQ21</td>\n",
       "      <td>21.250</td>\n",
       "      <td>Low Fat</td>\n",
       "      <td>0.000000</td>\n",
       "      <td>Snack Foods</td>\n",
       "      <td>123.1756</td>\n",
       "      <td>OUT027</td>\n",
       "      <td>1985</td>\n",
       "      <td>Medium</td>\n",
       "      <td>Tier 3</td>\n",
       "      <td>Supermarket Type3</td>\n",
       "      <td>NaN</td>\n",
       "    </tr>\n",
       "    <tr>\n",
       "      <th>8418</th>\n",
       "      <td>DRJ25</td>\n",
       "      <td>14.600</td>\n",
       "      <td>Low Fat</td>\n",
       "      <td>0.151181</td>\n",
       "      <td>Soft Drinks</td>\n",
       "      <td>47.5692</td>\n",
       "      <td>OUT018</td>\n",
       "      <td>2009</td>\n",
       "      <td>Medium</td>\n",
       "      <td>Tier 3</td>\n",
       "      <td>Supermarket Type2</td>\n",
       "      <td>443.4228</td>\n",
       "    </tr>\n",
       "    <tr>\n",
       "      <th>2664</th>\n",
       "      <td>FDW24</td>\n",
       "      <td>6.800</td>\n",
       "      <td>Low Fat</td>\n",
       "      <td>0.037490</td>\n",
       "      <td>Baking Goods</td>\n",
       "      <td>48.6034</td>\n",
       "      <td>OUT035</td>\n",
       "      <td>2004</td>\n",
       "      <td>Small</td>\n",
       "      <td>Tier 2</td>\n",
       "      <td>Supermarket Type1</td>\n",
       "      <td>291.6204</td>\n",
       "    </tr>\n",
       "    <tr>\n",
       "      <th>10628</th>\n",
       "      <td>FDF26</td>\n",
       "      <td>6.825</td>\n",
       "      <td>Regular</td>\n",
       "      <td>0.046635</td>\n",
       "      <td>Canned</td>\n",
       "      <td>153.5998</td>\n",
       "      <td>OUT046</td>\n",
       "      <td>1997</td>\n",
       "      <td>Small</td>\n",
       "      <td>Tier 1</td>\n",
       "      <td>Supermarket Type1</td>\n",
       "      <td>NaN</td>\n",
       "    </tr>\n",
       "    <tr>\n",
       "      <th>8500</th>\n",
       "      <td>NCQ42</td>\n",
       "      <td>20.350</td>\n",
       "      <td>Low Fat</td>\n",
       "      <td>0.000000</td>\n",
       "      <td>Household</td>\n",
       "      <td>125.1678</td>\n",
       "      <td>OUT017</td>\n",
       "      <td>2007</td>\n",
       "      <td>Small</td>\n",
       "      <td>Tier 2</td>\n",
       "      <td>Supermarket Type1</td>\n",
       "      <td>1907.5170</td>\n",
       "    </tr>\n",
       "  </tbody>\n",
       "</table>\n",
       "</div>"
      ],
      "text/plain": [
       "      Item_Identifier  Item_Weight Item_Fat_Content  Item_Visibility  \\\n",
       "11187           FDT22       10.395          Low Fat         0.112004   \n",
       "4752            FDQ51       16.000          Regular         0.000000   \n",
       "8088            FDY15       18.250          Regular         0.171524   \n",
       "9373            FDQ21       21.250          Low Fat         0.000000   \n",
       "8418            DRJ25       14.600          Low Fat         0.151181   \n",
       "2664            FDW24        6.800          Low Fat         0.037490   \n",
       "10628           FDF26        6.825          Regular         0.046635   \n",
       "8500            NCQ42       20.350          Low Fat         0.000000   \n",
       "\n",
       "          Item_Type  Item_MRP Outlet_Identifier  Outlet_Establishment_Year  \\\n",
       "11187   Snack Foods   58.0220            OUT013                       1987   \n",
       "4752           Meat   48.1718            OUT017                       2007   \n",
       "8088          Dairy  155.8630            OUT018                       2009   \n",
       "9373    Snack Foods  123.1756            OUT027                       1985   \n",
       "8418    Soft Drinks   47.5692            OUT018                       2009   \n",
       "2664   Baking Goods   48.6034            OUT035                       2004   \n",
       "10628        Canned  153.5998            OUT046                       1997   \n",
       "8500      Household  125.1678            OUT017                       2007   \n",
       "\n",
       "      Outlet_Size Outlet_Location_Type        Outlet_Type  Item_Outlet_Sales  \n",
       "11187        High               Tier 3  Supermarket Type1                NaN  \n",
       "4752        Small               Tier 2  Supermarket Type1           756.3488  \n",
       "8088       Medium               Tier 3  Supermarket Type2          2346.9450  \n",
       "9373       Medium               Tier 3  Supermarket Type3                NaN  \n",
       "8418       Medium               Tier 3  Supermarket Type2           443.4228  \n",
       "2664        Small               Tier 2  Supermarket Type1           291.6204  \n",
       "10628       Small               Tier 1  Supermarket Type1                NaN  \n",
       "8500        Small               Tier 2  Supermarket Type1          1907.5170  "
      ]
     },
     "execution_count": 22,
     "metadata": {},
     "output_type": "execute_result"
    }
   ],
   "source": [
    "df.sample(8)"
   ]
  },
  {
   "cell_type": "code",
   "execution_count": 23,
   "metadata": {
    "colab": {
     "base_uri": "https://localhost:8080/",
     "height": 206
    },
    "executionInfo": {
     "elapsed": 10,
     "status": "ok",
     "timestamp": 1644224117793,
     "user": {
      "displayName": "Siddhi Jadhav",
      "photoUrl": "https://lh3.googleusercontent.com/a/default-user=s64",
      "userId": "08402691859170607175"
     },
     "user_tz": -330
    },
    "id": "MVBGehfsXaUt",
    "outputId": "d4cb9981-abc3-489d-979d-1bdfbf51d9b3"
   },
   "outputs": [
    {
     "data": {
      "text/html": [
       "<div>\n",
       "<style scoped>\n",
       "    .dataframe tbody tr th:only-of-type {\n",
       "        vertical-align: middle;\n",
       "    }\n",
       "\n",
       "    .dataframe tbody tr th {\n",
       "        vertical-align: top;\n",
       "    }\n",
       "\n",
       "    .dataframe thead th {\n",
       "        text-align: right;\n",
       "    }\n",
       "</style>\n",
       "<table border=\"1\" class=\"dataframe\">\n",
       "  <thead>\n",
       "    <tr style=\"text-align: right;\">\n",
       "      <th></th>\n",
       "      <th>Item_Identifier</th>\n",
       "      <th>Item_Weight</th>\n",
       "      <th>Item_Fat_Content</th>\n",
       "      <th>Item_Visibility</th>\n",
       "      <th>Item_MRP</th>\n",
       "      <th>Outlet_Identifier</th>\n",
       "      <th>Outlet_Establishment_Year</th>\n",
       "      <th>Outlet_Size</th>\n",
       "      <th>Outlet_Location_Type</th>\n",
       "      <th>Outlet_Type</th>\n",
       "      <th>Item_Outlet_Sales</th>\n",
       "      <th>Item_Type_combined</th>\n",
       "    </tr>\n",
       "  </thead>\n",
       "  <tbody>\n",
       "    <tr>\n",
       "      <th>0</th>\n",
       "      <td>FDA15</td>\n",
       "      <td>9.30</td>\n",
       "      <td>Low Fat</td>\n",
       "      <td>0.016047</td>\n",
       "      <td>249.8092</td>\n",
       "      <td>OUT049</td>\n",
       "      <td>1999</td>\n",
       "      <td>Medium</td>\n",
       "      <td>Tier 1</td>\n",
       "      <td>Supermarket Type1</td>\n",
       "      <td>3735.1380</td>\n",
       "      <td>Food</td>\n",
       "    </tr>\n",
       "    <tr>\n",
       "      <th>1</th>\n",
       "      <td>DRC01</td>\n",
       "      <td>5.92</td>\n",
       "      <td>Regular</td>\n",
       "      <td>0.019278</td>\n",
       "      <td>48.2692</td>\n",
       "      <td>OUT018</td>\n",
       "      <td>2009</td>\n",
       "      <td>Medium</td>\n",
       "      <td>Tier 3</td>\n",
       "      <td>Supermarket Type2</td>\n",
       "      <td>443.4228</td>\n",
       "      <td>Drinks</td>\n",
       "    </tr>\n",
       "    <tr>\n",
       "      <th>2</th>\n",
       "      <td>FDN15</td>\n",
       "      <td>17.50</td>\n",
       "      <td>Low Fat</td>\n",
       "      <td>0.016760</td>\n",
       "      <td>141.6180</td>\n",
       "      <td>OUT049</td>\n",
       "      <td>1999</td>\n",
       "      <td>Medium</td>\n",
       "      <td>Tier 1</td>\n",
       "      <td>Supermarket Type1</td>\n",
       "      <td>2097.2700</td>\n",
       "      <td>Food</td>\n",
       "    </tr>\n",
       "    <tr>\n",
       "      <th>3</th>\n",
       "      <td>FDX07</td>\n",
       "      <td>19.20</td>\n",
       "      <td>Regular</td>\n",
       "      <td>0.000000</td>\n",
       "      <td>182.0950</td>\n",
       "      <td>OUT010</td>\n",
       "      <td>1998</td>\n",
       "      <td>Small</td>\n",
       "      <td>Tier 3</td>\n",
       "      <td>Grocery Store</td>\n",
       "      <td>732.3800</td>\n",
       "      <td>Food</td>\n",
       "    </tr>\n",
       "    <tr>\n",
       "      <th>4</th>\n",
       "      <td>NCD19</td>\n",
       "      <td>8.93</td>\n",
       "      <td>Low Fat</td>\n",
       "      <td>0.000000</td>\n",
       "      <td>53.8614</td>\n",
       "      <td>OUT013</td>\n",
       "      <td>1987</td>\n",
       "      <td>High</td>\n",
       "      <td>Tier 3</td>\n",
       "      <td>Supermarket Type1</td>\n",
       "      <td>994.7052</td>\n",
       "      <td>Non_consumable</td>\n",
       "    </tr>\n",
       "  </tbody>\n",
       "</table>\n",
       "</div>"
      ],
      "text/plain": [
       "  Item_Identifier  Item_Weight Item_Fat_Content  Item_Visibility  Item_MRP  \\\n",
       "0           FDA15         9.30          Low Fat         0.016047  249.8092   \n",
       "1           DRC01         5.92          Regular         0.019278   48.2692   \n",
       "2           FDN15        17.50          Low Fat         0.016760  141.6180   \n",
       "3           FDX07        19.20          Regular         0.000000  182.0950   \n",
       "4           NCD19         8.93          Low Fat         0.000000   53.8614   \n",
       "\n",
       "  Outlet_Identifier  Outlet_Establishment_Year Outlet_Size  \\\n",
       "0            OUT049                       1999      Medium   \n",
       "1            OUT018                       2009      Medium   \n",
       "2            OUT049                       1999      Medium   \n",
       "3            OUT010                       1998       Small   \n",
       "4            OUT013                       1987        High   \n",
       "\n",
       "  Outlet_Location_Type        Outlet_Type  Item_Outlet_Sales  \\\n",
       "0               Tier 1  Supermarket Type1          3735.1380   \n",
       "1               Tier 3  Supermarket Type2           443.4228   \n",
       "2               Tier 1  Supermarket Type1          2097.2700   \n",
       "3               Tier 3      Grocery Store           732.3800   \n",
       "4               Tier 3  Supermarket Type1           994.7052   \n",
       "\n",
       "  Item_Type_combined  \n",
       "0               Food  \n",
       "1             Drinks  \n",
       "2               Food  \n",
       "3               Food  \n",
       "4     Non_consumable  "
      ]
     },
     "execution_count": 23,
     "metadata": {},
     "output_type": "execute_result"
    }
   ],
   "source": [
    "#Reducing food category to only 3 types with the help of the first 2 alphabets of the Item_Identifier column\n",
    "\n",
    "df['Item_Type_combined']=df['Item_Identifier'].apply(lambda x : x[0:2])\n",
    "df['Item_Type_combined'].replace(to_replace =['FD','DR','NC'], \n",
    "                 value =['Food','Drinks','Non_consumable'],inplace=True)\n",
    " #dropping the redundant column\n",
    "df=df.drop(columns=['Item_Type'])     \n",
    "df.head()"
   ]
  },
  {
   "cell_type": "code",
   "execution_count": 24,
   "metadata": {
    "colab": {
     "base_uri": "https://localhost:8080/"
    },
    "executionInfo": {
     "elapsed": 9,
     "status": "ok",
     "timestamp": 1644224117793,
     "user": {
      "displayName": "Siddhi Jadhav",
      "photoUrl": "https://lh3.googleusercontent.com/a/default-user=s64",
      "userId": "08402691859170607175"
     },
     "user_tz": -330
    },
    "id": "AhZkA9G9XaUu",
    "outputId": "7d059904-6780-4bbc-fa43-c00310bb80e8"
   },
   "outputs": [
    {
     "data": {
      "text/plain": [
       "Low Fat       6499\n",
       "Regular       5019\n",
       "Non_edible    2686\n",
       "Name: Item_Fat_Content, dtype: int64"
      ]
     },
     "execution_count": 24,
     "metadata": {},
     "output_type": "execute_result"
    }
   ],
   "source": [
    "#Calculating number of Item_fat_contents that are also non_consumable\n",
    "\n",
    "bool3=df['Item_Type_combined']=='Non_consumable'\n",
    "\n",
    "df['Item_Fat_Content'][bool3]='Non_edible'\n",
    "df['Item_Fat_Content'].value_counts()"
   ]
  },
  {
   "cell_type": "code",
   "execution_count": 25,
   "metadata": {
    "colab": {
     "base_uri": "https://localhost:8080/",
     "height": 206
    },
    "executionInfo": {
     "elapsed": 7,
     "status": "ok",
     "timestamp": 1644224117793,
     "user": {
      "displayName": "Siddhi Jadhav",
      "photoUrl": "https://lh3.googleusercontent.com/a/default-user=s64",
      "userId": "08402691859170607175"
     },
     "user_tz": -330
    },
    "id": "5uAB1aDWXaUu",
    "outputId": "6910e3d2-d7d5-489a-e080-00a69dfd2e3d"
   },
   "outputs": [
    {
     "data": {
      "text/html": [
       "<div>\n",
       "<style scoped>\n",
       "    .dataframe tbody tr th:only-of-type {\n",
       "        vertical-align: middle;\n",
       "    }\n",
       "\n",
       "    .dataframe tbody tr th {\n",
       "        vertical-align: top;\n",
       "    }\n",
       "\n",
       "    .dataframe thead th {\n",
       "        text-align: right;\n",
       "    }\n",
       "</style>\n",
       "<table border=\"1\" class=\"dataframe\">\n",
       "  <thead>\n",
       "    <tr style=\"text-align: right;\">\n",
       "      <th></th>\n",
       "      <th>Item_Identifier</th>\n",
       "      <th>Item_Weight</th>\n",
       "      <th>Item_Fat_Content</th>\n",
       "      <th>Item_Visibility</th>\n",
       "      <th>Item_MRP</th>\n",
       "      <th>Outlet_Identifier</th>\n",
       "      <th>Outlet_Size</th>\n",
       "      <th>Outlet_Location_Type</th>\n",
       "      <th>Outlet_Type</th>\n",
       "      <th>Item_Outlet_Sales</th>\n",
       "      <th>Item_Type_combined</th>\n",
       "      <th>years_old</th>\n",
       "    </tr>\n",
       "  </thead>\n",
       "  <tbody>\n",
       "    <tr>\n",
       "      <th>0</th>\n",
       "      <td>FDA15</td>\n",
       "      <td>9.30</td>\n",
       "      <td>Low Fat</td>\n",
       "      <td>0.016047</td>\n",
       "      <td>249.8092</td>\n",
       "      <td>OUT049</td>\n",
       "      <td>Medium</td>\n",
       "      <td>Tier 1</td>\n",
       "      <td>Supermarket Type1</td>\n",
       "      <td>3735.1380</td>\n",
       "      <td>Food</td>\n",
       "      <td>14</td>\n",
       "    </tr>\n",
       "    <tr>\n",
       "      <th>1</th>\n",
       "      <td>DRC01</td>\n",
       "      <td>5.92</td>\n",
       "      <td>Regular</td>\n",
       "      <td>0.019278</td>\n",
       "      <td>48.2692</td>\n",
       "      <td>OUT018</td>\n",
       "      <td>Medium</td>\n",
       "      <td>Tier 3</td>\n",
       "      <td>Supermarket Type2</td>\n",
       "      <td>443.4228</td>\n",
       "      <td>Drinks</td>\n",
       "      <td>4</td>\n",
       "    </tr>\n",
       "    <tr>\n",
       "      <th>2</th>\n",
       "      <td>FDN15</td>\n",
       "      <td>17.50</td>\n",
       "      <td>Low Fat</td>\n",
       "      <td>0.016760</td>\n",
       "      <td>141.6180</td>\n",
       "      <td>OUT049</td>\n",
       "      <td>Medium</td>\n",
       "      <td>Tier 1</td>\n",
       "      <td>Supermarket Type1</td>\n",
       "      <td>2097.2700</td>\n",
       "      <td>Food</td>\n",
       "      <td>14</td>\n",
       "    </tr>\n",
       "    <tr>\n",
       "      <th>3</th>\n",
       "      <td>FDX07</td>\n",
       "      <td>19.20</td>\n",
       "      <td>Regular</td>\n",
       "      <td>0.000000</td>\n",
       "      <td>182.0950</td>\n",
       "      <td>OUT010</td>\n",
       "      <td>Small</td>\n",
       "      <td>Tier 3</td>\n",
       "      <td>Grocery Store</td>\n",
       "      <td>732.3800</td>\n",
       "      <td>Food</td>\n",
       "      <td>15</td>\n",
       "    </tr>\n",
       "    <tr>\n",
       "      <th>4</th>\n",
       "      <td>NCD19</td>\n",
       "      <td>8.93</td>\n",
       "      <td>Non_edible</td>\n",
       "      <td>0.000000</td>\n",
       "      <td>53.8614</td>\n",
       "      <td>OUT013</td>\n",
       "      <td>High</td>\n",
       "      <td>Tier 3</td>\n",
       "      <td>Supermarket Type1</td>\n",
       "      <td>994.7052</td>\n",
       "      <td>Non_consumable</td>\n",
       "      <td>26</td>\n",
       "    </tr>\n",
       "  </tbody>\n",
       "</table>\n",
       "</div>"
      ],
      "text/plain": [
       "  Item_Identifier  Item_Weight Item_Fat_Content  Item_Visibility  Item_MRP  \\\n",
       "0           FDA15         9.30          Low Fat         0.016047  249.8092   \n",
       "1           DRC01         5.92          Regular         0.019278   48.2692   \n",
       "2           FDN15        17.50          Low Fat         0.016760  141.6180   \n",
       "3           FDX07        19.20          Regular         0.000000  182.0950   \n",
       "4           NCD19         8.93       Non_edible         0.000000   53.8614   \n",
       "\n",
       "  Outlet_Identifier Outlet_Size Outlet_Location_Type        Outlet_Type  \\\n",
       "0            OUT049      Medium               Tier 1  Supermarket Type1   \n",
       "1            OUT018      Medium               Tier 3  Supermarket Type2   \n",
       "2            OUT049      Medium               Tier 1  Supermarket Type1   \n",
       "3            OUT010       Small               Tier 3      Grocery Store   \n",
       "4            OUT013        High               Tier 3  Supermarket Type1   \n",
       "\n",
       "   Item_Outlet_Sales Item_Type_combined  years_old  \n",
       "0          3735.1380               Food         14  \n",
       "1           443.4228             Drinks          4  \n",
       "2          2097.2700               Food         14  \n",
       "3           732.3800               Food         15  \n",
       "4           994.7052     Non_consumable         26  "
      ]
     },
     "execution_count": 25,
     "metadata": {},
     "output_type": "execute_result"
    }
   ],
   "source": [
    "#Using feature Engineering and adding new column\n",
    "df['years_old']=2013-df['Outlet_Establishment_Year']\n",
    "df=df.drop(columns=['Outlet_Establishment_Year'])\n",
    "df.head()"
   ]
  },
  {
   "cell_type": "code",
   "execution_count": 26,
   "metadata": {},
   "outputs": [
    {
     "name": "stdout",
     "output_type": "stream",
     "text": [
      "<class 'pandas.core.frame.DataFrame'>\n",
      "RangeIndex: 14204 entries, 0 to 14203\n",
      "Data columns (total 12 columns):\n",
      " #   Column                Non-Null Count  Dtype  \n",
      "---  ------                --------------  -----  \n",
      " 0   Item_Identifier       14204 non-null  object \n",
      " 1   Item_Weight           14204 non-null  float64\n",
      " 2   Item_Fat_Content      14204 non-null  object \n",
      " 3   Item_Visibility       14204 non-null  float64\n",
      " 4   Item_MRP              14204 non-null  float64\n",
      " 5   Outlet_Identifier     14204 non-null  object \n",
      " 6   Outlet_Size           14204 non-null  object \n",
      " 7   Outlet_Location_Type  14204 non-null  object \n",
      " 8   Outlet_Type           14204 non-null  object \n",
      " 9   Item_Outlet_Sales     8523 non-null   float64\n",
      " 10  Item_Type_combined    14204 non-null  object \n",
      " 11  years_old             14204 non-null  int64  \n",
      "dtypes: float64(4), int64(1), object(7)\n",
      "memory usage: 1.3+ MB\n"
     ]
    }
   ],
   "source": [
    "df.info()"
   ]
  },
  {
   "cell_type": "code",
   "execution_count": 27,
   "metadata": {
    "colab": {
     "base_uri": "https://localhost:8080/",
     "height": 501
    },
    "executionInfo": {
     "elapsed": 993,
     "status": "ok",
     "timestamp": 1644224118779,
     "user": {
      "displayName": "Siddhi Jadhav",
      "photoUrl": "https://lh3.googleusercontent.com/a/default-user=s64",
      "userId": "08402691859170607175"
     },
     "user_tz": -330
    },
    "id": "nHN-n5XuXaUv",
    "outputId": "b962ad3c-029b-4a3f-af3f-80d0b1e7ba42",
    "scrolled": false
   },
   "outputs": [
    {
     "data": {
      "text/html": [
       "<div>\n",
       "<style scoped>\n",
       "    .dataframe tbody tr th:only-of-type {\n",
       "        vertical-align: middle;\n",
       "    }\n",
       "\n",
       "    .dataframe tbody tr th {\n",
       "        vertical-align: top;\n",
       "    }\n",
       "\n",
       "    .dataframe thead th {\n",
       "        text-align: right;\n",
       "    }\n",
       "</style>\n",
       "<table border=\"1\" class=\"dataframe\">\n",
       "  <thead>\n",
       "    <tr style=\"text-align: right;\">\n",
       "      <th></th>\n",
       "      <th>Item_Identifier</th>\n",
       "      <th>Item_Weight</th>\n",
       "      <th>Item_Fat_Content</th>\n",
       "      <th>Item_Visibility</th>\n",
       "      <th>Item_MRP</th>\n",
       "      <th>Outlet_Identifier</th>\n",
       "      <th>Outlet_Size</th>\n",
       "      <th>Outlet_Location_Type</th>\n",
       "      <th>Outlet_Type</th>\n",
       "      <th>Item_Outlet_Sales</th>\n",
       "      <th>Item_Type_combined</th>\n",
       "      <th>years_old</th>\n",
       "    </tr>\n",
       "  </thead>\n",
       "  <tbody>\n",
       "    <tr>\n",
       "      <th>0</th>\n",
       "      <td>FDA15</td>\n",
       "      <td>9.30</td>\n",
       "      <td>Low Fat</td>\n",
       "      <td>0.016047</td>\n",
       "      <td>249.8092</td>\n",
       "      <td>OUT049</td>\n",
       "      <td>Medium</td>\n",
       "      <td>Tier 1</td>\n",
       "      <td>Supermarket Type1</td>\n",
       "      <td>3735.1380</td>\n",
       "      <td>Food</td>\n",
       "      <td>14</td>\n",
       "    </tr>\n",
       "    <tr>\n",
       "      <th>1</th>\n",
       "      <td>DRC01</td>\n",
       "      <td>5.92</td>\n",
       "      <td>Regular</td>\n",
       "      <td>0.019278</td>\n",
       "      <td>48.2692</td>\n",
       "      <td>OUT018</td>\n",
       "      <td>Medium</td>\n",
       "      <td>Tier 3</td>\n",
       "      <td>Supermarket Type2</td>\n",
       "      <td>443.4228</td>\n",
       "      <td>Drinks</td>\n",
       "      <td>4</td>\n",
       "    </tr>\n",
       "    <tr>\n",
       "      <th>2</th>\n",
       "      <td>FDN15</td>\n",
       "      <td>17.50</td>\n",
       "      <td>Low Fat</td>\n",
       "      <td>0.016760</td>\n",
       "      <td>141.6180</td>\n",
       "      <td>OUT049</td>\n",
       "      <td>Medium</td>\n",
       "      <td>Tier 1</td>\n",
       "      <td>Supermarket Type1</td>\n",
       "      <td>2097.2700</td>\n",
       "      <td>Food</td>\n",
       "      <td>14</td>\n",
       "    </tr>\n",
       "    <tr>\n",
       "      <th>3</th>\n",
       "      <td>FDX07</td>\n",
       "      <td>19.20</td>\n",
       "      <td>Regular</td>\n",
       "      <td>0.017834</td>\n",
       "      <td>182.0950</td>\n",
       "      <td>OUT010</td>\n",
       "      <td>Small</td>\n",
       "      <td>Tier 3</td>\n",
       "      <td>Grocery Store</td>\n",
       "      <td>732.3800</td>\n",
       "      <td>Food</td>\n",
       "      <td>15</td>\n",
       "    </tr>\n",
       "    <tr>\n",
       "      <th>4</th>\n",
       "      <td>NCD19</td>\n",
       "      <td>8.93</td>\n",
       "      <td>Non_edible</td>\n",
       "      <td>0.009780</td>\n",
       "      <td>53.8614</td>\n",
       "      <td>OUT013</td>\n",
       "      <td>High</td>\n",
       "      <td>Tier 3</td>\n",
       "      <td>Supermarket Type1</td>\n",
       "      <td>994.7052</td>\n",
       "      <td>Non_consumable</td>\n",
       "      <td>26</td>\n",
       "    </tr>\n",
       "  </tbody>\n",
       "</table>\n",
       "</div>"
      ],
      "text/plain": [
       "  Item_Identifier  Item_Weight Item_Fat_Content  Item_Visibility  Item_MRP  \\\n",
       "0           FDA15         9.30          Low Fat         0.016047  249.8092   \n",
       "1           DRC01         5.92          Regular         0.019278   48.2692   \n",
       "2           FDN15        17.50          Low Fat         0.016760  141.6180   \n",
       "3           FDX07        19.20          Regular         0.017834  182.0950   \n",
       "4           NCD19         8.93       Non_edible         0.009780   53.8614   \n",
       "\n",
       "  Outlet_Identifier Outlet_Size Outlet_Location_Type        Outlet_Type  \\\n",
       "0            OUT049      Medium               Tier 1  Supermarket Type1   \n",
       "1            OUT018      Medium               Tier 3  Supermarket Type2   \n",
       "2            OUT049      Medium               Tier 1  Supermarket Type1   \n",
       "3            OUT010       Small               Tier 3      Grocery Store   \n",
       "4            OUT013        High               Tier 3  Supermarket Type1   \n",
       "\n",
       "   Item_Outlet_Sales Item_Type_combined  years_old  \n",
       "0          3735.1380               Food         14  \n",
       "1           443.4228             Drinks          4  \n",
       "2          2097.2700               Food         14  \n",
       "3           732.3800               Food         15  \n",
       "4           994.7052     Non_consumable         26  "
      ]
     },
     "execution_count": 27,
     "metadata": {},
     "output_type": "execute_result"
    }
   ],
   "source": [
    "# Converting all the zero values to mean in the visibility column\n",
    "Item_Visibility_mean=df.groupby('Item_Identifier' )['Item_Visibility'].mean()\n",
    "bool4=df['Item_Visibility']==0\n",
    "df['Item_Visibility'][bool4]=df['Item_Identifier'][bool4].apply(lambda x:Item_Visibility_mean.loc[x]).values\n",
    "df.head()"
   ]
  },
  {
   "cell_type": "code",
   "execution_count": 28,
   "metadata": {
    "colab": {
     "base_uri": "https://localhost:8080/",
     "height": 206
    },
    "executionInfo": {
     "elapsed": 11,
     "status": "ok",
     "timestamp": 1644224118780,
     "user": {
      "displayName": "Siddhi Jadhav",
      "photoUrl": "https://lh3.googleusercontent.com/a/default-user=s64",
      "userId": "08402691859170607175"
     },
     "user_tz": -330
    },
    "id": "CWNkZ7APXaUv",
    "outputId": "6a9a7ca1-e581-4bde-a9e9-246c0d53b6d3"
   },
   "outputs": [
    {
     "data": {
      "text/html": [
       "<div>\n",
       "<style scoped>\n",
       "    .dataframe tbody tr th:only-of-type {\n",
       "        vertical-align: middle;\n",
       "    }\n",
       "\n",
       "    .dataframe tbody tr th {\n",
       "        vertical-align: top;\n",
       "    }\n",
       "\n",
       "    .dataframe thead th {\n",
       "        text-align: right;\n",
       "    }\n",
       "</style>\n",
       "<table border=\"1\" class=\"dataframe\">\n",
       "  <thead>\n",
       "    <tr style=\"text-align: right;\">\n",
       "      <th></th>\n",
       "      <th>Item_Weight</th>\n",
       "      <th>Item_Visibility</th>\n",
       "      <th>Item_MRP</th>\n",
       "      <th>Item_Outlet_Sales</th>\n",
       "      <th>years_old</th>\n",
       "    </tr>\n",
       "  </thead>\n",
       "  <tbody>\n",
       "    <tr>\n",
       "      <th>Item_Weight</th>\n",
       "      <td>1.000000</td>\n",
       "      <td>-0.022028</td>\n",
       "      <td>0.035751</td>\n",
       "      <td>0.013261</td>\n",
       "      <td>-0.000247</td>\n",
       "    </tr>\n",
       "    <tr>\n",
       "      <th>Item_Visibility</th>\n",
       "      <td>-0.022028</td>\n",
       "      <td>1.000000</td>\n",
       "      <td>-0.007550</td>\n",
       "      <td>-0.128453</td>\n",
       "      <td>0.084481</td>\n",
       "    </tr>\n",
       "    <tr>\n",
       "      <th>Item_MRP</th>\n",
       "      <td>0.035751</td>\n",
       "      <td>-0.007550</td>\n",
       "      <td>1.000000</td>\n",
       "      <td>0.567574</td>\n",
       "      <td>-0.000141</td>\n",
       "    </tr>\n",
       "    <tr>\n",
       "      <th>Item_Outlet_Sales</th>\n",
       "      <td>0.013261</td>\n",
       "      <td>-0.128453</td>\n",
       "      <td>0.567574</td>\n",
       "      <td>1.000000</td>\n",
       "      <td>0.049135</td>\n",
       "    </tr>\n",
       "    <tr>\n",
       "      <th>years_old</th>\n",
       "      <td>-0.000247</td>\n",
       "      <td>0.084481</td>\n",
       "      <td>-0.000141</td>\n",
       "      <td>0.049135</td>\n",
       "      <td>1.000000</td>\n",
       "    </tr>\n",
       "  </tbody>\n",
       "</table>\n",
       "</div>"
      ],
      "text/plain": [
       "                   Item_Weight  Item_Visibility  Item_MRP  Item_Outlet_Sales  \\\n",
       "Item_Weight           1.000000        -0.022028  0.035751           0.013261   \n",
       "Item_Visibility      -0.022028         1.000000 -0.007550          -0.128453   \n",
       "Item_MRP              0.035751        -0.007550  1.000000           0.567574   \n",
       "Item_Outlet_Sales     0.013261        -0.128453  0.567574           1.000000   \n",
       "years_old            -0.000247         0.084481 -0.000141           0.049135   \n",
       "\n",
       "                   years_old  \n",
       "Item_Weight        -0.000247  \n",
       "Item_Visibility     0.084481  \n",
       "Item_MRP           -0.000141  \n",
       "Item_Outlet_Sales   0.049135  \n",
       "years_old           1.000000  "
      ]
     },
     "execution_count": 28,
     "metadata": {},
     "output_type": "execute_result"
    }
   ],
   "source": [
    "#Checks for correation between different numerical columns\n",
    "df.corr()"
   ]
  },
  {
   "cell_type": "markdown",
   "metadata": {
    "id": "oOauTuldXaUv"
   },
   "source": [
    "# Identifying outliers and fixing them"
   ]
  },
  {
   "cell_type": "code",
   "execution_count": 29,
   "metadata": {
    "colab": {
     "base_uri": "https://localhost:8080/"
    },
    "executionInfo": {
     "elapsed": 10,
     "status": "ok",
     "timestamp": 1644224118781,
     "user": {
      "displayName": "Siddhi Jadhav",
      "photoUrl": "https://lh3.googleusercontent.com/a/default-user=s64",
      "userId": "08402691859170607175"
     },
     "user_tz": -330
    },
    "id": "xyVdYqxKXaUw",
    "outputId": "63d06a66-6f9e-452a-aeb9-2b978c27a28b"
   },
   "outputs": [
    {
     "data": {
      "text/html": [
       "<div>\n",
       "<style scoped>\n",
       "    .dataframe tbody tr th:only-of-type {\n",
       "        vertical-align: middle;\n",
       "    }\n",
       "\n",
       "    .dataframe tbody tr th {\n",
       "        vertical-align: top;\n",
       "    }\n",
       "\n",
       "    .dataframe thead th {\n",
       "        text-align: right;\n",
       "    }\n",
       "</style>\n",
       "<table border=\"1\" class=\"dataframe\">\n",
       "  <thead>\n",
       "    <tr style=\"text-align: right;\">\n",
       "      <th></th>\n",
       "      <th>Item_Weight</th>\n",
       "      <th>Item_Visibility</th>\n",
       "      <th>Item_MRP</th>\n",
       "      <th>Item_Outlet_Sales</th>\n",
       "      <th>years_old</th>\n",
       "    </tr>\n",
       "  </thead>\n",
       "  <tbody>\n",
       "    <tr>\n",
       "      <th>count</th>\n",
       "      <td>14204.000000</td>\n",
       "      <td>14204.000000</td>\n",
       "      <td>14204.000000</td>\n",
       "      <td>8523.000000</td>\n",
       "      <td>14204.000000</td>\n",
       "    </tr>\n",
       "    <tr>\n",
       "      <th>mean</th>\n",
       "      <td>12.793380</td>\n",
       "      <td>0.069710</td>\n",
       "      <td>141.004977</td>\n",
       "      <td>2181.288914</td>\n",
       "      <td>15.169319</td>\n",
       "    </tr>\n",
       "    <tr>\n",
       "      <th>std</th>\n",
       "      <td>4.651716</td>\n",
       "      <td>0.049728</td>\n",
       "      <td>62.086938</td>\n",
       "      <td>1706.499616</td>\n",
       "      <td>8.371664</td>\n",
       "    </tr>\n",
       "    <tr>\n",
       "      <th>min</th>\n",
       "      <td>4.555000</td>\n",
       "      <td>0.003575</td>\n",
       "      <td>31.290000</td>\n",
       "      <td>33.290000</td>\n",
       "      <td>4.000000</td>\n",
       "    </tr>\n",
       "    <tr>\n",
       "      <th>25%</th>\n",
       "      <td>8.710000</td>\n",
       "      <td>0.031145</td>\n",
       "      <td>94.012000</td>\n",
       "      <td>834.247400</td>\n",
       "      <td>9.000000</td>\n",
       "    </tr>\n",
       "    <tr>\n",
       "      <th>50%</th>\n",
       "      <td>12.600000</td>\n",
       "      <td>0.057194</td>\n",
       "      <td>142.247000</td>\n",
       "      <td>1794.331000</td>\n",
       "      <td>14.000000</td>\n",
       "    </tr>\n",
       "    <tr>\n",
       "      <th>75%</th>\n",
       "      <td>16.750000</td>\n",
       "      <td>0.096930</td>\n",
       "      <td>185.855600</td>\n",
       "      <td>3101.296400</td>\n",
       "      <td>26.000000</td>\n",
       "    </tr>\n",
       "    <tr>\n",
       "      <th>max</th>\n",
       "      <td>21.350000</td>\n",
       "      <td>0.328391</td>\n",
       "      <td>266.888400</td>\n",
       "      <td>13086.964800</td>\n",
       "      <td>28.000000</td>\n",
       "    </tr>\n",
       "  </tbody>\n",
       "</table>\n",
       "</div>"
      ],
      "text/plain": [
       "        Item_Weight  Item_Visibility      Item_MRP  Item_Outlet_Sales  \\\n",
       "count  14204.000000     14204.000000  14204.000000        8523.000000   \n",
       "mean      12.793380         0.069710    141.004977        2181.288914   \n",
       "std        4.651716         0.049728     62.086938        1706.499616   \n",
       "min        4.555000         0.003575     31.290000          33.290000   \n",
       "25%        8.710000         0.031145     94.012000         834.247400   \n",
       "50%       12.600000         0.057194    142.247000        1794.331000   \n",
       "75%       16.750000         0.096930    185.855600        3101.296400   \n",
       "max       21.350000         0.328391    266.888400       13086.964800   \n",
       "\n",
       "          years_old  \n",
       "count  14204.000000  \n",
       "mean      15.169319  \n",
       "std        8.371664  \n",
       "min        4.000000  \n",
       "25%        9.000000  \n",
       "50%       14.000000  \n",
       "75%       26.000000  \n",
       "max       28.000000  "
      ]
     },
     "execution_count": 29,
     "metadata": {},
     "output_type": "execute_result"
    }
   ],
   "source": [
    "df.describe()            "
   ]
  },
  {
   "cell_type": "code",
   "execution_count": 30,
   "metadata": {
    "colab": {
     "base_uri": "https://localhost:8080/"
    },
    "executionInfo": {
     "elapsed": 9,
     "status": "ok",
     "timestamp": 1644224118781,
     "user": {
      "displayName": "Siddhi Jadhav",
      "photoUrl": "https://lh3.googleusercontent.com/a/default-user=s64",
      "userId": "08402691859170607175"
     },
     "user_tz": -330
    },
    "id": "0XZ69P9RXaUw",
    "outputId": "e5505c7e-2c25-47ae-a8b4-5a4fdb811928"
   },
   "outputs": [
    {
     "data": {
      "image/png": "[encoded data removed]",
      "text/plain": [
       "<Figure size 432x288 with 1 Axes>"
      ]
     },
     "metadata": {
      "needs_background": "light"
     },
     "output_type": "display_data"
    }
   ],
   "source": [
    "sns.set(style=\"whitegrid\")\n",
    "ax = sns.boxplot(x=df[\"Item_Outlet_Sales\"])"
   ]
  },
  {
   "cell_type": "code",
   "execution_count": 31,
   "metadata": {
    "id": "oojZAKjsXaUx"
   },
   "outputs": [],
   "source": [
    "#As we know only Item_Outlet_Sales have outliers we can fix them but fixing them will increase our RMSE score \n",
    "#to a large extent"
   ]
  },
  {
   "cell_type": "markdown",
   "metadata": {
    "id": "qzRhxciJXaUx"
   },
   "source": [
    "# Plotting Graphs for more Analysis"
   ]
  },
  {
   "cell_type": "code",
   "execution_count": 32,
   "metadata": {
    "colab": {
     "base_uri": "https://localhost:8080/"
    },
    "executionInfo": {
     "elapsed": 9,
     "status": "ok",
     "timestamp": 1644224118782,
     "user": {
      "displayName": "Siddhi Jadhav",
      "photoUrl": "https://lh3.googleusercontent.com/a/default-user=s64",
      "userId": "08402691859170607175"
     },
     "user_tz": -330
    },
    "id": "VURmdTtqXaUx",
    "outputId": "a2acc7a5-6afe-482d-df88-1c58a57861bd"
   },
   "outputs": [
    {
     "data": {
      "image/png": "[encoded data removed]",
      "text/plain": [
       "<Figure size 432x288 with 1 Axes>"
      ]
     },
     "metadata": {
      "needs_background": "light"
     },
     "output_type": "display_data"
    }
   ],
   "source": [
    "#value of sales increases for the increase in MRP of the item\n",
    "plt.scatter(df.Item_MRP,df.Item_Outlet_Sales,c='g')\n",
    "plt.show()"
   ]
  },
  {
   "cell_type": "code",
   "execution_count": 33,
   "metadata": {
    "colab": {
     "base_uri": "https://localhost:8080/"
    },
    "executionInfo": {
     "elapsed": 1529,
     "status": "ok",
     "timestamp": 1644224120302,
     "user": {
      "displayName": "Siddhi Jadhav",
      "photoUrl": "https://lh3.googleusercontent.com/a/default-user=s64",
      "userId": "08402691859170607175"
     },
     "user_tz": -330
    },
    "id": "HNT6xcK7XaUx",
    "outputId": "2184ed3d-e9d8-4871-a321-bbf007536b1b"
   },
   "outputs": [
    {
     "data": {
      "image/png": "[encoded data removed]",
      "text/plain": [
       "<Figure size 1088.8x216 with 3 Axes>"
      ]
     },
     "metadata": {
      "needs_background": "light"
     },
     "output_type": "display_data"
    }
   ],
   "source": [
    "sns.FacetGrid(df, col='Item_Type_combined', size=3, col_wrap=5) \\\n",
    "    .map(plt.hist, 'Item_Outlet_Sales') \\\n",
    "    .add_legend();\n",
    "# Maximum contribution to outlet sales is from Items that are food type and least is from drinks"
   ]
  },
  {
   "cell_type": "code",
   "execution_count": 34,
   "metadata": {
    "colab": {
     "base_uri": "https://localhost:8080/"
    },
    "executionInfo": {
     "elapsed": 662,
     "status": "ok",
     "timestamp": 1644224120962,
     "user": {
      "displayName": "Siddhi Jadhav",
      "photoUrl": "https://lh3.googleusercontent.com/a/default-user=s64",
      "userId": "08402691859170607175"
     },
     "user_tz": -330
    },
    "id": "OjIReAMoXaUx",
    "outputId": "3589fb98-39a5-46e6-8953-a7bc0f64033a"
   },
   "outputs": [
    {
     "data": {
      "image/png": "[encoded data removed]",
      "text/plain": [
       "<Figure size 1088.8x216 with 3 Axes>"
      ]
     },
     "metadata": {
      "needs_background": "light"
     },
     "output_type": "display_data"
    }
   ],
   "source": [
    "sns.FacetGrid(df, col='Outlet_Location_Type', size=3, col_wrap=5) \\\n",
    "    .map(plt.hist, 'Item_Outlet_Sales') \\\n",
    "    .add_legend();\n",
    "#Tier3 type of outlet location provides for the maximum sales and other two provides the least sales"
   ]
  },
  {
   "cell_type": "code",
   "execution_count": 35,
   "metadata": {
    "colab": {
     "base_uri": "https://localhost:8080/"
    },
    "executionInfo": {
     "elapsed": 1500,
     "status": "ok",
     "timestamp": 1644224122460,
     "user": {
      "displayName": "Siddhi Jadhav",
      "photoUrl": "https://lh3.googleusercontent.com/a/default-user=s64",
      "userId": "08402691859170607175"
     },
     "user_tz": -330
    },
    "id": "T2DeM71VXaUy",
    "outputId": "fe3265fd-4a7d-4af3-8df0-794716b2a72f"
   },
   "outputs": [
    {
     "data": {
      "image/png": "[encoded data removed]",
      "text/plain": [
       "<Figure size 1088.8x216 with 3 Axes>"
      ]
     },
     "metadata": {
      "needs_background": "light"
     },
     "output_type": "display_data"
    }
   ],
   "source": [
    "sns.FacetGrid(df, col='Outlet_Size', size=3, col_wrap=5) \\\n",
    "    .map(plt.hist, 'Item_Outlet_Sales') \\\n",
    "    .add_legend();\n",
    "#Small sized Outlets are providing the maximum sales whereas large sized outlets \n",
    "# are contributing the least"
   ]
  },
  {
   "cell_type": "code",
   "execution_count": 36,
   "metadata": {
    "colab": {
     "base_uri": "https://localhost:8080/"
    },
    "executionInfo": {
     "elapsed": 917,
     "status": "ok",
     "timestamp": 1644224123375,
     "user": {
      "displayName": "Siddhi Jadhav",
      "photoUrl": "https://lh3.googleusercontent.com/a/default-user=s64",
      "userId": "08402691859170607175"
     },
     "user_tz": -330
    },
    "id": "1QIqQZIvXaUy",
    "outputId": "4821d5ea-fe50-44aa-dab3-874cf730b3d2"
   },
   "outputs": [
    {
     "data": {
      "image/png": "[encoded data removed]",
      "text/plain": [
       "<Figure size 1088.8x216 with 3 Axes>"
      ]
     },
     "metadata": {
      "needs_background": "light"
     },
     "output_type": "display_data"
    }
   ],
   "source": [
    "sns.FacetGrid(df, col='Item_Fat_Content', size=3, col_wrap=5) \\\n",
    "    .map(plt.hist, 'Item_Outlet_Sales') \\\n",
    "    .add_legend();\n",
    "# people are prefering items with lowest fat content the most "
   ]
  },
  {
   "cell_type": "code",
   "execution_count": 37,
   "metadata": {
    "colab": {
     "base_uri": "https://localhost:8080/"
    },
    "executionInfo": {
     "elapsed": 1543,
     "status": "ok",
     "timestamp": 1644224124916,
     "user": {
      "displayName": "Siddhi Jadhav",
      "photoUrl": "https://lh3.googleusercontent.com/a/default-user=s64",
      "userId": "08402691859170607175"
     },
     "user_tz": -330
    },
    "id": "3EzjPzZNXaUy",
    "outputId": "3ba2c115-3cd1-4fd8-c655-155455af4414"
   },
   "outputs": [
    {
     "data": {
      "image/png": "[encoded data removed]",
      "text/plain": [
       "<Figure size 440.8x432 with 4 Axes>"
      ]
     },
     "metadata": {
      "needs_background": "light"
     },
     "output_type": "display_data"
    }
   ],
   "source": [
    "sns.FacetGrid(df, col='Outlet_Type', size=3, col_wrap=2) \\\n",
    "    .map(plt.hist, 'Item_Outlet_Sales') \\\n",
    "    .add_legend();\n",
    "#Maximum of the high sales margin is from Supermarket Type1\n",
    "#Grocery store has the least sales"
   ]
  },
  {
   "cell_type": "code",
   "execution_count": 38,
   "metadata": {
    "colab": {
     "base_uri": "https://localhost:8080/"
    },
    "executionInfo": {
     "elapsed": 9,
     "status": "ok",
     "timestamp": 1644224124917,
     "user": {
      "displayName": "Siddhi Jadhav",
      "photoUrl": "https://lh3.googleusercontent.com/a/default-user=s64",
      "userId": "08402691859170607175"
     },
     "user_tz": -330
    },
    "id": "c3KCg9HQXaUy",
    "outputId": "bbecced0-031a-430b-c353-728f09e011bb"
   },
   "outputs": [
    {
     "data": {
      "text/html": [
       "<div>\n",
       "<style scoped>\n",
       "    .dataframe tbody tr th:only-of-type {\n",
       "        vertical-align: middle;\n",
       "    }\n",
       "\n",
       "    .dataframe tbody tr th {\n",
       "        vertical-align: top;\n",
       "    }\n",
       "\n",
       "    .dataframe thead th {\n",
       "        text-align: right;\n",
       "    }\n",
       "</style>\n",
       "<table border=\"1\" class=\"dataframe\">\n",
       "  <thead>\n",
       "    <tr style=\"text-align: right;\">\n",
       "      <th></th>\n",
       "      <th>Item_Weight</th>\n",
       "      <th>Item_Fat_Content</th>\n",
       "      <th>Item_Visibility</th>\n",
       "      <th>Item_MRP</th>\n",
       "      <th>Outlet_Size</th>\n",
       "      <th>Outlet_Location_Type</th>\n",
       "      <th>Outlet_Type</th>\n",
       "      <th>Item_Outlet_Sales</th>\n",
       "      <th>Item_Type_combined</th>\n",
       "      <th>years_old</th>\n",
       "      <th>Outlet_Identifier_OUT010</th>\n",
       "      <th>Outlet_Identifier_OUT013</th>\n",
       "      <th>Outlet_Identifier_OUT017</th>\n",
       "      <th>Outlet_Identifier_OUT018</th>\n",
       "      <th>Outlet_Identifier_OUT019</th>\n",
       "      <th>Outlet_Identifier_OUT027</th>\n",
       "      <th>Outlet_Identifier_OUT035</th>\n",
       "      <th>Outlet_Identifier_OUT045</th>\n",
       "      <th>Outlet_Identifier_OUT046</th>\n",
       "      <th>Outlet_Identifier_OUT049</th>\n",
       "    </tr>\n",
       "  </thead>\n",
       "  <tbody>\n",
       "    <tr>\n",
       "      <th>0</th>\n",
       "      <td>9.30</td>\n",
       "      <td>0</td>\n",
       "      <td>0.016047</td>\n",
       "      <td>249.8092</td>\n",
       "      <td>1</td>\n",
       "      <td>0</td>\n",
       "      <td>1</td>\n",
       "      <td>3735.1380</td>\n",
       "      <td>1</td>\n",
       "      <td>14</td>\n",
       "      <td>0</td>\n",
       "      <td>0</td>\n",
       "      <td>0</td>\n",
       "      <td>0</td>\n",
       "      <td>0</td>\n",
       "      <td>0</td>\n",
       "      <td>0</td>\n",
       "      <td>0</td>\n",
       "      <td>0</td>\n",
       "      <td>1</td>\n",
       "    </tr>\n",
       "    <tr>\n",
       "      <th>1</th>\n",
       "      <td>5.92</td>\n",
       "      <td>2</td>\n",
       "      <td>0.019278</td>\n",
       "      <td>48.2692</td>\n",
       "      <td>1</td>\n",
       "      <td>2</td>\n",
       "      <td>2</td>\n",
       "      <td>443.4228</td>\n",
       "      <td>0</td>\n",
       "      <td>4</td>\n",
       "      <td>0</td>\n",
       "      <td>0</td>\n",
       "      <td>0</td>\n",
       "      <td>1</td>\n",
       "      <td>0</td>\n",
       "      <td>0</td>\n",
       "      <td>0</td>\n",
       "      <td>0</td>\n",
       "      <td>0</td>\n",
       "      <td>0</td>\n",
       "    </tr>\n",
       "    <tr>\n",
       "      <th>2</th>\n",
       "      <td>17.50</td>\n",
       "      <td>0</td>\n",
       "      <td>0.016760</td>\n",
       "      <td>141.6180</td>\n",
       "      <td>1</td>\n",
       "      <td>0</td>\n",
       "      <td>1</td>\n",
       "      <td>2097.2700</td>\n",
       "      <td>1</td>\n",
       "      <td>14</td>\n",
       "      <td>0</td>\n",
       "      <td>0</td>\n",
       "      <td>0</td>\n",
       "      <td>0</td>\n",
       "      <td>0</td>\n",
       "      <td>0</td>\n",
       "      <td>0</td>\n",
       "      <td>0</td>\n",
       "      <td>0</td>\n",
       "      <td>1</td>\n",
       "    </tr>\n",
       "    <tr>\n",
       "      <th>3</th>\n",
       "      <td>19.20</td>\n",
       "      <td>2</td>\n",
       "      <td>0.017834</td>\n",
       "      <td>182.0950</td>\n",
       "      <td>2</td>\n",
       "      <td>2</td>\n",
       "      <td>0</td>\n",
       "      <td>732.3800</td>\n",
       "      <td>1</td>\n",
       "      <td>15</td>\n",
       "      <td>1</td>\n",
       "      <td>0</td>\n",
       "      <td>0</td>\n",
       "      <td>0</td>\n",
       "      <td>0</td>\n",
       "      <td>0</td>\n",
       "      <td>0</td>\n",
       "      <td>0</td>\n",
       "      <td>0</td>\n",
       "      <td>0</td>\n",
       "    </tr>\n",
       "    <tr>\n",
       "      <th>4</th>\n",
       "      <td>8.93</td>\n",
       "      <td>1</td>\n",
       "      <td>0.009780</td>\n",
       "      <td>53.8614</td>\n",
       "      <td>0</td>\n",
       "      <td>2</td>\n",
       "      <td>1</td>\n",
       "      <td>994.7052</td>\n",
       "      <td>2</td>\n",
       "      <td>26</td>\n",
       "      <td>0</td>\n",
       "      <td>1</td>\n",
       "      <td>0</td>\n",
       "      <td>0</td>\n",
       "      <td>0</td>\n",
       "      <td>0</td>\n",
       "      <td>0</td>\n",
       "      <td>0</td>\n",
       "      <td>0</td>\n",
       "      <td>0</td>\n",
       "    </tr>\n",
       "  </tbody>\n",
       "</table>\n",
       "</div>"
      ],
      "text/plain": [
       "   Item_Weight  Item_Fat_Content  Item_Visibility  Item_MRP  Outlet_Size  \\\n",
       "0         9.30                 0         0.016047  249.8092            1   \n",
       "1         5.92                 2         0.019278   48.2692            1   \n",
       "2        17.50                 0         0.016760  141.6180            1   \n",
       "3        19.20                 2         0.017834  182.0950            2   \n",
       "4         8.93                 1         0.009780   53.8614            0   \n",
       "\n",
       "   Outlet_Location_Type  Outlet_Type  Item_Outlet_Sales  Item_Type_combined  \\\n",
       "0                     0            1          3735.1380                   1   \n",
       "1                     2            2           443.4228                   0   \n",
       "2                     0            1          2097.2700                   1   \n",
       "3                     2            0           732.3800                   1   \n",
       "4                     2            1           994.7052                   2   \n",
       "\n",
       "   years_old  Outlet_Identifier_OUT010  Outlet_Identifier_OUT013  \\\n",
       "0         14                         0                         0   \n",
       "1          4                         0                         0   \n",
       "2         14                         0                         0   \n",
       "3         15                         1                         0   \n",
       "4         26                         0                         1   \n",
       "\n",
       "   Outlet_Identifier_OUT017  Outlet_Identifier_OUT018  \\\n",
       "0                         0                         0   \n",
       "1                         0                         1   \n",
       "2                         0                         0   \n",
       "3                         0                         0   \n",
       "4                         0                         0   \n",
       "\n",
       "   Outlet_Identifier_OUT019  Outlet_Identifier_OUT027  \\\n",
       "0                         0                         0   \n",
       "1                         0                         0   \n",
       "2                         0                         0   \n",
       "3                         0                         0   \n",
       "4                         0                         0   \n",
       "\n",
       "   Outlet_Identifier_OUT035  Outlet_Identifier_OUT045  \\\n",
       "0                         0                         0   \n",
       "1                         0                         0   \n",
       "2                         0                         0   \n",
       "3                         0                         0   \n",
       "4                         0                         0   \n",
       "\n",
       "   Outlet_Identifier_OUT046  Outlet_Identifier_OUT049  \n",
       "0                         0                         1  \n",
       "1                         0                         0  \n",
       "2                         0                         1  \n",
       "3                         0                         0  \n",
       "4                         0                         0  "
      ]
     },
     "execution_count": 38,
     "metadata": {},
     "output_type": "execute_result"
    }
   ],
   "source": [
    "#Label Encoding all the columns with text entries and dropping Item_identifier  \n",
    "le=LabelEncoder()\n",
    "list=['Item_Fat_Content','Outlet_Location_Type','Outlet_Size','Outlet_Type','Item_Type_combined',\n",
    "      'Outlet_Size']\n",
    "for i in list:\n",
    "    le.fit(df[i])\n",
    "    df[i]=le.transform(df[i])\n",
    "df_new=df.drop(columns='Item_Identifier')  # frequency encoding\n",
    "df_new= pd.get_dummies(df_new,columns=['Outlet_Identifier'])\n",
    "df_new.head()"
   ]
  },
  {
   "cell_type": "code",
   "execution_count": 39,
   "metadata": {
    "scrolled": true
   },
   "outputs": [],
   "source": [
    "# explanatory code\n",
    "# df.corr()\n",
    "# sns.heatmap(df.corr())"
   ]
  },
  {
   "cell_type": "code",
   "execution_count": 40,
   "metadata": {},
   "outputs": [
    {
     "data": {
      "text/html": [
       "<div>\n",
       "<style scoped>\n",
       "    .dataframe tbody tr th:only-of-type {\n",
       "        vertical-align: middle;\n",
       "    }\n",
       "\n",
       "    .dataframe tbody tr th {\n",
       "        vertical-align: top;\n",
       "    }\n",
       "\n",
       "    .dataframe thead th {\n",
       "        text-align: right;\n",
       "    }\n",
       "</style>\n",
       "<table border=\"1\" class=\"dataframe\">\n",
       "  <thead>\n",
       "    <tr style=\"text-align: right;\">\n",
       "      <th></th>\n",
       "      <th>Item_Weight</th>\n",
       "      <th>Item_Fat_Content</th>\n",
       "      <th>Item_Visibility</th>\n",
       "      <th>Item_MRP</th>\n",
       "      <th>Outlet_Size</th>\n",
       "      <th>Outlet_Location_Type</th>\n",
       "      <th>Outlet_Type</th>\n",
       "      <th>Item_Outlet_Sales</th>\n",
       "      <th>Item_Type_combined</th>\n",
       "      <th>years_old</th>\n",
       "      <th>Outlet_Identifier_OUT010</th>\n",
       "      <th>Outlet_Identifier_OUT013</th>\n",
       "      <th>Outlet_Identifier_OUT017</th>\n",
       "      <th>Outlet_Identifier_OUT018</th>\n",
       "      <th>Outlet_Identifier_OUT019</th>\n",
       "      <th>Outlet_Identifier_OUT027</th>\n",
       "      <th>Outlet_Identifier_OUT035</th>\n",
       "      <th>Outlet_Identifier_OUT045</th>\n",
       "      <th>Outlet_Identifier_OUT046</th>\n",
       "      <th>Outlet_Identifier_OUT049</th>\n",
       "    </tr>\n",
       "  </thead>\n",
       "  <tbody>\n",
       "    <tr>\n",
       "      <th>0</th>\n",
       "      <td>9.300</td>\n",
       "      <td>0</td>\n",
       "      <td>0.016047</td>\n",
       "      <td>249.8092</td>\n",
       "      <td>1</td>\n",
       "      <td>0</td>\n",
       "      <td>1</td>\n",
       "      <td>3735.1380</td>\n",
       "      <td>1</td>\n",
       "      <td>14</td>\n",
       "      <td>0</td>\n",
       "      <td>0</td>\n",
       "      <td>0</td>\n",
       "      <td>0</td>\n",
       "      <td>0</td>\n",
       "      <td>0</td>\n",
       "      <td>0</td>\n",
       "      <td>0</td>\n",
       "      <td>0</td>\n",
       "      <td>1</td>\n",
       "    </tr>\n",
       "    <tr>\n",
       "      <th>1</th>\n",
       "      <td>5.920</td>\n",
       "      <td>2</td>\n",
       "      <td>0.019278</td>\n",
       "      <td>48.2692</td>\n",
       "      <td>1</td>\n",
       "      <td>2</td>\n",
       "      <td>2</td>\n",
       "      <td>443.4228</td>\n",
       "      <td>0</td>\n",
       "      <td>4</td>\n",
       "      <td>0</td>\n",
       "      <td>0</td>\n",
       "      <td>0</td>\n",
       "      <td>1</td>\n",
       "      <td>0</td>\n",
       "      <td>0</td>\n",
       "      <td>0</td>\n",
       "      <td>0</td>\n",
       "      <td>0</td>\n",
       "      <td>0</td>\n",
       "    </tr>\n",
       "    <tr>\n",
       "      <th>2</th>\n",
       "      <td>17.500</td>\n",
       "      <td>0</td>\n",
       "      <td>0.016760</td>\n",
       "      <td>141.6180</td>\n",
       "      <td>1</td>\n",
       "      <td>0</td>\n",
       "      <td>1</td>\n",
       "      <td>2097.2700</td>\n",
       "      <td>1</td>\n",
       "      <td>14</td>\n",
       "      <td>0</td>\n",
       "      <td>0</td>\n",
       "      <td>0</td>\n",
       "      <td>0</td>\n",
       "      <td>0</td>\n",
       "      <td>0</td>\n",
       "      <td>0</td>\n",
       "      <td>0</td>\n",
       "      <td>0</td>\n",
       "      <td>1</td>\n",
       "    </tr>\n",
       "    <tr>\n",
       "      <th>3</th>\n",
       "      <td>19.200</td>\n",
       "      <td>2</td>\n",
       "      <td>0.017834</td>\n",
       "      <td>182.0950</td>\n",
       "      <td>2</td>\n",
       "      <td>2</td>\n",
       "      <td>0</td>\n",
       "      <td>732.3800</td>\n",
       "      <td>1</td>\n",
       "      <td>15</td>\n",
       "      <td>1</td>\n",
       "      <td>0</td>\n",
       "      <td>0</td>\n",
       "      <td>0</td>\n",
       "      <td>0</td>\n",
       "      <td>0</td>\n",
       "      <td>0</td>\n",
       "      <td>0</td>\n",
       "      <td>0</td>\n",
       "      <td>0</td>\n",
       "    </tr>\n",
       "    <tr>\n",
       "      <th>4</th>\n",
       "      <td>8.930</td>\n",
       "      <td>1</td>\n",
       "      <td>0.009780</td>\n",
       "      <td>53.8614</td>\n",
       "      <td>0</td>\n",
       "      <td>2</td>\n",
       "      <td>1</td>\n",
       "      <td>994.7052</td>\n",
       "      <td>2</td>\n",
       "      <td>26</td>\n",
       "      <td>0</td>\n",
       "      <td>1</td>\n",
       "      <td>0</td>\n",
       "      <td>0</td>\n",
       "      <td>0</td>\n",
       "      <td>0</td>\n",
       "      <td>0</td>\n",
       "      <td>0</td>\n",
       "      <td>0</td>\n",
       "      <td>0</td>\n",
       "    </tr>\n",
       "    <tr>\n",
       "      <th>...</th>\n",
       "      <td>...</td>\n",
       "      <td>...</td>\n",
       "      <td>...</td>\n",
       "      <td>...</td>\n",
       "      <td>...</td>\n",
       "      <td>...</td>\n",
       "      <td>...</td>\n",
       "      <td>...</td>\n",
       "      <td>...</td>\n",
       "      <td>...</td>\n",
       "      <td>...</td>\n",
       "      <td>...</td>\n",
       "      <td>...</td>\n",
       "      <td>...</td>\n",
       "      <td>...</td>\n",
       "      <td>...</td>\n",
       "      <td>...</td>\n",
       "      <td>...</td>\n",
       "      <td>...</td>\n",
       "      <td>...</td>\n",
       "    </tr>\n",
       "    <tr>\n",
       "      <th>8518</th>\n",
       "      <td>6.865</td>\n",
       "      <td>0</td>\n",
       "      <td>0.056783</td>\n",
       "      <td>214.5218</td>\n",
       "      <td>0</td>\n",
       "      <td>2</td>\n",
       "      <td>1</td>\n",
       "      <td>2778.3834</td>\n",
       "      <td>1</td>\n",
       "      <td>26</td>\n",
       "      <td>0</td>\n",
       "      <td>1</td>\n",
       "      <td>0</td>\n",
       "      <td>0</td>\n",
       "      <td>0</td>\n",
       "      <td>0</td>\n",
       "      <td>0</td>\n",
       "      <td>0</td>\n",
       "      <td>0</td>\n",
       "      <td>0</td>\n",
       "    </tr>\n",
       "    <tr>\n",
       "      <th>8519</th>\n",
       "      <td>8.380</td>\n",
       "      <td>2</td>\n",
       "      <td>0.046982</td>\n",
       "      <td>108.1570</td>\n",
       "      <td>2</td>\n",
       "      <td>1</td>\n",
       "      <td>1</td>\n",
       "      <td>549.2850</td>\n",
       "      <td>1</td>\n",
       "      <td>11</td>\n",
       "      <td>0</td>\n",
       "      <td>0</td>\n",
       "      <td>0</td>\n",
       "      <td>0</td>\n",
       "      <td>0</td>\n",
       "      <td>0</td>\n",
       "      <td>0</td>\n",
       "      <td>1</td>\n",
       "      <td>0</td>\n",
       "      <td>0</td>\n",
       "    </tr>\n",
       "    <tr>\n",
       "      <th>8520</th>\n",
       "      <td>10.600</td>\n",
       "      <td>1</td>\n",
       "      <td>0.035186</td>\n",
       "      <td>85.1224</td>\n",
       "      <td>2</td>\n",
       "      <td>1</td>\n",
       "      <td>1</td>\n",
       "      <td>1193.1136</td>\n",
       "      <td>2</td>\n",
       "      <td>9</td>\n",
       "      <td>0</td>\n",
       "      <td>0</td>\n",
       "      <td>0</td>\n",
       "      <td>0</td>\n",
       "      <td>0</td>\n",
       "      <td>0</td>\n",
       "      <td>1</td>\n",
       "      <td>0</td>\n",
       "      <td>0</td>\n",
       "      <td>0</td>\n",
       "    </tr>\n",
       "    <tr>\n",
       "      <th>8521</th>\n",
       "      <td>7.210</td>\n",
       "      <td>2</td>\n",
       "      <td>0.145221</td>\n",
       "      <td>103.1332</td>\n",
       "      <td>1</td>\n",
       "      <td>2</td>\n",
       "      <td>2</td>\n",
       "      <td>1845.5976</td>\n",
       "      <td>1</td>\n",
       "      <td>4</td>\n",
       "      <td>0</td>\n",
       "      <td>0</td>\n",
       "      <td>0</td>\n",
       "      <td>1</td>\n",
       "      <td>0</td>\n",
       "      <td>0</td>\n",
       "      <td>0</td>\n",
       "      <td>0</td>\n",
       "      <td>0</td>\n",
       "      <td>0</td>\n",
       "    </tr>\n",
       "    <tr>\n",
       "      <th>8522</th>\n",
       "      <td>14.800</td>\n",
       "      <td>0</td>\n",
       "      <td>0.044878</td>\n",
       "      <td>75.4670</td>\n",
       "      <td>2</td>\n",
       "      <td>0</td>\n",
       "      <td>1</td>\n",
       "      <td>765.6700</td>\n",
       "      <td>0</td>\n",
       "      <td>16</td>\n",
       "      <td>0</td>\n",
       "      <td>0</td>\n",
       "      <td>0</td>\n",
       "      <td>0</td>\n",
       "      <td>0</td>\n",
       "      <td>0</td>\n",
       "      <td>0</td>\n",
       "      <td>0</td>\n",
       "      <td>1</td>\n",
       "      <td>0</td>\n",
       "    </tr>\n",
       "  </tbody>\n",
       "</table>\n",
       "<p>8523 rows × 20 columns</p>\n",
       "</div>"
      ],
      "text/plain": [
       "      Item_Weight  Item_Fat_Content  Item_Visibility  Item_MRP  Outlet_Size  \\\n",
       "0           9.300                 0         0.016047  249.8092            1   \n",
       "1           5.920                 2         0.019278   48.2692            1   \n",
       "2          17.500                 0         0.016760  141.6180            1   \n",
       "3          19.200                 2         0.017834  182.0950            2   \n",
       "4           8.930                 1         0.009780   53.8614            0   \n",
       "...           ...               ...              ...       ...          ...   \n",
       "8518        6.865                 0         0.056783  214.5218            0   \n",
       "8519        8.380                 2         0.046982  108.1570            2   \n",
       "8520       10.600                 1         0.035186   85.1224            2   \n",
       "8521        7.210                 2         0.145221  103.1332            1   \n",
       "8522       14.800                 0         0.044878   75.4670            2   \n",
       "\n",
       "      Outlet_Location_Type  Outlet_Type  Item_Outlet_Sales  \\\n",
       "0                        0            1          3735.1380   \n",
       "1                        2            2           443.4228   \n",
       "2                        0            1          2097.2700   \n",
       "3                        2            0           732.3800   \n",
       "4                        2            1           994.7052   \n",
       "...                    ...          ...                ...   \n",
       "8518                     2            1          2778.3834   \n",
       "8519                     1            1           549.2850   \n",
       "8520                     1            1          1193.1136   \n",
       "8521                     2            2          1845.5976   \n",
       "8522                     0            1           765.6700   \n",
       "\n",
       "      Item_Type_combined  years_old  Outlet_Identifier_OUT010  \\\n",
       "0                      1         14                         0   \n",
       "1                      0          4                         0   \n",
       "2                      1         14                         0   \n",
       "3                      1         15                         1   \n",
       "4                      2         26                         0   \n",
       "...                  ...        ...                       ...   \n",
       "8518                   1         26                         0   \n",
       "8519                   1         11                         0   \n",
       "8520                   2          9                         0   \n",
       "8521                   1          4                         0   \n",
       "8522                   0         16                         0   \n",
       "\n",
       "      Outlet_Identifier_OUT013  Outlet_Identifier_OUT017  \\\n",
       "0                            0                         0   \n",
       "1                            0                         0   \n",
       "2                            0                         0   \n",
       "3                            0                         0   \n",
       "4                            1                         0   \n",
       "...                        ...                       ...   \n",
       "8518                         1                         0   \n",
       "8519                         0                         0   \n",
       "8520                         0                         0   \n",
       "8521                         0                         0   \n",
       "8522                         0                         0   \n",
       "\n",
       "      Outlet_Identifier_OUT018  Outlet_Identifier_OUT019  \\\n",
       "0                            0                         0   \n",
       "1                            1                         0   \n",
       "2                            0                         0   \n",
       "3                            0                         0   \n",
       "4                            0                         0   \n",
       "...                        ...                       ...   \n",
       "8518                         0                         0   \n",
       "8519                         0                         0   \n",
       "8520                         0                         0   \n",
       "8521                         1                         0   \n",
       "8522                         0                         0   \n",
       "\n",
       "      Outlet_Identifier_OUT027  Outlet_Identifier_OUT035  \\\n",
       "0                            0                         0   \n",
       "1                            0                         0   \n",
       "2                            0                         0   \n",
       "3                            0                         0   \n",
       "4                            0                         0   \n",
       "...                        ...                       ...   \n",
       "8518                         0                         0   \n",
       "8519                         0                         0   \n",
       "8520                         0                         1   \n",
       "8521                         0                         0   \n",
       "8522                         0                         0   \n",
       "\n",
       "      Outlet_Identifier_OUT045  Outlet_Identifier_OUT046  \\\n",
       "0                            0                         0   \n",
       "1                            0                         0   \n",
       "2                            0                         0   \n",
       "3                            0                         0   \n",
       "4                            0                         0   \n",
       "...                        ...                       ...   \n",
       "8518                         0                         0   \n",
       "8519                         1                         0   \n",
       "8520                         0                         0   \n",
       "8521                         0                         0   \n",
       "8522                         0                         1   \n",
       "\n",
       "      Outlet_Identifier_OUT049  \n",
       "0                            1  \n",
       "1                            0  \n",
       "2                            1  \n",
       "3                            0  \n",
       "4                            0  \n",
       "...                        ...  \n",
       "8518                         0  \n",
       "8519                         0  \n",
       "8520                         0  \n",
       "8521                         0  \n",
       "8522                         0  \n",
       "\n",
       "[8523 rows x 20 columns]"
      ]
     },
     "execution_count": 40,
     "metadata": {},
     "output_type": "execute_result"
    }
   ],
   "source": [
    "df_new.iloc[:8523,:]"
   ]
  },
  {
   "cell_type": "code",
   "execution_count": 41,
   "metadata": {
    "id": "LqM_toISXaUy"
   },
   "outputs": [],
   "source": [
    "#Separating test and train set\n",
    "df_new_train=df_new.iloc[:8523,:]\n",
    "\n",
    "df_new_test=df_new.iloc[8523:,:]\n",
    "\n",
    "df_new_test=df_new_test.drop(columns=['Item_Outlet_Sales'])"
   ]
  },
  {
   "cell_type": "code",
   "execution_count": 42,
   "metadata": {
    "id": "Z80NXj10XaUy"
   },
   "outputs": [],
   "source": [
    "Y_train=df_new_train['Item_Outlet_Sales']\n",
    "\n",
    "df_train_test= df_new_train.drop(columns=['Item_Outlet_Sales'])"
   ]
  },
  {
   "cell_type": "code",
   "execution_count": 43,
   "metadata": {},
   "outputs": [
    {
     "data": {
      "text/plain": [
       "(8523, 19)"
      ]
     },
     "execution_count": 43,
     "metadata": {},
     "output_type": "execute_result"
    }
   ],
   "source": [
    "df_train_test.shape"
   ]
  },
  {
   "cell_type": "code",
   "execution_count": 44,
   "metadata": {},
   "outputs": [
    {
     "data": {
      "text/plain": [
       "Index(['Item_Weight', 'Item_Fat_Content', 'Item_Visibility', 'Item_MRP',\n",
       "       'Outlet_Size', 'Outlet_Location_Type', 'Outlet_Type',\n",
       "       'Item_Type_combined', 'years_old', 'Outlet_Identifier_OUT010',\n",
       "       'Outlet_Identifier_OUT013', 'Outlet_Identifier_OUT017',\n",
       "       'Outlet_Identifier_OUT018', 'Outlet_Identifier_OUT019',\n",
       "       'Outlet_Identifier_OUT027', 'Outlet_Identifier_OUT035',\n",
       "       'Outlet_Identifier_OUT045', 'Outlet_Identifier_OUT046',\n",
       "       'Outlet_Identifier_OUT049'],\n",
       "      dtype='object')"
      ]
     },
     "execution_count": 44,
     "metadata": {},
     "output_type": "execute_result"
    }
   ],
   "source": [
    "df_train_test.columns"
   ]
  },
  {
   "cell_type": "code",
   "execution_count": 45,
   "metadata": {
    "id": "9RDWcZ4YXaUy"
   },
   "outputs": [],
   "source": [
    "from sklearn.linear_model import LinearRegression\n",
    "from sklearn.linear_model import Ridge\n",
    "from sklearn.linear_model import ElasticNet \n",
    "from sklearn.linear_model import SGDRegressor\n",
    "from sklearn.linear_model import Lasso\n",
    "from sklearn.linear_model import HuberRegressor\n",
    "from sklearn.linear_model import RANSACRegressor\n",
    "from sklearn.linear_model import TheilSenRegressor\n",
    "from sklearn.linear_model import QuantileRegressor\n",
    "#### To Be applied after we cover these Algorithms.\n",
    "\n",
    "# from sklearn.ensemble import RandomForestRegressor \n",
    "# from sklearn.ensemble import ExtraTreesRegressor\n",
    "# from sklearn.ensemble import BaggingRegressor\n",
    "# from sklearn.ensemble import GradientBoostingRegressor\n",
    "# from sklearn.neural_network import MLPRegressor\n",
    "# from xgboost import XGBRegressor\n",
    "# import xgboost as xgb\n",
    "from sklearn.model_selection import KFold, cross_val_score\n",
    "from sklearn.metrics import mean_absolute_error,mean_squared_error,r2_score\n"
   ]
  },
  {
   "cell_type": "code",
   "execution_count": 46,
   "metadata": {
    "id": "0mG_kwDjXaUz"
   },
   "outputs": [],
   "source": [
    "models = [('lr',LinearRegression()),\n",
    "          ('sgd',SGDRegressor()),\n",
    "          ('lasso',Lasso()),\n",
    "          ('ridge',Ridge()),\n",
    "          ('en',ElasticNet()),\n",
    "          ('huber',HuberRegressor()),\n",
    "          ('ransac',RANSACRegressor()),\n",
    "          ('theilSen',TheilSenRegressor())\n",
    "         ]"
   ]
  },
  {
   "cell_type": "code",
   "execution_count": 47,
   "metadata": {},
   "outputs": [
    {
     "data": {
      "text/plain": [
       "['accuracy',\n",
       " 'adjusted_mutual_info_score',\n",
       " 'adjusted_rand_score',\n",
       " 'average_precision',\n",
       " 'balanced_accuracy',\n",
       " 'completeness_score',\n",
       " 'explained_variance',\n",
       " 'f1',\n",
       " 'f1_macro',\n",
       " 'f1_micro',\n",
       " 'f1_samples',\n",
       " 'f1_weighted',\n",
       " 'fowlkes_mallows_score',\n",
       " 'homogeneity_score',\n",
       " 'jaccard',\n",
       " 'jaccard_macro',\n",
       " 'jaccard_micro',\n",
       " 'jaccard_samples',\n",
       " 'jaccard_weighted',\n",
       " 'matthews_corrcoef',\n",
       " 'max_error',\n",
       " 'mutual_info_score',\n",
       " 'neg_brier_score',\n",
       " 'neg_log_loss',\n",
       " 'neg_mean_absolute_error',\n",
       " 'neg_mean_absolute_percentage_error',\n",
       " 'neg_mean_gamma_deviance',\n",
       " 'neg_mean_poisson_deviance',\n",
       " 'neg_mean_squared_error',\n",
       " 'neg_mean_squared_log_error',\n",
       " 'neg_median_absolute_error',\n",
       " 'neg_root_mean_squared_error',\n",
       " 'normalized_mutual_info_score',\n",
       " 'precision',\n",
       " 'precision_macro',\n",
       " 'precision_micro',\n",
       " 'precision_samples',\n",
       " 'precision_weighted',\n",
       " 'r2',\n",
       " 'rand_score',\n",
       " 'recall',\n",
       " 'recall_macro',\n",
       " 'recall_micro',\n",
       " 'recall_samples',\n",
       " 'recall_weighted',\n",
       " 'roc_auc',\n",
       " 'roc_auc_ovo',\n",
       " 'roc_auc_ovo_weighted',\n",
       " 'roc_auc_ovr',\n",
       " 'roc_auc_ovr_weighted',\n",
       " 'top_k_accuracy',\n",
       " 'v_measure_score']"
      ]
     },
     "execution_count": 47,
     "metadata": {},
     "output_type": "execute_result"
    }
   ],
   "source": [
    "import sklearn\n",
    "sklearn.metrics.get_scorer_names()\n",
    "\n",
    "# For evaluating multiple scores, use sklearn.model_selection.cross_validate instead. ['r2'] was passed."
   ]
  },
  {
   "cell_type": "code",
   "execution_count": 48,
   "metadata": {
    "id": "HFVA5BinXaUz"
   },
   "outputs": [],
   "source": [
    "#Making function for making best 2 models for further hyperparameter tuning\n",
    "#  https://scikit-learn.org/stable/modules/cross_validation.html#cross-validation\n",
    "def basic_model_selection(x,y,cross_folds,model):\n",
    "    scores=[]\n",
    "    names = []\n",
    "    for i , j in model:\n",
    "        cv_scores = cross_val_score(j, x, y,cv=cross_folds,n_jobs=5)\n",
    "        scores.append(cv_scores)\n",
    "        names.append(i)\n",
    "    for k in range(len(scores)):\n",
    "        print(names[k],scores[k].mean())"
   ]
  },
  {
   "cell_type": "code",
   "execution_count": 49,
   "metadata": {},
   "outputs": [
    {
     "name": "stdout",
     "output_type": "stream",
     "text": [
      "lr 0.5600167514366816\n",
      "sgd -3.0237125539148104e+18\n",
      "lasso 0.5600380234974154\n",
      "ridge 0.5600211200777784\n",
      "en 0.4778293365405345\n",
      "huber 0.5539649597942178\n",
      "ransac 0.46157306546061017\n",
      "theilSen 0.5509865240003207\n"
     ]
    }
   ],
   "source": [
    "basic_model_selection(df_train_test,Y_train,4,models)"
   ]
  },
  {
   "cell_type": "code",
   "execution_count": 50,
   "metadata": {},
   "outputs": [
    {
     "name": "stdout",
     "output_type": "stream",
     "text": [
      "lr 0.5600167514366816\n",
      "sgd -3.23554479335913e+19\n",
      "lasso 0.5600380234974154\n",
      "ridge 0.5600211200777784\n",
      "en 0.4778293365405345\n",
      "huber 0.5539649597942178\n",
      "ransac 0.4787882144714091\n",
      "theilSen 0.5502871737920951\n"
     ]
    }
   ],
   "source": [
    "# N Mse score\n",
    "basic_model_selection(df_train_test,Y_train,4,models)"
   ]
  },
  {
   "cell_type": "code",
   "execution_count": 51,
   "metadata": {},
   "outputs": [
    {
     "name": "stdout",
     "output_type": "stream",
     "text": [
      "lr 0.5600167514366816\n",
      "sgd -8.467492900970033e+18\n",
      "lasso 0.5600380234974154\n",
      "ridge 0.5600211200777784\n",
      "en 0.4778293365405345\n",
      "huber 0.5539649597942178\n",
      "ransac 0.4617413622736879\n",
      "theilSen 0.5512446508665391\n"
     ]
    }
   ],
   "source": [
    "# N Mae score\n",
    "basic_model_selection(df_train_test,Y_train,4,models)"
   ]
  },
  {
   "cell_type": "code",
   "execution_count": 52,
   "metadata": {
    "colab": {
     "base_uri": "https://localhost:8080/"
    },
    "executionInfo": {
     "elapsed": 41716,
     "status": "ok",
     "timestamp": 1644224166628,
     "user": {
      "displayName": "Siddhi Jadhav",
      "photoUrl": "https://lh3.googleusercontent.com/a/default-user=s64",
      "userId": "08402691859170607175"
     },
     "user_tz": -330
    },
    "id": "-HN-mppzXaUz",
    "outputId": "53ea56f6-67eb-48eb-a56a-4b56f06b8172"
   },
   "outputs": [
    {
     "name": "stdout",
     "output_type": "stream",
     "text": [
      "lr 0.5600167514366816\n",
      "sgd -1.0277881369688498e+19\n",
      "lasso 0.5600380234974154\n",
      "ridge 0.5600211200777784\n",
      "en 0.4778293365405345\n",
      "huber 0.5539649597942178\n",
      "ransac 0.3825818393068324\n",
      "theilSen 0.5504851773221531\n"
     ]
    }
   ],
   "source": [
    "# R2 score\n",
    "basic_model_selection(df_train_test,Y_train,4,models)"
   ]
  },
  {
   "cell_type": "markdown",
   "metadata": {
    "id": "lNndHteFXaU0"
   },
   "source": [
    "# Standardization of the model before training"
   ]
  },
  {
   "cell_type": "code",
   "execution_count": 53,
   "metadata": {
    "id": "fzwi80u0XaU0"
   },
   "outputs": [
    {
     "data": {
      "text/html": [
       "<div>\n",
       "<style scoped>\n",
       "    .dataframe tbody tr th:only-of-type {\n",
       "        vertical-align: middle;\n",
       "    }\n",
       "\n",
       "    .dataframe tbody tr th {\n",
       "        vertical-align: top;\n",
       "    }\n",
       "\n",
       "    .dataframe thead th {\n",
       "        text-align: right;\n",
       "    }\n",
       "</style>\n",
       "<table border=\"1\" class=\"dataframe\">\n",
       "  <thead>\n",
       "    <tr style=\"text-align: right;\">\n",
       "      <th></th>\n",
       "      <th>Item_Weight</th>\n",
       "      <th>Item_Fat_Content</th>\n",
       "      <th>Item_Visibility</th>\n",
       "      <th>Item_MRP</th>\n",
       "      <th>Outlet_Size</th>\n",
       "      <th>Outlet_Location_Type</th>\n",
       "      <th>Outlet_Type</th>\n",
       "      <th>Item_Type_combined</th>\n",
       "      <th>years_old</th>\n",
       "      <th>Outlet_Identifier_OUT010</th>\n",
       "      <th>Outlet_Identifier_OUT013</th>\n",
       "      <th>Outlet_Identifier_OUT017</th>\n",
       "      <th>Outlet_Identifier_OUT018</th>\n",
       "      <th>Outlet_Identifier_OUT019</th>\n",
       "      <th>Outlet_Identifier_OUT027</th>\n",
       "      <th>Outlet_Identifier_OUT035</th>\n",
       "      <th>Outlet_Identifier_OUT045</th>\n",
       "      <th>Outlet_Identifier_OUT046</th>\n",
       "      <th>Outlet_Identifier_OUT049</th>\n",
       "    </tr>\n",
       "  </thead>\n",
       "  <tbody>\n",
       "    <tr>\n",
       "      <th>0</th>\n",
       "      <td>-0.769246</td>\n",
       "      <td>-0.997813</td>\n",
       "      <td>-1.081039</td>\n",
       "      <td>1.747454</td>\n",
       "      <td>-0.664080</td>\n",
       "      <td>-1.369334</td>\n",
       "      <td>-0.252658</td>\n",
       "      <td>-0.179795</td>\n",
       "      <td>-0.139541</td>\n",
       "      <td>-0.263920</td>\n",
       "      <td>-0.350395</td>\n",
       "      <td>-0.349128</td>\n",
       "      <td>-0.349551</td>\n",
       "      <td>-0.256985</td>\n",
       "      <td>-0.351028</td>\n",
       "      <td>-0.349973</td>\n",
       "      <td>-0.349762</td>\n",
       "      <td>-0.349973</td>\n",
       "      <td>2.857362</td>\n",
       "    </tr>\n",
       "    <tr>\n",
       "      <th>1</th>\n",
       "      <td>-1.496813</td>\n",
       "      <td>1.236942</td>\n",
       "      <td>-1.016230</td>\n",
       "      <td>-1.489023</td>\n",
       "      <td>-0.664080</td>\n",
       "      <td>1.091569</td>\n",
       "      <td>1.002972</td>\n",
       "      <td>-2.095286</td>\n",
       "      <td>-1.334103</td>\n",
       "      <td>-0.263920</td>\n",
       "      <td>-0.350395</td>\n",
       "      <td>-0.349128</td>\n",
       "      <td>2.860816</td>\n",
       "      <td>-0.256985</td>\n",
       "      <td>-0.351028</td>\n",
       "      <td>-0.349973</td>\n",
       "      <td>-0.349762</td>\n",
       "      <td>-0.349973</td>\n",
       "      <td>-0.349973</td>\n",
       "    </tr>\n",
       "    <tr>\n",
       "      <th>2</th>\n",
       "      <td>0.995858</td>\n",
       "      <td>-0.997813</td>\n",
       "      <td>-1.066741</td>\n",
       "      <td>0.010040</td>\n",
       "      <td>-0.664080</td>\n",
       "      <td>-1.369334</td>\n",
       "      <td>-0.252658</td>\n",
       "      <td>-0.179795</td>\n",
       "      <td>-0.139541</td>\n",
       "      <td>-0.263920</td>\n",
       "      <td>-0.350395</td>\n",
       "      <td>-0.349128</td>\n",
       "      <td>-0.349551</td>\n",
       "      <td>-0.256985</td>\n",
       "      <td>-0.351028</td>\n",
       "      <td>-0.349973</td>\n",
       "      <td>-0.349762</td>\n",
       "      <td>-0.349973</td>\n",
       "      <td>2.857362</td>\n",
       "    </tr>\n",
       "    <tr>\n",
       "      <th>3</th>\n",
       "      <td>1.361794</td>\n",
       "      <td>1.236942</td>\n",
       "      <td>-1.045193</td>\n",
       "      <td>0.660050</td>\n",
       "      <td>0.799954</td>\n",
       "      <td>1.091569</td>\n",
       "      <td>-1.508289</td>\n",
       "      <td>-0.179795</td>\n",
       "      <td>-0.020085</td>\n",
       "      <td>3.789031</td>\n",
       "      <td>-0.350395</td>\n",
       "      <td>-0.349128</td>\n",
       "      <td>-0.349551</td>\n",
       "      <td>-0.256985</td>\n",
       "      <td>-0.351028</td>\n",
       "      <td>-0.349973</td>\n",
       "      <td>-0.349762</td>\n",
       "      <td>-0.349973</td>\n",
       "      <td>-0.349973</td>\n",
       "    </tr>\n",
       "    <tr>\n",
       "      <th>4</th>\n",
       "      <td>-0.848890</td>\n",
       "      <td>0.119565</td>\n",
       "      <td>-1.206757</td>\n",
       "      <td>-1.399220</td>\n",
       "      <td>-2.128115</td>\n",
       "      <td>1.091569</td>\n",
       "      <td>-0.252658</td>\n",
       "      <td>1.735696</td>\n",
       "      <td>1.293934</td>\n",
       "      <td>-0.263920</td>\n",
       "      <td>2.853918</td>\n",
       "      <td>-0.349128</td>\n",
       "      <td>-0.349551</td>\n",
       "      <td>-0.256985</td>\n",
       "      <td>-0.351028</td>\n",
       "      <td>-0.349973</td>\n",
       "      <td>-0.349762</td>\n",
       "      <td>-0.349973</td>\n",
       "      <td>-0.349973</td>\n",
       "    </tr>\n",
       "  </tbody>\n",
       "</table>\n",
       "</div>"
      ],
      "text/plain": [
       "   Item_Weight  Item_Fat_Content  Item_Visibility  Item_MRP  Outlet_Size  \\\n",
       "0    -0.769246         -0.997813        -1.081039  1.747454    -0.664080   \n",
       "1    -1.496813          1.236942        -1.016230 -1.489023    -0.664080   \n",
       "2     0.995858         -0.997813        -1.066741  0.010040    -0.664080   \n",
       "3     1.361794          1.236942        -1.045193  0.660050     0.799954   \n",
       "4    -0.848890          0.119565        -1.206757 -1.399220    -2.128115   \n",
       "\n",
       "   Outlet_Location_Type  Outlet_Type  Item_Type_combined  years_old  \\\n",
       "0             -1.369334    -0.252658           -0.179795  -0.139541   \n",
       "1              1.091569     1.002972           -2.095286  -1.334103   \n",
       "2             -1.369334    -0.252658           -0.179795  -0.139541   \n",
       "3              1.091569    -1.508289           -0.179795  -0.020085   \n",
       "4              1.091569    -0.252658            1.735696   1.293934   \n",
       "\n",
       "   Outlet_Identifier_OUT010  Outlet_Identifier_OUT013  \\\n",
       "0                 -0.263920                 -0.350395   \n",
       "1                 -0.263920                 -0.350395   \n",
       "2                 -0.263920                 -0.350395   \n",
       "3                  3.789031                 -0.350395   \n",
       "4                 -0.263920                  2.853918   \n",
       "\n",
       "   Outlet_Identifier_OUT017  Outlet_Identifier_OUT018  \\\n",
       "0                 -0.349128                 -0.349551   \n",
       "1                 -0.349128                  2.860816   \n",
       "2                 -0.349128                 -0.349551   \n",
       "3                 -0.349128                 -0.349551   \n",
       "4                 -0.349128                 -0.349551   \n",
       "\n",
       "   Outlet_Identifier_OUT019  Outlet_Identifier_OUT027  \\\n",
       "0                 -0.256985                 -0.351028   \n",
       "1                 -0.256985                 -0.351028   \n",
       "2                 -0.256985                 -0.351028   \n",
       "3                 -0.256985                 -0.351028   \n",
       "4                 -0.256985                 -0.351028   \n",
       "\n",
       "   Outlet_Identifier_OUT035  Outlet_Identifier_OUT045  \\\n",
       "0                 -0.349973                 -0.349762   \n",
       "1                 -0.349973                 -0.349762   \n",
       "2                 -0.349973                 -0.349762   \n",
       "3                 -0.349973                 -0.349762   \n",
       "4                 -0.349973                 -0.349762   \n",
       "\n",
       "   Outlet_Identifier_OUT046  Outlet_Identifier_OUT049  \n",
       "0                 -0.349973                  2.857362  \n",
       "1                 -0.349973                 -0.349973  \n",
       "2                 -0.349973                  2.857362  \n",
       "3                 -0.349973                 -0.349973  \n",
       "4                 -0.349973                 -0.349973  "
      ]
     },
     "execution_count": 53,
     "metadata": {},
     "output_type": "execute_result"
    }
   ],
   "source": [
    "from sklearn.preprocessing import StandardScaler\n",
    "scaler = StandardScaler()\n",
    "\n",
    "standardized=scaler.fit_transform(df_train_test)\n",
    "column_names = df_train_test.columns\n",
    "df_standardized = pd.DataFrame(data=standardized,columns=column_names)\n",
    "df_standardized.head()"
   ]
  },
  {
   "cell_type": "code",
   "execution_count": 54,
   "metadata": {
    "id": "ssox0NyJXaU0"
   },
   "outputs": [
    {
     "name": "stdout",
     "output_type": "stream",
     "text": [
      "lr 0.5596423399412482\n",
      "sgd 0.5587144652784458\n",
      "lasso 0.5600954106586716\n",
      "ridge 0.5600174793091026\n",
      "en 0.5116678074172953\n",
      "huber 0.5540855379256\n",
      "ransac 0.4566295008768121\n",
      "theilSen 0.5242736501757879\n"
     ]
    }
   ],
   "source": [
    "basic_model_selection(df_standardized,Y_train,4,models)"
   ]
  },
  {
   "cell_type": "markdown",
   "metadata": {
    "id": "_QKLvJHgXaU1"
   },
   "source": [
    "# Using Robust Scaler\n",
    "\n",
    "#### My dataset having outliers make it more prone to mistakes\n",
    "* Robust Scaler handles the outliers as well\n",
    "* It scales according to the quartile range"
   ]
  },
  {
   "cell_type": "code",
   "execution_count": 55,
   "metadata": {
    "colab": {
     "base_uri": "https://localhost:8080/"
    },
    "executionInfo": {
     "elapsed": 4,
     "status": "ok",
     "timestamp": 1644228066687,
     "user": {
      "displayName": "Siddhi Jadhav",
      "photoUrl": "https://lh3.googleusercontent.com/a/default-user=s64",
      "userId": "08402691859170607175"
     },
     "user_tz": -330
    },
    "id": "8jXCYhicXaU1",
    "outputId": "61e7abcd-150c-4f0e-a422-83b01f5094e5"
   },
   "outputs": [
    {
     "data": {
      "text/html": [
       "<div>\n",
       "<style scoped>\n",
       "    .dataframe tbody tr th:only-of-type {\n",
       "        vertical-align: middle;\n",
       "    }\n",
       "\n",
       "    .dataframe tbody tr th {\n",
       "        vertical-align: top;\n",
       "    }\n",
       "\n",
       "    .dataframe thead th {\n",
       "        text-align: right;\n",
       "    }\n",
       "</style>\n",
       "<table border=\"1\" class=\"dataframe\">\n",
       "  <thead>\n",
       "    <tr style=\"text-align: right;\">\n",
       "      <th></th>\n",
       "      <th>Item_Weight</th>\n",
       "      <th>Item_Fat_Content</th>\n",
       "      <th>Item_Visibility</th>\n",
       "      <th>Item_MRP</th>\n",
       "      <th>Outlet_Size</th>\n",
       "      <th>Outlet_Location_Type</th>\n",
       "      <th>Outlet_Type</th>\n",
       "      <th>Item_Type_combined</th>\n",
       "      <th>years_old</th>\n",
       "      <th>Outlet_Identifier_OUT010</th>\n",
       "      <th>Outlet_Identifier_OUT013</th>\n",
       "      <th>Outlet_Identifier_OUT017</th>\n",
       "      <th>Outlet_Identifier_OUT018</th>\n",
       "      <th>Outlet_Identifier_OUT019</th>\n",
       "      <th>Outlet_Identifier_OUT027</th>\n",
       "      <th>Outlet_Identifier_OUT035</th>\n",
       "      <th>Outlet_Identifier_OUT045</th>\n",
       "      <th>Outlet_Identifier_OUT046</th>\n",
       "      <th>Outlet_Identifier_OUT049</th>\n",
       "    </tr>\n",
       "  </thead>\n",
       "  <tbody>\n",
       "    <tr>\n",
       "      <th>0</th>\n",
       "      <td>0.282525</td>\n",
       "      <td>0.0</td>\n",
       "      <td>0.038399</td>\n",
       "      <td>0.927507</td>\n",
       "      <td>0.5</td>\n",
       "      <td>0.0</td>\n",
       "      <td>0.333333</td>\n",
       "      <td>0.5</td>\n",
       "      <td>0.416667</td>\n",
       "      <td>0.0</td>\n",
       "      <td>0.0</td>\n",
       "      <td>0.0</td>\n",
       "      <td>0.0</td>\n",
       "      <td>0.0</td>\n",
       "      <td>0.0</td>\n",
       "      <td>0.0</td>\n",
       "      <td>0.0</td>\n",
       "      <td>0.0</td>\n",
       "      <td>1.0</td>\n",
       "    </tr>\n",
       "    <tr>\n",
       "      <th>1</th>\n",
       "      <td>0.081274</td>\n",
       "      <td>1.0</td>\n",
       "      <td>0.048346</td>\n",
       "      <td>0.072068</td>\n",
       "      <td>0.5</td>\n",
       "      <td>1.0</td>\n",
       "      <td>0.666667</td>\n",
       "      <td>0.0</td>\n",
       "      <td>0.000000</td>\n",
       "      <td>0.0</td>\n",
       "      <td>0.0</td>\n",
       "      <td>0.0</td>\n",
       "      <td>1.0</td>\n",
       "      <td>0.0</td>\n",
       "      <td>0.0</td>\n",
       "      <td>0.0</td>\n",
       "      <td>0.0</td>\n",
       "      <td>0.0</td>\n",
       "      <td>0.0</td>\n",
       "    </tr>\n",
       "    <tr>\n",
       "      <th>2</th>\n",
       "      <td>0.770765</td>\n",
       "      <td>0.0</td>\n",
       "      <td>0.040593</td>\n",
       "      <td>0.468288</td>\n",
       "      <td>0.5</td>\n",
       "      <td>0.0</td>\n",
       "      <td>0.333333</td>\n",
       "      <td>0.5</td>\n",
       "      <td>0.416667</td>\n",
       "      <td>0.0</td>\n",
       "      <td>0.0</td>\n",
       "      <td>0.0</td>\n",
       "      <td>0.0</td>\n",
       "      <td>0.0</td>\n",
       "      <td>0.0</td>\n",
       "      <td>0.0</td>\n",
       "      <td>0.0</td>\n",
       "      <td>0.0</td>\n",
       "      <td>1.0</td>\n",
       "    </tr>\n",
       "    <tr>\n",
       "      <th>3</th>\n",
       "      <td>0.871986</td>\n",
       "      <td>1.0</td>\n",
       "      <td>0.043901</td>\n",
       "      <td>0.640093</td>\n",
       "      <td>1.0</td>\n",
       "      <td>1.0</td>\n",
       "      <td>0.000000</td>\n",
       "      <td>0.5</td>\n",
       "      <td>0.458333</td>\n",
       "      <td>1.0</td>\n",
       "      <td>0.0</td>\n",
       "      <td>0.0</td>\n",
       "      <td>0.0</td>\n",
       "      <td>0.0</td>\n",
       "      <td>0.0</td>\n",
       "      <td>0.0</td>\n",
       "      <td>0.0</td>\n",
       "      <td>0.0</td>\n",
       "      <td>0.0</td>\n",
       "    </tr>\n",
       "    <tr>\n",
       "      <th>4</th>\n",
       "      <td>0.260494</td>\n",
       "      <td>0.5</td>\n",
       "      <td>0.019104</td>\n",
       "      <td>0.095805</td>\n",
       "      <td>0.0</td>\n",
       "      <td>1.0</td>\n",
       "      <td>0.333333</td>\n",
       "      <td>1.0</td>\n",
       "      <td>0.916667</td>\n",
       "      <td>0.0</td>\n",
       "      <td>1.0</td>\n",
       "      <td>0.0</td>\n",
       "      <td>0.0</td>\n",
       "      <td>0.0</td>\n",
       "      <td>0.0</td>\n",
       "      <td>0.0</td>\n",
       "      <td>0.0</td>\n",
       "      <td>0.0</td>\n",
       "      <td>0.0</td>\n",
       "    </tr>\n",
       "  </tbody>\n",
       "</table>\n",
       "</div>"
      ],
      "text/plain": [
       "   Item_Weight  Item_Fat_Content  Item_Visibility  Item_MRP  Outlet_Size  \\\n",
       "0     0.282525               0.0         0.038399  0.927507          0.5   \n",
       "1     0.081274               1.0         0.048346  0.072068          0.5   \n",
       "2     0.770765               0.0         0.040593  0.468288          0.5   \n",
       "3     0.871986               1.0         0.043901  0.640093          1.0   \n",
       "4     0.260494               0.5         0.019104  0.095805          0.0   \n",
       "\n",
       "   Outlet_Location_Type  Outlet_Type  Item_Type_combined  years_old  \\\n",
       "0                   0.0     0.333333                 0.5   0.416667   \n",
       "1                   1.0     0.666667                 0.0   0.000000   \n",
       "2                   0.0     0.333333                 0.5   0.416667   \n",
       "3                   1.0     0.000000                 0.5   0.458333   \n",
       "4                   1.0     0.333333                 1.0   0.916667   \n",
       "\n",
       "   Outlet_Identifier_OUT010  Outlet_Identifier_OUT013  \\\n",
       "0                       0.0                       0.0   \n",
       "1                       0.0                       0.0   \n",
       "2                       0.0                       0.0   \n",
       "3                       1.0                       0.0   \n",
       "4                       0.0                       1.0   \n",
       "\n",
       "   Outlet_Identifier_OUT017  Outlet_Identifier_OUT018  \\\n",
       "0                       0.0                       0.0   \n",
       "1                       0.0                       1.0   \n",
       "2                       0.0                       0.0   \n",
       "3                       0.0                       0.0   \n",
       "4                       0.0                       0.0   \n",
       "\n",
       "   Outlet_Identifier_OUT019  Outlet_Identifier_OUT027  \\\n",
       "0                       0.0                       0.0   \n",
       "1                       0.0                       0.0   \n",
       "2                       0.0                       0.0   \n",
       "3                       0.0                       0.0   \n",
       "4                       0.0                       0.0   \n",
       "\n",
       "   Outlet_Identifier_OUT035  Outlet_Identifier_OUT045  \\\n",
       "0                       0.0                       0.0   \n",
       "1                       0.0                       0.0   \n",
       "2                       0.0                       0.0   \n",
       "3                       0.0                       0.0   \n",
       "4                       0.0                       0.0   \n",
       "\n",
       "   Outlet_Identifier_OUT046  Outlet_Identifier_OUT049  \n",
       "0                       0.0                       1.0  \n",
       "1                       0.0                       0.0  \n",
       "2                       0.0                       1.0  \n",
       "3                       0.0                       0.0  \n",
       "4                       0.0                       0.0  "
      ]
     },
     "execution_count": 55,
     "metadata": {},
     "output_type": "execute_result"
    }
   ],
   "source": [
    "from sklearn.preprocessing import RobustScaler\n",
    "from sklearn.preprocessing import MinMaxScaler\n",
    "\n",
    "normalize = MinMaxScaler()\n",
    "robust = RobustScaler(quantile_range = (0.1,0.8)) #range of inerquartile is one of the parameters\n",
    "\n",
    "robust_stan = robust.fit_transform(df_train_test)\n",
    "robust_stan_normalize = normalize.fit_transform(robust_stan)\n",
    "\n",
    "# also normalized the dataset using MinMaxScaler i.e has bought the data set between (0,1)\n",
    "df_robust_normalize = pd.DataFrame(robust_stan_normalize,columns=column_names)\n",
    "df_robust_normalize.head()"
   ]
  },
  {
   "cell_type": "code",
   "execution_count": 56,
   "metadata": {
    "colab": {
     "base_uri": "https://localhost:8080/"
    },
    "executionInfo": {
     "elapsed": 36289,
     "status": "ok",
     "timestamp": 1644228102974,
     "user": {
      "displayName": "Siddhi Jadhav",
      "photoUrl": "https://lh3.googleusercontent.com/a/default-user=s64",
      "userId": "08402691859170607175"
     },
     "user_tz": -330
    },
    "id": "yTjc_1nhXaU1",
    "outputId": "2f6f73ee-e005-4b9e-b018-092610b16acf"
   },
   "outputs": [
    {
     "name": "stdout",
     "output_type": "stream",
     "text": [
      "lr 0.5600807120780363\n",
      "sgd 0.5599071522757164\n",
      "lasso 0.5602359565219659\n",
      "ridge 0.560024447390153\n",
      "en 0.16451783452458144\n",
      "huber 0.5540659349000969\n",
      "ransac 0.41857811460138594\n",
      "theilSen 0.5470347657133786\n"
     ]
    }
   ],
   "source": [
    "basic_model_selection(df_robust_normalize,Y_train,4,models)"
   ]
  },
  {
   "cell_type": "code",
   "execution_count": 60,
   "metadata": {},
   "outputs": [],
   "source": [
    "# Metrics Calculation\n",
    "from sklearn.metrics import r2_score, mean_absolute_error ,mean_squared_error\n",
    "\n",
    "import math\n",
    "def root_mean_squared_error(y,y_pred):\n",
    "    mse =np.square(np.subtract(y,y_pred)).mean()\n",
    "    rmse = math.sqrt(mse)\n",
    "    return rmse"
   ]
  },
  {
   "cell_type": "markdown",
   "metadata": {
    "id": "fJFzeJ_tXaU2"
   },
   "source": [
    "# Best Model \n",
    "#### Comparing all models using RMSE score "
   ]
  },
  {
   "cell_type": "code",
   "execution_count": 57,
   "metadata": {
    "id": "A6Gwd-osXaU2"
   },
   "outputs": [],
   "source": [
    "robust_test = robust.fit_transform(df_new_test)\n",
    "robust_normalize_test = normalize.fit_transform(robust_test)\n",
    "df_test_robust_normalize = pd.DataFrame(robust_normalize_test,columns=column_names)"
   ]
  },
  {
   "cell_type": "markdown",
   "metadata": {},
   "source": [
    "## Linear Regression"
   ]
  },
  {
   "cell_type": "code",
   "execution_count": 58,
   "metadata": {
    "id": "i3ZZHgMfXaU2"
   },
   "outputs": [],
   "source": [
    "model = LinearRegression()\n",
    "# Defining my final model that I will use for prediction"
   ]
  },
  {
   "cell_type": "code",
   "execution_count": 59,
   "metadata": {
    "colab": {
     "base_uri": "https://localhost:8080/"
    },
    "executionInfo": {
     "elapsed": 4336,
     "status": "ok",
     "timestamp": 1644229120223,
     "user": {
      "displayName": "Siddhi Jadhav",
      "photoUrl": "https://lh3.googleusercontent.com/a/default-user=s64",
      "userId": "08402691859170607175"
     },
     "user_tz": -330
    },
    "id": "O2kTQpw8XaU2",
    "outputId": "0b54f4ba-a8dd-4a92-9817-77e54e146eb7"
   },
   "outputs": [
    {
     "data": {
      "text/html": [
       "<style>#sk-container-id-1 {color: black;background-color: white;}#sk-container-id-1 pre{padding: 0;}#sk-container-id-1 div.sk-toggleable {background-color: white;}#sk-container-id-1 label.sk-toggleable__label {cursor: pointer;display: block;width: 100%;margin-bottom: 0;padding: 0.3em;box-sizing: border-box;text-align: center;}#sk-container-id-1 label.sk-toggleable__label-arrow:before {content: \"▸\";float: left;margin-right: 0.25em;color: #696969;}#sk-container-id-1 label.sk-toggleable__label-arrow:hover:before {color: black;}#sk-container-id-1 div.sk-estimator:hover label.sk-toggleable__label-arrow:before {color: black;}#sk-container-id-1 div.sk-toggleable__content {max-height: 0;max-width: 0;overflow: hidden;text-align: left;background-color: #f0f8ff;}#sk-container-id-1 div.sk-toggleable__content pre {margin: 0.2em;color: black;border-radius: 0.25em;background-color: #f0f8ff;}#sk-container-id-1 input.sk-toggleable__control:checked~div.sk-toggleable__content {max-height: 200px;max-width: 100%;overflow: auto;}#sk-container-id-1 input.sk-toggleable__control:checked~label.sk-toggleable__label-arrow:before {content: \"▾\";}#sk-container-id-1 div.sk-estimator input.sk-toggleable__control:checked~label.sk-toggleable__label {background-color: #d4ebff;}#sk-container-id-1 div.sk-label input.sk-toggleable__control:checked~label.sk-toggleable__label {background-color: #d4ebff;}#sk-container-id-1 input.sk-hidden--visually {border: 0;clip: rect(1px 1px 1px 1px);clip: rect(1px, 1px, 1px, 1px);height: 1px;margin: -1px;overflow: hidden;padding: 0;position: absolute;width: 1px;}#sk-container-id-1 div.sk-estimator {font-family: monospace;background-color: #f0f8ff;border: 1px dotted black;border-radius: 0.25em;box-sizing: border-box;margin-bottom: 0.5em;}#sk-container-id-1 div.sk-estimator:hover {background-color: #d4ebff;}#sk-container-id-1 div.sk-parallel-item::after {content: \"\";width: 100%;border-bottom: 1px solid gray;flex-grow: 1;}#sk-container-id-1 div.sk-label:hover label.sk-toggleable__label {background-color: #d4ebff;}#sk-container-id-1 div.sk-serial::before {content: \"\";position: absolute;border-left: 1px solid gray;box-sizing: border-box;top: 0;bottom: 0;left: 50%;z-index: 0;}#sk-container-id-1 div.sk-serial {display: flex;flex-direction: column;align-items: center;background-color: white;padding-right: 0.2em;padding-left: 0.2em;position: relative;}#sk-container-id-1 div.sk-item {position: relative;z-index: 1;}#sk-container-id-1 div.sk-parallel {display: flex;align-items: stretch;justify-content: center;background-color: white;position: relative;}#sk-container-id-1 div.sk-item::before, #sk-container-id-1 div.sk-parallel-item::before {content: \"\";position: absolute;border-left: 1px solid gray;box-sizing: border-box;top: 0;bottom: 0;left: 50%;z-index: -1;}#sk-container-id-1 div.sk-parallel-item {display: flex;flex-direction: column;z-index: 1;position: relative;background-color: white;}#sk-container-id-1 div.sk-parallel-item:first-child::after {align-self: flex-end;width: 50%;}#sk-container-id-1 div.sk-parallel-item:last-child::after {align-self: flex-start;width: 50%;}#sk-container-id-1 div.sk-parallel-item:only-child::after {width: 0;}#sk-container-id-1 div.sk-dashed-wrapped {border: 1px dashed gray;margin: 0 0.4em 0.5em 0.4em;box-sizing: border-box;padding-bottom: 0.4em;background-color: white;}#sk-container-id-1 div.sk-label label {font-family: monospace;font-weight: bold;display: inline-block;line-height: 1.2em;}#sk-container-id-1 div.sk-label-container {text-align: center;}#sk-container-id-1 div.sk-container {/* jupyter's `normalize.less` sets `[hidden] { display: none; }` but bootstrap.min.css set `[hidden] { display: none !important; }` so we also need the `!important` here to be able to override the default hidden behavior on the sphinx rendered scikit-learn.org. See: https://github.com/scikit-learn/scikit-learn/issues/21755 */display: inline-block !important;position: relative;}#sk-container-id-1 div.sk-text-repr-fallback {display: none;}</style><div id=\"sk-container-id-1\" class=\"sk-top-container\"><div class=\"sk-text-repr-fallback\"><pre>LinearRegression()</pre><b>In a Jupyter environment, please rerun this cell to show the HTML representation or trust the notebook. <br />On GitHub, the HTML representation is unable to render, please try loading this page with nbviewer.org.</b></div><div class=\"sk-container\" hidden><div class=\"sk-item\"><div class=\"sk-estimator sk-toggleable\"><input class=\"sk-toggleable__control sk-hidden--visually\" id=\"sk-estimator-id-1\" type=\"checkbox\" checked><label for=\"sk-estimator-id-1\" class=\"sk-toggleable__label sk-toggleable__label-arrow\">LinearRegression</label><div class=\"sk-toggleable__content\"><pre>LinearRegression()</pre></div></div></div></div></div>"
      ],
      "text/plain": [
       "LinearRegression()"
      ]
     },
     "execution_count": 59,
     "metadata": {},
     "output_type": "execute_result"
    }
   ],
   "source": [
    "model.fit(df_robust_normalize,Y_train)"
   ]
  },
  {
   "cell_type": "code",
   "execution_count": 61,
   "metadata": {
    "collapsed": true
   },
   "outputs": [
    {
     "data": {
      "text/plain": [
       "(-4907991773321971.0,\n",
       " array([ 5.58926229e-01,  4.56752910e+01, -5.16607548e+01,  3.66303252e+03,\n",
       "         1.01747310e+16, -8.61239758e+15,  1.45758184e+15, -4.98389230e+01,\n",
       "         9.80926433e+14,  2.89606710e+15,  1.21353462e+16, -1.52814489e+15,\n",
       "         7.46130264e+15, -6.24766563e+15,  5.99451559e+15, -1.65076070e+15,\n",
       "        -1.73250457e+15, -6.24306303e+15, -1.07395368e+15]))"
      ]
     },
     "execution_count": 61,
     "metadata": {},
     "output_type": "execute_result"
    }
   ],
   "source": [
    "model.intercept_ , model.coef_"
   ]
  },
  {
   "cell_type": "code",
   "execution_count": 62,
   "metadata": {},
   "outputs": [
    {
     "name": "stdout",
     "output_type": "stream",
     "text": [
      "MAE Score for model is :  835.9927097500881\n",
      "MSE Score for model is :  1271277.8520971958\n",
      "RMSE Score for model is :  1127.5095796032936\n",
      "R2 Score for model is :  0.5634047063842056\n"
     ]
    }
   ],
   "source": [
    "print(\"MAE Score for model is : \",mean_absolute_error(Y_train,model.predict(df_robust_normalize)))\n",
    "print(\"MSE Score for model is : \",mean_squared_error(Y_train,model.predict(df_robust_normalize)))\n",
    "print(\"RMSE Score for model is : \",root_mean_squared_error(Y_train,model.predict(df_robust_normalize)))\n",
    "print(\"R2 Score for model is : \",r2_score(Y_train,model.predict(df_robust_normalize)))"
   ]
  },
  {
   "cell_type": "code",
   "execution_count": 117,
   "metadata": {},
   "outputs": [],
   "source": [
    "def feature_imp(estimator):\n",
    "    \"\"\"\n",
    "    This function gives the feature importance dataframe for a emsemble or tree based estimator/model.\n",
    "    input:\n",
    "        estimator\n",
    "    returns:\n",
    "        dataframe feature importance\n",
    "    \"\"\"\n",
    "    if hasattr(estimator, 'feature_importances_'):\n",
    "        importances_value = estimator.feature_importances_.tolist()\n",
    "    else:\n",
    "        return \"feature_importances_ is not supported.\"\n",
    "    \n",
    "    if hasattr(estimator, 'feature_names_in_'):\n",
    "        importances_name = estimator.feature_names_in_.tolist()\n",
    "    else:\n",
    "        return \"feature_names_in_ is not supported.\"\n",
    "    \n",
    "    feature_importance_df = pd.DataFrame({'feature_name':importances_name,'feature_columns':importances_value})\n",
    "    feature_importance_df.sort_values(by='feature_columns',ascending=False,inplace=True)\n",
    "    feature_importance_df = feature_importance_df.reset_index(drop=True)\n",
    "    return feature_importance_df"
   ]
  },
  {
   "cell_type": "markdown",
   "metadata": {},
   "source": [
    "## Decison Tree Regressor"
   ]
  },
  {
   "cell_type": "code",
   "execution_count": 66,
   "metadata": {},
   "outputs": [],
   "source": [
    "from sklearn.tree import DecisionTreeRegressor"
   ]
  },
  {
   "cell_type": "code",
   "execution_count": 67,
   "metadata": {},
   "outputs": [],
   "source": [
    "model_dtree = DecisionTreeRegressor()"
   ]
  },
  {
   "cell_type": "code",
   "execution_count": 68,
   "metadata": {},
   "outputs": [
    {
     "data": {
      "text/html": [
       "<style>#sk-container-id-2 {color: black;background-color: white;}#sk-container-id-2 pre{padding: 0;}#sk-container-id-2 div.sk-toggleable {background-color: white;}#sk-container-id-2 label.sk-toggleable__label {cursor: pointer;display: block;width: 100%;margin-bottom: 0;padding: 0.3em;box-sizing: border-box;text-align: center;}#sk-container-id-2 label.sk-toggleable__label-arrow:before {content: \"▸\";float: left;margin-right: 0.25em;color: #696969;}#sk-container-id-2 label.sk-toggleable__label-arrow:hover:before {color: black;}#sk-container-id-2 div.sk-estimator:hover label.sk-toggleable__label-arrow:before {color: black;}#sk-container-id-2 div.sk-toggleable__content {max-height: 0;max-width: 0;overflow: hidden;text-align: left;background-color: #f0f8ff;}#sk-container-id-2 div.sk-toggleable__content pre {margin: 0.2em;color: black;border-radius: 0.25em;background-color: #f0f8ff;}#sk-container-id-2 input.sk-toggleable__control:checked~div.sk-toggleable__content {max-height: 200px;max-width: 100%;overflow: auto;}#sk-container-id-2 input.sk-toggleable__control:checked~label.sk-toggleable__label-arrow:before {content: \"▾\";}#sk-container-id-2 div.sk-estimator input.sk-toggleable__control:checked~label.sk-toggleable__label {background-color: #d4ebff;}#sk-container-id-2 div.sk-label input.sk-toggleable__control:checked~label.sk-toggleable__label {background-color: #d4ebff;}#sk-container-id-2 input.sk-hidden--visually {border: 0;clip: rect(1px 1px 1px 1px);clip: rect(1px, 1px, 1px, 1px);height: 1px;margin: -1px;overflow: hidden;padding: 0;position: absolute;width: 1px;}#sk-container-id-2 div.sk-estimator {font-family: monospace;background-color: #f0f8ff;border: 1px dotted black;border-radius: 0.25em;box-sizing: border-box;margin-bottom: 0.5em;}#sk-container-id-2 div.sk-estimator:hover {background-color: #d4ebff;}#sk-container-id-2 div.sk-parallel-item::after {content: \"\";width: 100%;border-bottom: 1px solid gray;flex-grow: 1;}#sk-container-id-2 div.sk-label:hover label.sk-toggleable__label {background-color: #d4ebff;}#sk-container-id-2 div.sk-serial::before {content: \"\";position: absolute;border-left: 1px solid gray;box-sizing: border-box;top: 0;bottom: 0;left: 50%;z-index: 0;}#sk-container-id-2 div.sk-serial {display: flex;flex-direction: column;align-items: center;background-color: white;padding-right: 0.2em;padding-left: 0.2em;position: relative;}#sk-container-id-2 div.sk-item {position: relative;z-index: 1;}#sk-container-id-2 div.sk-parallel {display: flex;align-items: stretch;justify-content: center;background-color: white;position: relative;}#sk-container-id-2 div.sk-item::before, #sk-container-id-2 div.sk-parallel-item::before {content: \"\";position: absolute;border-left: 1px solid gray;box-sizing: border-box;top: 0;bottom: 0;left: 50%;z-index: -1;}#sk-container-id-2 div.sk-parallel-item {display: flex;flex-direction: column;z-index: 1;position: relative;background-color: white;}#sk-container-id-2 div.sk-parallel-item:first-child::after {align-self: flex-end;width: 50%;}#sk-container-id-2 div.sk-parallel-item:last-child::after {align-self: flex-start;width: 50%;}#sk-container-id-2 div.sk-parallel-item:only-child::after {width: 0;}#sk-container-id-2 div.sk-dashed-wrapped {border: 1px dashed gray;margin: 0 0.4em 0.5em 0.4em;box-sizing: border-box;padding-bottom: 0.4em;background-color: white;}#sk-container-id-2 div.sk-label label {font-family: monospace;font-weight: bold;display: inline-block;line-height: 1.2em;}#sk-container-id-2 div.sk-label-container {text-align: center;}#sk-container-id-2 div.sk-container {/* jupyter's `normalize.less` sets `[hidden] { display: none; }` but bootstrap.min.css set `[hidden] { display: none !important; }` so we also need the `!important` here to be able to override the default hidden behavior on the sphinx rendered scikit-learn.org. See: https://github.com/scikit-learn/scikit-learn/issues/21755 */display: inline-block !important;position: relative;}#sk-container-id-2 div.sk-text-repr-fallback {display: none;}</style><div id=\"sk-container-id-2\" class=\"sk-top-container\"><div class=\"sk-text-repr-fallback\"><pre>DecisionTreeRegressor()</pre><b>In a Jupyter environment, please rerun this cell to show the HTML representation or trust the notebook. <br />On GitHub, the HTML representation is unable to render, please try loading this page with nbviewer.org.</b></div><div class=\"sk-container\" hidden><div class=\"sk-item\"><div class=\"sk-estimator sk-toggleable\"><input class=\"sk-toggleable__control sk-hidden--visually\" id=\"sk-estimator-id-2\" type=\"checkbox\" checked><label for=\"sk-estimator-id-2\" class=\"sk-toggleable__label sk-toggleable__label-arrow\">DecisionTreeRegressor</label><div class=\"sk-toggleable__content\"><pre>DecisionTreeRegressor()</pre></div></div></div></div></div>"
      ],
      "text/plain": [
       "DecisionTreeRegressor()"
      ]
     },
     "execution_count": 68,
     "metadata": {},
     "output_type": "execute_result"
    }
   ],
   "source": [
    "model_dtree.fit(df_robust_normalize,Y_train)"
   ]
  },
  {
   "cell_type": "code",
   "execution_count": 69,
   "metadata": {},
   "outputs": [
    {
     "name": "stdout",
     "output_type": "stream",
     "text": [
      "MAE Score for model_dtree is :  8.003297270089125e-17\n",
      "MSE Score for model_dtree is :  1.81973911596495e-29\n",
      "RMSE Score for model_dtree is :  4.265840029777195e-15\n",
      "R2 Score for model_dtree is :  1.0\n"
     ]
    }
   ],
   "source": [
    "print(\"MAE Score for model_dtree is : \",mean_absolute_error(Y_train,model_dtree.predict(df_robust_normalize)))\n",
    "print(\"MSE Score for model_dtree is : \",mean_squared_error(Y_train,model_dtree.predict(df_robust_normalize)))\n",
    "print(\"RMSE Score for model_dtree is : \",root_mean_squared_error(Y_train,model_dtree.predict(df_robust_normalize)))\n",
    "print(\"R2 Score for model_dtree is : \",r2_score(Y_train,model_dtree.predict(df_robust_normalize)))"
   ]
  },
  {
   "cell_type": "code",
   "execution_count": 118,
   "metadata": {},
   "outputs": [
    {
     "data": {
      "text/html": [
       "<div>\n",
       "<style scoped>\n",
       "    .dataframe tbody tr th:only-of-type {\n",
       "        vertical-align: middle;\n",
       "    }\n",
       "\n",
       "    .dataframe tbody tr th {\n",
       "        vertical-align: top;\n",
       "    }\n",
       "\n",
       "    .dataframe thead th {\n",
       "        text-align: right;\n",
       "    }\n",
       "</style>\n",
       "<table border=\"1\" class=\"dataframe\">\n",
       "  <thead>\n",
       "    <tr style=\"text-align: right;\">\n",
       "      <th></th>\n",
       "      <th>feature_name</th>\n",
       "      <th>feature_columns</th>\n",
       "    </tr>\n",
       "  </thead>\n",
       "  <tbody>\n",
       "    <tr>\n",
       "      <th>0</th>\n",
       "      <td>Item_MRP</td>\n",
       "      <td>0.449833</td>\n",
       "    </tr>\n",
       "    <tr>\n",
       "      <th>1</th>\n",
       "      <td>Outlet_Type</td>\n",
       "      <td>0.199010</td>\n",
       "    </tr>\n",
       "    <tr>\n",
       "      <th>2</th>\n",
       "      <td>Item_Visibility</td>\n",
       "      <td>0.117299</td>\n",
       "    </tr>\n",
       "    <tr>\n",
       "      <th>3</th>\n",
       "      <td>Item_Weight</td>\n",
       "      <td>0.077999</td>\n",
       "    </tr>\n",
       "    <tr>\n",
       "      <th>4</th>\n",
       "      <td>Outlet_Identifier_OUT027</td>\n",
       "      <td>0.074645</td>\n",
       "    </tr>\n",
       "    <tr>\n",
       "      <th>5</th>\n",
       "      <td>years_old</td>\n",
       "      <td>0.016486</td>\n",
       "    </tr>\n",
       "    <tr>\n",
       "      <th>6</th>\n",
       "      <td>Item_Fat_Content</td>\n",
       "      <td>0.013626</td>\n",
       "    </tr>\n",
       "    <tr>\n",
       "      <th>7</th>\n",
       "      <td>Item_Type_combined</td>\n",
       "      <td>0.012546</td>\n",
       "    </tr>\n",
       "    <tr>\n",
       "      <th>8</th>\n",
       "      <td>Outlet_Size</td>\n",
       "      <td>0.006647</td>\n",
       "    </tr>\n",
       "    <tr>\n",
       "      <th>9</th>\n",
       "      <td>Outlet_Location_Type</td>\n",
       "      <td>0.006405</td>\n",
       "    </tr>\n",
       "    <tr>\n",
       "      <th>10</th>\n",
       "      <td>Outlet_Identifier_OUT035</td>\n",
       "      <td>0.005967</td>\n",
       "    </tr>\n",
       "    <tr>\n",
       "      <th>11</th>\n",
       "      <td>Outlet_Identifier_OUT049</td>\n",
       "      <td>0.004735</td>\n",
       "    </tr>\n",
       "    <tr>\n",
       "      <th>12</th>\n",
       "      <td>Outlet_Identifier_OUT045</td>\n",
       "      <td>0.004537</td>\n",
       "    </tr>\n",
       "    <tr>\n",
       "      <th>13</th>\n",
       "      <td>Outlet_Identifier_OUT046</td>\n",
       "      <td>0.004123</td>\n",
       "    </tr>\n",
       "    <tr>\n",
       "      <th>14</th>\n",
       "      <td>Outlet_Identifier_OUT017</td>\n",
       "      <td>0.003629</td>\n",
       "    </tr>\n",
       "    <tr>\n",
       "      <th>15</th>\n",
       "      <td>Outlet_Identifier_OUT013</td>\n",
       "      <td>0.002244</td>\n",
       "    </tr>\n",
       "    <tr>\n",
       "      <th>16</th>\n",
       "      <td>Outlet_Identifier_OUT018</td>\n",
       "      <td>0.000232</td>\n",
       "    </tr>\n",
       "    <tr>\n",
       "      <th>17</th>\n",
       "      <td>Outlet_Identifier_OUT010</td>\n",
       "      <td>0.000025</td>\n",
       "    </tr>\n",
       "    <tr>\n",
       "      <th>18</th>\n",
       "      <td>Outlet_Identifier_OUT019</td>\n",
       "      <td>0.000011</td>\n",
       "    </tr>\n",
       "  </tbody>\n",
       "</table>\n",
       "</div>"
      ],
      "text/plain": [
       "                feature_name  feature_columns\n",
       "0                   Item_MRP         0.449833\n",
       "1                Outlet_Type         0.199010\n",
       "2            Item_Visibility         0.117299\n",
       "3                Item_Weight         0.077999\n",
       "4   Outlet_Identifier_OUT027         0.074645\n",
       "5                  years_old         0.016486\n",
       "6           Item_Fat_Content         0.013626\n",
       "7         Item_Type_combined         0.012546\n",
       "8                Outlet_Size         0.006647\n",
       "9       Outlet_Location_Type         0.006405\n",
       "10  Outlet_Identifier_OUT035         0.005967\n",
       "11  Outlet_Identifier_OUT049         0.004735\n",
       "12  Outlet_Identifier_OUT045         0.004537\n",
       "13  Outlet_Identifier_OUT046         0.004123\n",
       "14  Outlet_Identifier_OUT017         0.003629\n",
       "15  Outlet_Identifier_OUT013         0.002244\n",
       "16  Outlet_Identifier_OUT018         0.000232\n",
       "17  Outlet_Identifier_OUT010         0.000025\n",
       "18  Outlet_Identifier_OUT019         0.000011"
      ]
     },
     "execution_count": 118,
     "metadata": {},
     "output_type": "execute_result"
    }
   ],
   "source": [
    "feature_imp(model_dtree)"
   ]
  },
  {
   "cell_type": "markdown",
   "metadata": {},
   "source": [
    "## Random Forest Regressor"
   ]
  },
  {
   "cell_type": "code",
   "execution_count": 142,
   "metadata": {},
   "outputs": [],
   "source": [
    "from sklearn.ensemble import RandomForestRegressor"
   ]
  },
  {
   "cell_type": "code",
   "execution_count": 143,
   "metadata": {},
   "outputs": [],
   "source": [
    "model_rf = RandomForestRegressor(bootstrap=True,oob_score=True)"
   ]
  },
  {
   "cell_type": "code",
   "execution_count": 144,
   "metadata": {},
   "outputs": [
    {
     "data": {
      "text/html": [
       "<style>#sk-container-id-7 {color: black;background-color: white;}#sk-container-id-7 pre{padding: 0;}#sk-container-id-7 div.sk-toggleable {background-color: white;}#sk-container-id-7 label.sk-toggleable__label {cursor: pointer;display: block;width: 100%;margin-bottom: 0;padding: 0.3em;box-sizing: border-box;text-align: center;}#sk-container-id-7 label.sk-toggleable__label-arrow:before {content: \"▸\";float: left;margin-right: 0.25em;color: #696969;}#sk-container-id-7 label.sk-toggleable__label-arrow:hover:before {color: black;}#sk-container-id-7 div.sk-estimator:hover label.sk-toggleable__label-arrow:before {color: black;}#sk-container-id-7 div.sk-toggleable__content {max-height: 0;max-width: 0;overflow: hidden;text-align: left;background-color: #f0f8ff;}#sk-container-id-7 div.sk-toggleable__content pre {margin: 0.2em;color: black;border-radius: 0.25em;background-color: #f0f8ff;}#sk-container-id-7 input.sk-toggleable__control:checked~div.sk-toggleable__content {max-height: 200px;max-width: 100%;overflow: auto;}#sk-container-id-7 input.sk-toggleable__control:checked~label.sk-toggleable__label-arrow:before {content: \"▾\";}#sk-container-id-7 div.sk-estimator input.sk-toggleable__control:checked~label.sk-toggleable__label {background-color: #d4ebff;}#sk-container-id-7 div.sk-label input.sk-toggleable__control:checked~label.sk-toggleable__label {background-color: #d4ebff;}#sk-container-id-7 input.sk-hidden--visually {border: 0;clip: rect(1px 1px 1px 1px);clip: rect(1px, 1px, 1px, 1px);height: 1px;margin: -1px;overflow: hidden;padding: 0;position: absolute;width: 1px;}#sk-container-id-7 div.sk-estimator {font-family: monospace;background-color: #f0f8ff;border: 1px dotted black;border-radius: 0.25em;box-sizing: border-box;margin-bottom: 0.5em;}#sk-container-id-7 div.sk-estimator:hover {background-color: #d4ebff;}#sk-container-id-7 div.sk-parallel-item::after {content: \"\";width: 100%;border-bottom: 1px solid gray;flex-grow: 1;}#sk-container-id-7 div.sk-label:hover label.sk-toggleable__label {background-color: #d4ebff;}#sk-container-id-7 div.sk-serial::before {content: \"\";position: absolute;border-left: 1px solid gray;box-sizing: border-box;top: 0;bottom: 0;left: 50%;z-index: 0;}#sk-container-id-7 div.sk-serial {display: flex;flex-direction: column;align-items: center;background-color: white;padding-right: 0.2em;padding-left: 0.2em;position: relative;}#sk-container-id-7 div.sk-item {position: relative;z-index: 1;}#sk-container-id-7 div.sk-parallel {display: flex;align-items: stretch;justify-content: center;background-color: white;position: relative;}#sk-container-id-7 div.sk-item::before, #sk-container-id-7 div.sk-parallel-item::before {content: \"\";position: absolute;border-left: 1px solid gray;box-sizing: border-box;top: 0;bottom: 0;left: 50%;z-index: -1;}#sk-container-id-7 div.sk-parallel-item {display: flex;flex-direction: column;z-index: 1;position: relative;background-color: white;}#sk-container-id-7 div.sk-parallel-item:first-child::after {align-self: flex-end;width: 50%;}#sk-container-id-7 div.sk-parallel-item:last-child::after {align-self: flex-start;width: 50%;}#sk-container-id-7 div.sk-parallel-item:only-child::after {width: 0;}#sk-container-id-7 div.sk-dashed-wrapped {border: 1px dashed gray;margin: 0 0.4em 0.5em 0.4em;box-sizing: border-box;padding-bottom: 0.4em;background-color: white;}#sk-container-id-7 div.sk-label label {font-family: monospace;font-weight: bold;display: inline-block;line-height: 1.2em;}#sk-container-id-7 div.sk-label-container {text-align: center;}#sk-container-id-7 div.sk-container {/* jupyter's `normalize.less` sets `[hidden] { display: none; }` but bootstrap.min.css set `[hidden] { display: none !important; }` so we also need the `!important` here to be able to override the default hidden behavior on the sphinx rendered scikit-learn.org. See: https://github.com/scikit-learn/scikit-learn/issues/21755 */display: inline-block !important;position: relative;}#sk-container-id-7 div.sk-text-repr-fallback {display: none;}</style><div id=\"sk-container-id-7\" class=\"sk-top-container\"><div class=\"sk-text-repr-fallback\"><pre>RandomForestRegressor(oob_score=True)</pre><b>In a Jupyter environment, please rerun this cell to show the HTML representation or trust the notebook. <br />On GitHub, the HTML representation is unable to render, please try loading this page with nbviewer.org.</b></div><div class=\"sk-container\" hidden><div class=\"sk-item\"><div class=\"sk-estimator sk-toggleable\"><input class=\"sk-toggleable__control sk-hidden--visually\" id=\"sk-estimator-id-7\" type=\"checkbox\" checked><label for=\"sk-estimator-id-7\" class=\"sk-toggleable__label sk-toggleable__label-arrow\">RandomForestRegressor</label><div class=\"sk-toggleable__content\"><pre>RandomForestRegressor(oob_score=True)</pre></div></div></div></div></div>"
      ],
      "text/plain": [
       "RandomForestRegressor(oob_score=True)"
      ]
     },
     "execution_count": 144,
     "metadata": {},
     "output_type": "execute_result"
    }
   ],
   "source": [
    "model_rf.fit(df_robust_normalize,Y_train)"
   ]
  },
  {
   "cell_type": "code",
   "execution_count": 145,
   "metadata": {},
   "outputs": [
    {
     "name": "stdout",
     "output_type": "stream",
     "text": [
      "MAE Score for model_rf is :  293.3787447560718\n",
      "MSE Score for model_rf is :  178645.1261542398\n",
      "RMSE Score for model_rf is :  422.6643185250442\n",
      "R2 Score for model_rf is :  0.9386478564244052\n"
     ]
    }
   ],
   "source": [
    "print(\"MAE Score for model_rf is : \",mean_absolute_error(Y_train,model_rf.predict(df_robust_normalize)))\n",
    "print(\"MSE Score for model_rf is : \",mean_squared_error(Y_train,model_rf.predict(df_robust_normalize)))\n",
    "print(\"RMSE Score for model_rf is : \",root_mean_squared_error(Y_train,model_rf.predict(df_robust_normalize)))\n",
    "print(\"R2 Score for model_rf is : \",r2_score(Y_train,model_rf.predict(df_robust_normalize)))"
   ]
  },
  {
   "cell_type": "code",
   "execution_count": 146,
   "metadata": {},
   "outputs": [
    {
     "data": {
      "text/plain": [
       "0.5562248159334365"
      ]
     },
     "execution_count": 146,
     "metadata": {},
     "output_type": "execute_result"
    }
   ],
   "source": [
    "model_rf.oob_score_"
   ]
  },
  {
   "cell_type": "code",
   "execution_count": 147,
   "metadata": {},
   "outputs": [
    {
     "data": {
      "text/html": [
       "<div>\n",
       "<style scoped>\n",
       "    .dataframe tbody tr th:only-of-type {\n",
       "        vertical-align: middle;\n",
       "    }\n",
       "\n",
       "    .dataframe tbody tr th {\n",
       "        vertical-align: top;\n",
       "    }\n",
       "\n",
       "    .dataframe thead th {\n",
       "        text-align: right;\n",
       "    }\n",
       "</style>\n",
       "<table border=\"1\" class=\"dataframe\">\n",
       "  <thead>\n",
       "    <tr style=\"text-align: right;\">\n",
       "      <th></th>\n",
       "      <th>feature_name</th>\n",
       "      <th>feature_columns</th>\n",
       "    </tr>\n",
       "  </thead>\n",
       "  <tbody>\n",
       "    <tr>\n",
       "      <th>0</th>\n",
       "      <td>Item_MRP</td>\n",
       "      <td>0.448494</td>\n",
       "    </tr>\n",
       "    <tr>\n",
       "      <th>1</th>\n",
       "      <td>Outlet_Type</td>\n",
       "      <td>0.220474</td>\n",
       "    </tr>\n",
       "    <tr>\n",
       "      <th>2</th>\n",
       "      <td>Item_Visibility</td>\n",
       "      <td>0.113074</td>\n",
       "    </tr>\n",
       "    <tr>\n",
       "      <th>3</th>\n",
       "      <td>Item_Weight</td>\n",
       "      <td>0.084707</td>\n",
       "    </tr>\n",
       "    <tr>\n",
       "      <th>4</th>\n",
       "      <td>years_old</td>\n",
       "      <td>0.043622</td>\n",
       "    </tr>\n",
       "    <tr>\n",
       "      <th>5</th>\n",
       "      <td>Outlet_Identifier_OUT027</td>\n",
       "      <td>0.022725</td>\n",
       "    </tr>\n",
       "    <tr>\n",
       "      <th>6</th>\n",
       "      <td>Item_Fat_Content</td>\n",
       "      <td>0.014557</td>\n",
       "    </tr>\n",
       "    <tr>\n",
       "      <th>7</th>\n",
       "      <td>Item_Type_combined</td>\n",
       "      <td>0.012303</td>\n",
       "    </tr>\n",
       "    <tr>\n",
       "      <th>8</th>\n",
       "      <td>Outlet_Location_Type</td>\n",
       "      <td>0.006400</td>\n",
       "    </tr>\n",
       "    <tr>\n",
       "      <th>9</th>\n",
       "      <td>Outlet_Size</td>\n",
       "      <td>0.006123</td>\n",
       "    </tr>\n",
       "    <tr>\n",
       "      <th>10</th>\n",
       "      <td>Outlet_Identifier_OUT045</td>\n",
       "      <td>0.005776</td>\n",
       "    </tr>\n",
       "    <tr>\n",
       "      <th>11</th>\n",
       "      <td>Outlet_Identifier_OUT035</td>\n",
       "      <td>0.005599</td>\n",
       "    </tr>\n",
       "    <tr>\n",
       "      <th>12</th>\n",
       "      <td>Outlet_Identifier_OUT046</td>\n",
       "      <td>0.004476</td>\n",
       "    </tr>\n",
       "    <tr>\n",
       "      <th>13</th>\n",
       "      <td>Outlet_Identifier_OUT017</td>\n",
       "      <td>0.004238</td>\n",
       "    </tr>\n",
       "    <tr>\n",
       "      <th>14</th>\n",
       "      <td>Outlet_Identifier_OUT049</td>\n",
       "      <td>0.004160</td>\n",
       "    </tr>\n",
       "    <tr>\n",
       "      <th>15</th>\n",
       "      <td>Outlet_Identifier_OUT018</td>\n",
       "      <td>0.001651</td>\n",
       "    </tr>\n",
       "    <tr>\n",
       "      <th>16</th>\n",
       "      <td>Outlet_Identifier_OUT013</td>\n",
       "      <td>0.001571</td>\n",
       "    </tr>\n",
       "    <tr>\n",
       "      <th>17</th>\n",
       "      <td>Outlet_Identifier_OUT019</td>\n",
       "      <td>0.000026</td>\n",
       "    </tr>\n",
       "    <tr>\n",
       "      <th>18</th>\n",
       "      <td>Outlet_Identifier_OUT010</td>\n",
       "      <td>0.000023</td>\n",
       "    </tr>\n",
       "  </tbody>\n",
       "</table>\n",
       "</div>"
      ],
      "text/plain": [
       "                feature_name  feature_columns\n",
       "0                   Item_MRP         0.448494\n",
       "1                Outlet_Type         0.220474\n",
       "2            Item_Visibility         0.113074\n",
       "3                Item_Weight         0.084707\n",
       "4                  years_old         0.043622\n",
       "5   Outlet_Identifier_OUT027         0.022725\n",
       "6           Item_Fat_Content         0.014557\n",
       "7         Item_Type_combined         0.012303\n",
       "8       Outlet_Location_Type         0.006400\n",
       "9                Outlet_Size         0.006123\n",
       "10  Outlet_Identifier_OUT045         0.005776\n",
       "11  Outlet_Identifier_OUT035         0.005599\n",
       "12  Outlet_Identifier_OUT046         0.004476\n",
       "13  Outlet_Identifier_OUT017         0.004238\n",
       "14  Outlet_Identifier_OUT049         0.004160\n",
       "15  Outlet_Identifier_OUT018         0.001651\n",
       "16  Outlet_Identifier_OUT013         0.001571\n",
       "17  Outlet_Identifier_OUT019         0.000026\n",
       "18  Outlet_Identifier_OUT010         0.000023"
      ]
     },
     "execution_count": 147,
     "metadata": {},
     "output_type": "execute_result"
    }
   ],
   "source": [
    "feature_imp(model_rf)"
   ]
  },
  {
   "cell_type": "code",
   "execution_count": 121,
   "metadata": {},
   "outputs": [],
   "source": [
    "from sklearn.ensemble import ExtraTreesRegressor"
   ]
  },
  {
   "cell_type": "code",
   "execution_count": 130,
   "metadata": {},
   "outputs": [],
   "source": [
    "model_etr = ExtraTreesRegressor(bootstrap=True, oob_score=True)"
   ]
  },
  {
   "cell_type": "code",
   "execution_count": 131,
   "metadata": {},
   "outputs": [
    {
     "data": {
      "text/html": [
       "<style>#sk-container-id-5 {color: black;background-color: white;}#sk-container-id-5 pre{padding: 0;}#sk-container-id-5 div.sk-toggleable {background-color: white;}#sk-container-id-5 label.sk-toggleable__label {cursor: pointer;display: block;width: 100%;margin-bottom: 0;padding: 0.3em;box-sizing: border-box;text-align: center;}#sk-container-id-5 label.sk-toggleable__label-arrow:before {content: \"▸\";float: left;margin-right: 0.25em;color: #696969;}#sk-container-id-5 label.sk-toggleable__label-arrow:hover:before {color: black;}#sk-container-id-5 div.sk-estimator:hover label.sk-toggleable__label-arrow:before {color: black;}#sk-container-id-5 div.sk-toggleable__content {max-height: 0;max-width: 0;overflow: hidden;text-align: left;background-color: #f0f8ff;}#sk-container-id-5 div.sk-toggleable__content pre {margin: 0.2em;color: black;border-radius: 0.25em;background-color: #f0f8ff;}#sk-container-id-5 input.sk-toggleable__control:checked~div.sk-toggleable__content {max-height: 200px;max-width: 100%;overflow: auto;}#sk-container-id-5 input.sk-toggleable__control:checked~label.sk-toggleable__label-arrow:before {content: \"▾\";}#sk-container-id-5 div.sk-estimator input.sk-toggleable__control:checked~label.sk-toggleable__label {background-color: #d4ebff;}#sk-container-id-5 div.sk-label input.sk-toggleable__control:checked~label.sk-toggleable__label {background-color: #d4ebff;}#sk-container-id-5 input.sk-hidden--visually {border: 0;clip: rect(1px 1px 1px 1px);clip: rect(1px, 1px, 1px, 1px);height: 1px;margin: -1px;overflow: hidden;padding: 0;position: absolute;width: 1px;}#sk-container-id-5 div.sk-estimator {font-family: monospace;background-color: #f0f8ff;border: 1px dotted black;border-radius: 0.25em;box-sizing: border-box;margin-bottom: 0.5em;}#sk-container-id-5 div.sk-estimator:hover {background-color: #d4ebff;}#sk-container-id-5 div.sk-parallel-item::after {content: \"\";width: 100%;border-bottom: 1px solid gray;flex-grow: 1;}#sk-container-id-5 div.sk-label:hover label.sk-toggleable__label {background-color: #d4ebff;}#sk-container-id-5 div.sk-serial::before {content: \"\";position: absolute;border-left: 1px solid gray;box-sizing: border-box;top: 0;bottom: 0;left: 50%;z-index: 0;}#sk-container-id-5 div.sk-serial {display: flex;flex-direction: column;align-items: center;background-color: white;padding-right: 0.2em;padding-left: 0.2em;position: relative;}#sk-container-id-5 div.sk-item {position: relative;z-index: 1;}#sk-container-id-5 div.sk-parallel {display: flex;align-items: stretch;justify-content: center;background-color: white;position: relative;}#sk-container-id-5 div.sk-item::before, #sk-container-id-5 div.sk-parallel-item::before {content: \"\";position: absolute;border-left: 1px solid gray;box-sizing: border-box;top: 0;bottom: 0;left: 50%;z-index: -1;}#sk-container-id-5 div.sk-parallel-item {display: flex;flex-direction: column;z-index: 1;position: relative;background-color: white;}#sk-container-id-5 div.sk-parallel-item:first-child::after {align-self: flex-end;width: 50%;}#sk-container-id-5 div.sk-parallel-item:last-child::after {align-self: flex-start;width: 50%;}#sk-container-id-5 div.sk-parallel-item:only-child::after {width: 0;}#sk-container-id-5 div.sk-dashed-wrapped {border: 1px dashed gray;margin: 0 0.4em 0.5em 0.4em;box-sizing: border-box;padding-bottom: 0.4em;background-color: white;}#sk-container-id-5 div.sk-label label {font-family: monospace;font-weight: bold;display: inline-block;line-height: 1.2em;}#sk-container-id-5 div.sk-label-container {text-align: center;}#sk-container-id-5 div.sk-container {/* jupyter's `normalize.less` sets `[hidden] { display: none; }` but bootstrap.min.css set `[hidden] { display: none !important; }` so we also need the `!important` here to be able to override the default hidden behavior on the sphinx rendered scikit-learn.org. See: https://github.com/scikit-learn/scikit-learn/issues/21755 */display: inline-block !important;position: relative;}#sk-container-id-5 div.sk-text-repr-fallback {display: none;}</style><div id=\"sk-container-id-5\" class=\"sk-top-container\"><div class=\"sk-text-repr-fallback\"><pre>ExtraTreesRegressor(bootstrap=True, oob_score=True)</pre><b>In a Jupyter environment, please rerun this cell to show the HTML representation or trust the notebook. <br />On GitHub, the HTML representation is unable to render, please try loading this page with nbviewer.org.</b></div><div class=\"sk-container\" hidden><div class=\"sk-item\"><div class=\"sk-estimator sk-toggleable\"><input class=\"sk-toggleable__control sk-hidden--visually\" id=\"sk-estimator-id-5\" type=\"checkbox\" checked><label for=\"sk-estimator-id-5\" class=\"sk-toggleable__label sk-toggleable__label-arrow\">ExtraTreesRegressor</label><div class=\"sk-toggleable__content\"><pre>ExtraTreesRegressor(bootstrap=True, oob_score=True)</pre></div></div></div></div></div>"
      ],
      "text/plain": [
       "ExtraTreesRegressor(bootstrap=True, oob_score=True)"
      ]
     },
     "execution_count": 131,
     "metadata": {},
     "output_type": "execute_result"
    }
   ],
   "source": [
    "model_etr.fit(df_robust_normalize,Y_train)"
   ]
  },
  {
   "cell_type": "code",
   "execution_count": 132,
   "metadata": {},
   "outputs": [
    {
     "name": "stdout",
     "output_type": "stream",
     "text": [
      "MAE Score for model_etr is :  291.3753632582423\n",
      "MSE Score for model_etr is :  178164.6227148539\n",
      "RMSE Score for model_etr is :  422.09551373457373\n",
      "R2 Score for model_etr is :  0.9388128758494317\n"
     ]
    }
   ],
   "source": [
    "print(\"MAE Score for model_etr is : \",mean_absolute_error(Y_train,model_etr.predict(df_robust_normalize)))\n",
    "print(\"MSE Score for model_etr is : \",mean_squared_error(Y_train,model_etr.predict(df_robust_normalize)))\n",
    "print(\"RMSE Score for model_etr is : \",root_mean_squared_error(Y_train,model_etr.predict(df_robust_normalize)))\n",
    "print(\"R2 Score for model_etr is : \",r2_score(Y_train,model_etr.predict(df_robust_normalize)))"
   ]
  },
  {
   "cell_type": "code",
   "execution_count": 135,
   "metadata": {},
   "outputs": [
    {
     "data": {
      "text/plain": [
       "0.5570688045141163"
      ]
     },
     "execution_count": 135,
     "metadata": {},
     "output_type": "execute_result"
    }
   ],
   "source": [
    "model_etr.oob_score_"
   ]
  },
  {
   "cell_type": "code",
   "execution_count": 125,
   "metadata": {},
   "outputs": [
    {
     "data": {
      "text/html": [
       "<div>\n",
       "<style scoped>\n",
       "    .dataframe tbody tr th:only-of-type {\n",
       "        vertical-align: middle;\n",
       "    }\n",
       "\n",
       "    .dataframe tbody tr th {\n",
       "        vertical-align: top;\n",
       "    }\n",
       "\n",
       "    .dataframe thead th {\n",
       "        text-align: right;\n",
       "    }\n",
       "</style>\n",
       "<table border=\"1\" class=\"dataframe\">\n",
       "  <thead>\n",
       "    <tr style=\"text-align: right;\">\n",
       "      <th></th>\n",
       "      <th>feature_name</th>\n",
       "      <th>feature_columns</th>\n",
       "    </tr>\n",
       "  </thead>\n",
       "  <tbody>\n",
       "    <tr>\n",
       "      <th>0</th>\n",
       "      <td>Item_MRP</td>\n",
       "      <td>0.442990</td>\n",
       "    </tr>\n",
       "    <tr>\n",
       "      <th>1</th>\n",
       "      <td>Outlet_Type</td>\n",
       "      <td>0.163039</td>\n",
       "    </tr>\n",
       "    <tr>\n",
       "      <th>2</th>\n",
       "      <td>Item_Visibility</td>\n",
       "      <td>0.100207</td>\n",
       "    </tr>\n",
       "    <tr>\n",
       "      <th>3</th>\n",
       "      <td>Item_Weight</td>\n",
       "      <td>0.098229</td>\n",
       "    </tr>\n",
       "    <tr>\n",
       "      <th>4</th>\n",
       "      <td>Outlet_Identifier_OUT027</td>\n",
       "      <td>0.066884</td>\n",
       "    </tr>\n",
       "    <tr>\n",
       "      <th>5</th>\n",
       "      <td>Item_Fat_Content</td>\n",
       "      <td>0.022952</td>\n",
       "    </tr>\n",
       "    <tr>\n",
       "      <th>6</th>\n",
       "      <td>Item_Type_combined</td>\n",
       "      <td>0.021684</td>\n",
       "    </tr>\n",
       "    <tr>\n",
       "      <th>7</th>\n",
       "      <td>Outlet_Identifier_OUT010</td>\n",
       "      <td>0.017877</td>\n",
       "    </tr>\n",
       "    <tr>\n",
       "      <th>8</th>\n",
       "      <td>Outlet_Identifier_OUT019</td>\n",
       "      <td>0.012334</td>\n",
       "    </tr>\n",
       "    <tr>\n",
       "      <th>9</th>\n",
       "      <td>years_old</td>\n",
       "      <td>0.008418</td>\n",
       "    </tr>\n",
       "    <tr>\n",
       "      <th>10</th>\n",
       "      <td>Outlet_Identifier_OUT035</td>\n",
       "      <td>0.006754</td>\n",
       "    </tr>\n",
       "    <tr>\n",
       "      <th>11</th>\n",
       "      <td>Outlet_Identifier_OUT017</td>\n",
       "      <td>0.006598</td>\n",
       "    </tr>\n",
       "    <tr>\n",
       "      <th>12</th>\n",
       "      <td>Outlet_Identifier_OUT045</td>\n",
       "      <td>0.006141</td>\n",
       "    </tr>\n",
       "    <tr>\n",
       "      <th>13</th>\n",
       "      <td>Outlet_Identifier_OUT046</td>\n",
       "      <td>0.005453</td>\n",
       "    </tr>\n",
       "    <tr>\n",
       "      <th>14</th>\n",
       "      <td>Outlet_Location_Type</td>\n",
       "      <td>0.005421</td>\n",
       "    </tr>\n",
       "    <tr>\n",
       "      <th>15</th>\n",
       "      <td>Outlet_Size</td>\n",
       "      <td>0.005045</td>\n",
       "    </tr>\n",
       "    <tr>\n",
       "      <th>16</th>\n",
       "      <td>Outlet_Identifier_OUT049</td>\n",
       "      <td>0.005003</td>\n",
       "    </tr>\n",
       "    <tr>\n",
       "      <th>17</th>\n",
       "      <td>Outlet_Identifier_OUT013</td>\n",
       "      <td>0.002943</td>\n",
       "    </tr>\n",
       "    <tr>\n",
       "      <th>18</th>\n",
       "      <td>Outlet_Identifier_OUT018</td>\n",
       "      <td>0.002029</td>\n",
       "    </tr>\n",
       "  </tbody>\n",
       "</table>\n",
       "</div>"
      ],
      "text/plain": [
       "                feature_name  feature_columns\n",
       "0                   Item_MRP         0.442990\n",
       "1                Outlet_Type         0.163039\n",
       "2            Item_Visibility         0.100207\n",
       "3                Item_Weight         0.098229\n",
       "4   Outlet_Identifier_OUT027         0.066884\n",
       "5           Item_Fat_Content         0.022952\n",
       "6         Item_Type_combined         0.021684\n",
       "7   Outlet_Identifier_OUT010         0.017877\n",
       "8   Outlet_Identifier_OUT019         0.012334\n",
       "9                  years_old         0.008418\n",
       "10  Outlet_Identifier_OUT035         0.006754\n",
       "11  Outlet_Identifier_OUT017         0.006598\n",
       "12  Outlet_Identifier_OUT045         0.006141\n",
       "13  Outlet_Identifier_OUT046         0.005453\n",
       "14      Outlet_Location_Type         0.005421\n",
       "15               Outlet_Size         0.005045\n",
       "16  Outlet_Identifier_OUT049         0.005003\n",
       "17  Outlet_Identifier_OUT013         0.002943\n",
       "18  Outlet_Identifier_OUT018         0.002029"
      ]
     },
     "execution_count": 125,
     "metadata": {},
     "output_type": "execute_result"
    }
   ],
   "source": [
    "feature_imp(model_etr)"
   ]
  },
  {
   "cell_type": "markdown",
   "metadata": {},
   "source": [
    "## Adaboost Regressor"
   ]
  },
  {
   "cell_type": "code",
   "execution_count": 148,
   "metadata": {},
   "outputs": [],
   "source": [
    "from sklearn.ensemble import AdaBoostRegressor"
   ]
  },
  {
   "cell_type": "code",
   "execution_count": 149,
   "metadata": {},
   "outputs": [],
   "source": [
    "model_ada = AdaBoostRegressor()"
   ]
  },
  {
   "cell_type": "code",
   "execution_count": 150,
   "metadata": {},
   "outputs": [
    {
     "data": {
      "text/html": [
       "<style>#sk-container-id-8 {color: black;background-color: white;}#sk-container-id-8 pre{padding: 0;}#sk-container-id-8 div.sk-toggleable {background-color: white;}#sk-container-id-8 label.sk-toggleable__label {cursor: pointer;display: block;width: 100%;margin-bottom: 0;padding: 0.3em;box-sizing: border-box;text-align: center;}#sk-container-id-8 label.sk-toggleable__label-arrow:before {content: \"▸\";float: left;margin-right: 0.25em;color: #696969;}#sk-container-id-8 label.sk-toggleable__label-arrow:hover:before {color: black;}#sk-container-id-8 div.sk-estimator:hover label.sk-toggleable__label-arrow:before {color: black;}#sk-container-id-8 div.sk-toggleable__content {max-height: 0;max-width: 0;overflow: hidden;text-align: left;background-color: #f0f8ff;}#sk-container-id-8 div.sk-toggleable__content pre {margin: 0.2em;color: black;border-radius: 0.25em;background-color: #f0f8ff;}#sk-container-id-8 input.sk-toggleable__control:checked~div.sk-toggleable__content {max-height: 200px;max-width: 100%;overflow: auto;}#sk-container-id-8 input.sk-toggleable__control:checked~label.sk-toggleable__label-arrow:before {content: \"▾\";}#sk-container-id-8 div.sk-estimator input.sk-toggleable__control:checked~label.sk-toggleable__label {background-color: #d4ebff;}#sk-container-id-8 div.sk-label input.sk-toggleable__control:checked~label.sk-toggleable__label {background-color: #d4ebff;}#sk-container-id-8 input.sk-hidden--visually {border: 0;clip: rect(1px 1px 1px 1px);clip: rect(1px, 1px, 1px, 1px);height: 1px;margin: -1px;overflow: hidden;padding: 0;position: absolute;width: 1px;}#sk-container-id-8 div.sk-estimator {font-family: monospace;background-color: #f0f8ff;border: 1px dotted black;border-radius: 0.25em;box-sizing: border-box;margin-bottom: 0.5em;}#sk-container-id-8 div.sk-estimator:hover {background-color: #d4ebff;}#sk-container-id-8 div.sk-parallel-item::after {content: \"\";width: 100%;border-bottom: 1px solid gray;flex-grow: 1;}#sk-container-id-8 div.sk-label:hover label.sk-toggleable__label {background-color: #d4ebff;}#sk-container-id-8 div.sk-serial::before {content: \"\";position: absolute;border-left: 1px solid gray;box-sizing: border-box;top: 0;bottom: 0;left: 50%;z-index: 0;}#sk-container-id-8 div.sk-serial {display: flex;flex-direction: column;align-items: center;background-color: white;padding-right: 0.2em;padding-left: 0.2em;position: relative;}#sk-container-id-8 div.sk-item {position: relative;z-index: 1;}#sk-container-id-8 div.sk-parallel {display: flex;align-items: stretch;justify-content: center;background-color: white;position: relative;}#sk-container-id-8 div.sk-item::before, #sk-container-id-8 div.sk-parallel-item::before {content: \"\";position: absolute;border-left: 1px solid gray;box-sizing: border-box;top: 0;bottom: 0;left: 50%;z-index: -1;}#sk-container-id-8 div.sk-parallel-item {display: flex;flex-direction: column;z-index: 1;position: relative;background-color: white;}#sk-container-id-8 div.sk-parallel-item:first-child::after {align-self: flex-end;width: 50%;}#sk-container-id-8 div.sk-parallel-item:last-child::after {align-self: flex-start;width: 50%;}#sk-container-id-8 div.sk-parallel-item:only-child::after {width: 0;}#sk-container-id-8 div.sk-dashed-wrapped {border: 1px dashed gray;margin: 0 0.4em 0.5em 0.4em;box-sizing: border-box;padding-bottom: 0.4em;background-color: white;}#sk-container-id-8 div.sk-label label {font-family: monospace;font-weight: bold;display: inline-block;line-height: 1.2em;}#sk-container-id-8 div.sk-label-container {text-align: center;}#sk-container-id-8 div.sk-container {/* jupyter's `normalize.less` sets `[hidden] { display: none; }` but bootstrap.min.css set `[hidden] { display: none !important; }` so we also need the `!important` here to be able to override the default hidden behavior on the sphinx rendered scikit-learn.org. See: https://github.com/scikit-learn/scikit-learn/issues/21755 */display: inline-block !important;position: relative;}#sk-container-id-8 div.sk-text-repr-fallback {display: none;}</style><div id=\"sk-container-id-8\" class=\"sk-top-container\"><div class=\"sk-text-repr-fallback\"><pre>AdaBoostRegressor()</pre><b>In a Jupyter environment, please rerun this cell to show the HTML representation or trust the notebook. <br />On GitHub, the HTML representation is unable to render, please try loading this page with nbviewer.org.</b></div><div class=\"sk-container\" hidden><div class=\"sk-item\"><div class=\"sk-estimator sk-toggleable\"><input class=\"sk-toggleable__control sk-hidden--visually\" id=\"sk-estimator-id-8\" type=\"checkbox\" checked><label for=\"sk-estimator-id-8\" class=\"sk-toggleable__label sk-toggleable__label-arrow\">AdaBoostRegressor</label><div class=\"sk-toggleable__content\"><pre>AdaBoostRegressor()</pre></div></div></div></div></div>"
      ],
      "text/plain": [
       "AdaBoostRegressor()"
      ]
     },
     "execution_count": 150,
     "metadata": {},
     "output_type": "execute_result"
    }
   ],
   "source": [
    "model_ada.fit(df_robust_normalize,Y_train)"
   ]
  },
  {
   "cell_type": "code",
   "execution_count": 151,
   "metadata": {},
   "outputs": [
    {
     "name": "stdout",
     "output_type": "stream",
     "text": [
      "MAE Score for model_ada is :  1008.1721683393729\n",
      "MSE Score for model_ada is :  1562760.785194119\n",
      "RMSE Score for model_ada is :  1250.1043097254403\n",
      "R2 Score for model_ada is :  0.4633006445148775\n"
     ]
    }
   ],
   "source": [
    "print(\"MAE Score for model_ada is : \",mean_absolute_error(Y_train,model_ada.predict(df_robust_normalize)))\n",
    "print(\"MSE Score for model_ada is : \",mean_squared_error(Y_train,model_ada.predict(df_robust_normalize)))\n",
    "print(\"RMSE Score for model_ada is : \",root_mean_squared_error(Y_train,model_ada.predict(df_robust_normalize)))\n",
    "print(\"R2 Score for model_ada is : \",r2_score(Y_train,model_ada.predict(df_robust_normalize)))"
   ]
  },
  {
   "cell_type": "code",
   "execution_count": 152,
   "metadata": {},
   "outputs": [
    {
     "data": {
      "text/html": [
       "<div>\n",
       "<style scoped>\n",
       "    .dataframe tbody tr th:only-of-type {\n",
       "        vertical-align: middle;\n",
       "    }\n",
       "\n",
       "    .dataframe tbody tr th {\n",
       "        vertical-align: top;\n",
       "    }\n",
       "\n",
       "    .dataframe thead th {\n",
       "        text-align: right;\n",
       "    }\n",
       "</style>\n",
       "<table border=\"1\" class=\"dataframe\">\n",
       "  <thead>\n",
       "    <tr style=\"text-align: right;\">\n",
       "      <th></th>\n",
       "      <th>feature_name</th>\n",
       "      <th>feature_columns</th>\n",
       "    </tr>\n",
       "  </thead>\n",
       "  <tbody>\n",
       "    <tr>\n",
       "      <th>0</th>\n",
       "      <td>Item_MRP</td>\n",
       "      <td>0.505990</td>\n",
       "    </tr>\n",
       "    <tr>\n",
       "      <th>1</th>\n",
       "      <td>Outlet_Type</td>\n",
       "      <td>0.161767</td>\n",
       "    </tr>\n",
       "    <tr>\n",
       "      <th>2</th>\n",
       "      <td>Item_Visibility</td>\n",
       "      <td>0.118398</td>\n",
       "    </tr>\n",
       "    <tr>\n",
       "      <th>3</th>\n",
       "      <td>Outlet_Identifier_OUT027</td>\n",
       "      <td>0.070606</td>\n",
       "    </tr>\n",
       "    <tr>\n",
       "      <th>4</th>\n",
       "      <td>Item_Weight</td>\n",
       "      <td>0.067079</td>\n",
       "    </tr>\n",
       "    <tr>\n",
       "      <th>5</th>\n",
       "      <td>years_old</td>\n",
       "      <td>0.036299</td>\n",
       "    </tr>\n",
       "    <tr>\n",
       "      <th>6</th>\n",
       "      <td>Outlet_Location_Type</td>\n",
       "      <td>0.014783</td>\n",
       "    </tr>\n",
       "    <tr>\n",
       "      <th>7</th>\n",
       "      <td>Outlet_Identifier_OUT017</td>\n",
       "      <td>0.011689</td>\n",
       "    </tr>\n",
       "    <tr>\n",
       "      <th>8</th>\n",
       "      <td>Outlet_Size</td>\n",
       "      <td>0.006707</td>\n",
       "    </tr>\n",
       "    <tr>\n",
       "      <th>9</th>\n",
       "      <td>Item_Fat_Content</td>\n",
       "      <td>0.005898</td>\n",
       "    </tr>\n",
       "    <tr>\n",
       "      <th>10</th>\n",
       "      <td>Item_Type_combined</td>\n",
       "      <td>0.000773</td>\n",
       "    </tr>\n",
       "    <tr>\n",
       "      <th>11</th>\n",
       "      <td>Outlet_Identifier_OUT018</td>\n",
       "      <td>0.000011</td>\n",
       "    </tr>\n",
       "    <tr>\n",
       "      <th>12</th>\n",
       "      <td>Outlet_Identifier_OUT035</td>\n",
       "      <td>0.000000</td>\n",
       "    </tr>\n",
       "    <tr>\n",
       "      <th>13</th>\n",
       "      <td>Outlet_Identifier_OUT046</td>\n",
       "      <td>0.000000</td>\n",
       "    </tr>\n",
       "    <tr>\n",
       "      <th>14</th>\n",
       "      <td>Outlet_Identifier_OUT045</td>\n",
       "      <td>0.000000</td>\n",
       "    </tr>\n",
       "    <tr>\n",
       "      <th>15</th>\n",
       "      <td>Outlet_Identifier_OUT010</td>\n",
       "      <td>0.000000</td>\n",
       "    </tr>\n",
       "    <tr>\n",
       "      <th>16</th>\n",
       "      <td>Outlet_Identifier_OUT019</td>\n",
       "      <td>0.000000</td>\n",
       "    </tr>\n",
       "    <tr>\n",
       "      <th>17</th>\n",
       "      <td>Outlet_Identifier_OUT013</td>\n",
       "      <td>0.000000</td>\n",
       "    </tr>\n",
       "    <tr>\n",
       "      <th>18</th>\n",
       "      <td>Outlet_Identifier_OUT049</td>\n",
       "      <td>0.000000</td>\n",
       "    </tr>\n",
       "  </tbody>\n",
       "</table>\n",
       "</div>"
      ],
      "text/plain": [
       "                feature_name  feature_columns\n",
       "0                   Item_MRP         0.505990\n",
       "1                Outlet_Type         0.161767\n",
       "2            Item_Visibility         0.118398\n",
       "3   Outlet_Identifier_OUT027         0.070606\n",
       "4                Item_Weight         0.067079\n",
       "5                  years_old         0.036299\n",
       "6       Outlet_Location_Type         0.014783\n",
       "7   Outlet_Identifier_OUT017         0.011689\n",
       "8                Outlet_Size         0.006707\n",
       "9           Item_Fat_Content         0.005898\n",
       "10        Item_Type_combined         0.000773\n",
       "11  Outlet_Identifier_OUT018         0.000011\n",
       "12  Outlet_Identifier_OUT035         0.000000\n",
       "13  Outlet_Identifier_OUT046         0.000000\n",
       "14  Outlet_Identifier_OUT045         0.000000\n",
       "15  Outlet_Identifier_OUT010         0.000000\n",
       "16  Outlet_Identifier_OUT019         0.000000\n",
       "17  Outlet_Identifier_OUT013         0.000000\n",
       "18  Outlet_Identifier_OUT049         0.000000"
      ]
     },
     "execution_count": 152,
     "metadata": {},
     "output_type": "execute_result"
    }
   ],
   "source": [
    "feature_imp(model_ada)"
   ]
  },
  {
   "cell_type": "code",
   "execution_count": 153,
   "metadata": {},
   "outputs": [],
   "source": [
    "from sklearn.ensemble import GradientBoostingRegressor"
   ]
  },
  {
   "cell_type": "code",
   "execution_count": 154,
   "metadata": {},
   "outputs": [],
   "source": [
    "model_gbr = GradientBoostingRegressor()"
   ]
  },
  {
   "cell_type": "code",
   "execution_count": 155,
   "metadata": {},
   "outputs": [
    {
     "data": {
      "text/html": [
       "<style>#sk-container-id-9 {color: black;background-color: white;}#sk-container-id-9 pre{padding: 0;}#sk-container-id-9 div.sk-toggleable {background-color: white;}#sk-container-id-9 label.sk-toggleable__label {cursor: pointer;display: block;width: 100%;margin-bottom: 0;padding: 0.3em;box-sizing: border-box;text-align: center;}#sk-container-id-9 label.sk-toggleable__label-arrow:before {content: \"▸\";float: left;margin-right: 0.25em;color: #696969;}#sk-container-id-9 label.sk-toggleable__label-arrow:hover:before {color: black;}#sk-container-id-9 div.sk-estimator:hover label.sk-toggleable__label-arrow:before {color: black;}#sk-container-id-9 div.sk-toggleable__content {max-height: 0;max-width: 0;overflow: hidden;text-align: left;background-color: #f0f8ff;}#sk-container-id-9 div.sk-toggleable__content pre {margin: 0.2em;color: black;border-radius: 0.25em;background-color: #f0f8ff;}#sk-container-id-9 input.sk-toggleable__control:checked~div.sk-toggleable__content {max-height: 200px;max-width: 100%;overflow: auto;}#sk-container-id-9 input.sk-toggleable__control:checked~label.sk-toggleable__label-arrow:before {content: \"▾\";}#sk-container-id-9 div.sk-estimator input.sk-toggleable__control:checked~label.sk-toggleable__label {background-color: #d4ebff;}#sk-container-id-9 div.sk-label input.sk-toggleable__control:checked~label.sk-toggleable__label {background-color: #d4ebff;}#sk-container-id-9 input.sk-hidden--visually {border: 0;clip: rect(1px 1px 1px 1px);clip: rect(1px, 1px, 1px, 1px);height: 1px;margin: -1px;overflow: hidden;padding: 0;position: absolute;width: 1px;}#sk-container-id-9 div.sk-estimator {font-family: monospace;background-color: #f0f8ff;border: 1px dotted black;border-radius: 0.25em;box-sizing: border-box;margin-bottom: 0.5em;}#sk-container-id-9 div.sk-estimator:hover {background-color: #d4ebff;}#sk-container-id-9 div.sk-parallel-item::after {content: \"\";width: 100%;border-bottom: 1px solid gray;flex-grow: 1;}#sk-container-id-9 div.sk-label:hover label.sk-toggleable__label {background-color: #d4ebff;}#sk-container-id-9 div.sk-serial::before {content: \"\";position: absolute;border-left: 1px solid gray;box-sizing: border-box;top: 0;bottom: 0;left: 50%;z-index: 0;}#sk-container-id-9 div.sk-serial {display: flex;flex-direction: column;align-items: center;background-color: white;padding-right: 0.2em;padding-left: 0.2em;position: relative;}#sk-container-id-9 div.sk-item {position: relative;z-index: 1;}#sk-container-id-9 div.sk-parallel {display: flex;align-items: stretch;justify-content: center;background-color: white;position: relative;}#sk-container-id-9 div.sk-item::before, #sk-container-id-9 div.sk-parallel-item::before {content: \"\";position: absolute;border-left: 1px solid gray;box-sizing: border-box;top: 0;bottom: 0;left: 50%;z-index: -1;}#sk-container-id-9 div.sk-parallel-item {display: flex;flex-direction: column;z-index: 1;position: relative;background-color: white;}#sk-container-id-9 div.sk-parallel-item:first-child::after {align-self: flex-end;width: 50%;}#sk-container-id-9 div.sk-parallel-item:last-child::after {align-self: flex-start;width: 50%;}#sk-container-id-9 div.sk-parallel-item:only-child::after {width: 0;}#sk-container-id-9 div.sk-dashed-wrapped {border: 1px dashed gray;margin: 0 0.4em 0.5em 0.4em;box-sizing: border-box;padding-bottom: 0.4em;background-color: white;}#sk-container-id-9 div.sk-label label {font-family: monospace;font-weight: bold;display: inline-block;line-height: 1.2em;}#sk-container-id-9 div.sk-label-container {text-align: center;}#sk-container-id-9 div.sk-container {/* jupyter's `normalize.less` sets `[hidden] { display: none; }` but bootstrap.min.css set `[hidden] { display: none !important; }` so we also need the `!important` here to be able to override the default hidden behavior on the sphinx rendered scikit-learn.org. See: https://github.com/scikit-learn/scikit-learn/issues/21755 */display: inline-block !important;position: relative;}#sk-container-id-9 div.sk-text-repr-fallback {display: none;}</style><div id=\"sk-container-id-9\" class=\"sk-top-container\"><div class=\"sk-text-repr-fallback\"><pre>GradientBoostingRegressor()</pre><b>In a Jupyter environment, please rerun this cell to show the HTML representation or trust the notebook. <br />On GitHub, the HTML representation is unable to render, please try loading this page with nbviewer.org.</b></div><div class=\"sk-container\" hidden><div class=\"sk-item\"><div class=\"sk-estimator sk-toggleable\"><input class=\"sk-toggleable__control sk-hidden--visually\" id=\"sk-estimator-id-9\" type=\"checkbox\" checked><label for=\"sk-estimator-id-9\" class=\"sk-toggleable__label sk-toggleable__label-arrow\">GradientBoostingRegressor</label><div class=\"sk-toggleable__content\"><pre>GradientBoostingRegressor()</pre></div></div></div></div></div>"
      ],
      "text/plain": [
       "GradientBoostingRegressor()"
      ]
     },
     "execution_count": 155,
     "metadata": {},
     "output_type": "execute_result"
    }
   ],
   "source": [
    "model_gbr.fit(df_robust_normalize,Y_train)"
   ]
  },
  {
   "cell_type": "code",
   "execution_count": 156,
   "metadata": {},
   "outputs": [
    {
     "name": "stdout",
     "output_type": "stream",
     "text": [
      "MAE Score for model_gbr is :  730.0872430930981\n",
      "MSE Score for model_gbr is :  1074007.1393139674\n",
      "RMSE Score for model_gbr is :  1036.3431571221772\n",
      "R2 Score for model_gbr is :  0.6311534401699066\n"
     ]
    }
   ],
   "source": [
    "print(\"MAE Score for model_gbr is : \",mean_absolute_error(Y_train,model_gbr.predict(df_robust_normalize)))\n",
    "print(\"MSE Score for model_gbr is : \",mean_squared_error(Y_train,model_gbr.predict(df_robust_normalize)))\n",
    "print(\"RMSE Score for model_gbr is : \",root_mean_squared_error(Y_train,model_gbr.predict(df_robust_normalize)))\n",
    "print(\"R2 Score for model_gbr is : \",r2_score(Y_train,model_gbr.predict(df_robust_normalize)))"
   ]
  },
  {
   "cell_type": "code",
   "execution_count": 158,
   "metadata": {
    "scrolled": true
   },
   "outputs": [
    {
     "name": "stdout",
     "output_type": "stream",
     "text": [
      "Collecting catboost\n",
      "  Downloading catboost-1.1.1-cp39-none-win_amd64.whl (74.0 MB)\n",
      "Requirement already satisfied: scipy in c:\\programdata\\anaconda3\\lib\\site-packages (from catboost) (1.7.1)\n",
      "Requirement already satisfied: numpy>=1.16.0 in c:\\users\\theve\\appdata\\roaming\\python\\python39\\site-packages (from catboost) (1.20.3)\n",
      "Collecting graphviz\n",
      "  Downloading graphviz-0.20.1-py3-none-any.whl (47 kB)\n",
      "Requirement already satisfied: matplotlib in c:\\users\\theve\\appdata\\roaming\\python\\python39\\site-packages (from catboost) (3.5.3)\n",
      "Requirement already satisfied: six in c:\\programdata\\anaconda3\\lib\\site-packages (from catboost) (1.16.0)\n",
      "Requirement already satisfied: pandas>=0.24.0 in c:\\users\\theve\\appdata\\roaming\\python\\python39\\site-packages (from catboost) (1.4.3)\n",
      "Requirement already satisfied: plotly in c:\\programdata\\anaconda3\\lib\\site-packages (from catboost) (5.9.0)\n",
      "Requirement already satisfied: pytz>=2020.1 in c:\\programdata\\anaconda3\\lib\\site-packages (from pandas>=0.24.0->catboost) (2021.3)\n",
      "Requirement already satisfied: python-dateutil>=2.8.1 in c:\\programdata\\anaconda3\\lib\\site-packages (from pandas>=0.24.0->catboost) (2.8.2)\n",
      "Requirement already satisfied: kiwisolver>=1.0.1 in c:\\programdata\\anaconda3\\lib\\site-packages (from matplotlib->catboost) (1.3.1)"
     ]
    },
    {
     "name": "stderr",
     "output_type": "stream",
     "text": [
      "WARNING: Ignoring invalid distribution -rotobuf (c:\\users\\theve\\appdata\\roaming\\python\\python39\\site-packages)\n",
      "WARNING: Ignoring invalid distribution -umpy (c:\\programdata\\anaconda3\\lib\\site-packages)\n",
      "WARNING: Ignoring invalid distribution -cikit-learn (c:\\programdata\\anaconda3\\lib\\site-packages)\n",
      "WARNING: Ignoring invalid distribution -rotobuf (c:\\users\\theve\\appdata\\roaming\\python\\python39\\site-packages)\n",
      "WARNING: Ignoring invalid distribution -umpy (c:\\programdata\\anaconda3\\lib\\site-packages)\n",
      "WARNING: Ignoring invalid distribution -cikit-learn (c:\\programdata\\anaconda3\\lib\\site-packages)\n",
      "WARNING: Ignoring invalid distribution -rotobuf (c:\\users\\theve\\appdata\\roaming\\python\\python39\\site-packages)\n",
      "WARNING: Ignoring invalid distribution -umpy (c:\\programdata\\anaconda3\\lib\\site-packages)\n",
      "WARNING: Ignoring invalid distribution -cikit-learn (c:\\programdata\\anaconda3\\lib\\site-packages)\n",
      "WARNING: Ignoring invalid distribution -umpy (c:\\programdata\\anaconda3\\lib\\site-packages)\n",
      "WARNING: Ignoring invalid distribution -cikit-learn (c:\\programdata\\anaconda3\\lib\\site-packages)\n",
      "WARNING: Ignoring invalid distribution -umpy (c:\\programdata\\anaconda3\\lib\\site-packages)\n",
      "WARNING: Ignoring invalid distribution -cikit-learn (c:\\programdata\\anaconda3\\lib\\site-packages)\n",
      "WARNING: Ignoring invalid distribution -rotobuf (c:\\users\\theve\\appdata\\roaming\\python\\python39\\site-packages)\n",
      "WARNING: Ignoring invalid distribution -umpy (c:\\programdata\\anaconda3\\lib\\site-packages)\n",
      "WARNING: Ignoring invalid distribution -cikit-learn (c:\\programdata\\anaconda3\\lib\\site-packages)\n",
      "WARNING: Ignoring invalid distribution -rotobuf (c:\\users\\theve\\appdata\\roaming\\python\\python39\\site-packages)\n",
      "WARNING: Ignoring invalid distribution -umpy (c:\\programdata\\anaconda3\\lib\\site-packages)\n",
      "WARNING: Ignoring invalid distribution -cikit-learn (c:\\programdata\\anaconda3\\lib\\site-packages)\n",
      "WARNING: Ignoring invalid distribution -rotobuf (c:\\users\\theve\\appdata\\roaming\\python\\python39\\site-packages)\n",
      "WARNING: Ignoring invalid distribution -umpy (c:\\programdata\\anaconda3\\lib\\site-packages)\n",
      "WARNING: Ignoring invalid distribution -cikit-learn (c:\\programdata\\anaconda3\\lib\\site-packages)\n"
     ]
    },
    {
     "name": "stdout",
     "output_type": "stream",
     "text": [
      "\n",
      "Requirement already satisfied: fonttools>=4.22.0 in c:\\programdata\\anaconda3\\lib\\site-packages (from matplotlib->catboost) (4.25.0)\n",
      "Requirement already satisfied: packaging>=20.0 in c:\\users\\theve\\appdata\\roaming\\python\\python39\\site-packages (from matplotlib->catboost) (21.3)\n",
      "Requirement already satisfied: pyparsing>=2.2.1 in c:\\programdata\\anaconda3\\lib\\site-packages (from matplotlib->catboost) (3.0.4)\n",
      "Requirement already satisfied: pillow>=6.2.0 in c:\\programdata\\anaconda3\\lib\\site-packages (from matplotlib->catboost) (8.4.0)\n",
      "Requirement already satisfied: cycler>=0.10 in c:\\programdata\\anaconda3\\lib\\site-packages (from matplotlib->catboost) (0.10.0)\n",
      "Requirement already satisfied: tenacity>=6.2.0 in c:\\programdata\\anaconda3\\lib\\site-packages (from plotly->catboost) (8.0.1)\n",
      "Installing collected packages: graphviz, catboost\n",
      "Successfully installed catboost-1.1.1 graphviz-0.20.1\n"
     ]
    }
   ],
   "source": [
    "! pip install catboost"
   ]
  },
  {
   "cell_type": "code",
   "execution_count": 160,
   "metadata": {},
   "outputs": [],
   "source": [
    "from catboost import  CatBoostRegressor"
   ]
  },
  {
   "cell_type": "code",
   "execution_count": 161,
   "metadata": {},
   "outputs": [],
   "source": [
    "model_cat = CatBoostRegressor()"
   ]
  },
  {
   "cell_type": "code",
   "execution_count": 162,
   "metadata": {
    "collapsed": true
   },
   "outputs": [
    {
     "name": "stdout",
     "output_type": "stream",
     "text": [
      "Learning rate set to 0.05744\n",
      "0:\tlearn: 1655.3375801\ttotal: 150ms\tremaining: 2m 30s\n",
      "1:\tlearn: 1607.1407332\ttotal: 153ms\tremaining: 1m 16s\n",
      "2:\tlearn: 1560.1787888\ttotal: 155ms\tremaining: 51.5s\n",
      "3:\tlearn: 1516.1679653\ttotal: 158ms\tremaining: 39.4s\n",
      "4:\tlearn: 1476.3310987\ttotal: 161ms\tremaining: 32s\n",
      "5:\tlearn: 1440.7986134\ttotal: 163ms\tremaining: 27s\n",
      "6:\tlearn: 1408.6471154\ttotal: 166ms\tremaining: 23.5s\n",
      "7:\tlearn: 1379.2618148\ttotal: 168ms\tremaining: 20.8s\n",
      "8:\tlearn: 1350.7032322\ttotal: 170ms\tremaining: 18.7s\n",
      "9:\tlearn: 1325.9055375\ttotal: 172ms\tremaining: 17.1s\n",
      "10:\tlearn: 1302.0682019\ttotal: 175ms\tremaining: 15.7s\n",
      "11:\tlearn: 1280.5094769\ttotal: 178ms\tremaining: 14.6s\n",
      "12:\tlearn: 1260.8104010\ttotal: 182ms\tremaining: 13.8s\n",
      "13:\tlearn: 1243.7330755\ttotal: 184ms\tremaining: 13s\n",
      "14:\tlearn: 1227.6194017\ttotal: 187ms\tremaining: 12.3s\n",
      "15:\tlearn: 1213.1059245\ttotal: 190ms\tremaining: 11.7s\n",
      "16:\tlearn: 1199.8625774\ttotal: 194ms\tremaining: 11.2s\n",
      "17:\tlearn: 1187.3388089\ttotal: 205ms\tremaining: 11.2s\n",
      "18:\tlearn: 1176.0818721\ttotal: 208ms\tremaining: 10.7s\n",
      "19:\tlearn: 1166.7450504\ttotal: 211ms\tremaining: 10.3s\n",
      "20:\tlearn: 1157.0991685\ttotal: 214ms\tremaining: 9.96s\n",
      "21:\tlearn: 1148.7835260\ttotal: 217ms\tremaining: 9.63s\n",
      "22:\tlearn: 1141.1539318\ttotal: 220ms\tremaining: 9.34s\n",
      "23:\tlearn: 1134.6444144\ttotal: 224ms\tremaining: 9.11s\n",
      "24:\tlearn: 1128.6876565\ttotal: 228ms\tremaining: 8.88s\n",
      "25:\tlearn: 1123.4237432\ttotal: 231ms\tremaining: 8.66s\n",
      "26:\tlearn: 1118.6961723\ttotal: 234ms\tremaining: 8.44s\n",
      "27:\tlearn: 1114.5791122\ttotal: 238ms\tremaining: 8.25s\n",
      "28:\tlearn: 1110.5215017\ttotal: 241ms\tremaining: 8.07s\n",
      "29:\tlearn: 1106.5967845\ttotal: 246ms\tremaining: 7.94s\n",
      "30:\tlearn: 1102.9408075\ttotal: 249ms\tremaining: 7.79s\n",
      "31:\tlearn: 1099.9817369\ttotal: 252ms\tremaining: 7.61s\n",
      "32:\tlearn: 1097.0399601\ttotal: 255ms\tremaining: 7.48s\n",
      "33:\tlearn: 1094.6046152\ttotal: 259ms\tremaining: 7.35s\n",
      "34:\tlearn: 1092.0841522\ttotal: 262ms\tremaining: 7.23s\n",
      "35:\tlearn: 1090.0340670\ttotal: 266ms\tremaining: 7.11s\n",
      "36:\tlearn: 1088.0344357\ttotal: 269ms\tremaining: 7s\n",
      "37:\tlearn: 1086.5293497\ttotal: 272ms\tremaining: 6.89s\n",
      "38:\tlearn: 1085.1145710\ttotal: 276ms\tremaining: 6.8s\n",
      "39:\tlearn: 1083.4702891\ttotal: 279ms\tremaining: 6.71s\n",
      "40:\tlearn: 1082.3403000\ttotal: 282ms\tremaining: 6.59s\n",
      "41:\tlearn: 1081.1479805\ttotal: 285ms\tremaining: 6.51s\n",
      "42:\tlearn: 1079.9302314\ttotal: 289ms\tremaining: 6.43s\n",
      "43:\tlearn: 1078.8157431\ttotal: 293ms\tremaining: 6.38s\n",
      "44:\tlearn: 1077.7559856\ttotal: 298ms\tremaining: 6.32s\n",
      "45:\tlearn: 1076.8039107\ttotal: 302ms\tremaining: 6.25s\n",
      "46:\tlearn: 1076.0543054\ttotal: 305ms\tremaining: 6.18s\n",
      "47:\tlearn: 1075.0764110\ttotal: 309ms\tremaining: 6.12s\n",
      "48:\tlearn: 1074.4537709\ttotal: 312ms\tremaining: 6.05s\n",
      "49:\tlearn: 1073.6550185\ttotal: 317ms\tremaining: 6.03s\n",
      "50:\tlearn: 1072.8820752\ttotal: 321ms\tremaining: 5.97s\n",
      "51:\tlearn: 1072.2050365\ttotal: 325ms\tremaining: 5.92s\n",
      "52:\tlearn: 1071.5408703\ttotal: 328ms\tremaining: 5.86s\n",
      "53:\tlearn: 1071.0105832\ttotal: 332ms\tremaining: 5.81s\n",
      "54:\tlearn: 1070.5481843\ttotal: 337ms\tremaining: 5.79s\n",
      "55:\tlearn: 1070.0201105\ttotal: 341ms\tremaining: 5.75s\n",
      "56:\tlearn: 1069.5623962\ttotal: 345ms\tremaining: 5.7s\n",
      "57:\tlearn: 1069.2034756\ttotal: 348ms\tremaining: 5.66s\n",
      "58:\tlearn: 1068.6551112\ttotal: 352ms\tremaining: 5.62s\n",
      "59:\tlearn: 1068.0530620\ttotal: 356ms\tremaining: 5.58s\n",
      "60:\tlearn: 1067.8884647\ttotal: 359ms\tremaining: 5.52s\n",
      "61:\tlearn: 1067.4289521\ttotal: 362ms\tremaining: 5.48s\n",
      "62:\tlearn: 1067.0657307\ttotal: 366ms\tremaining: 5.44s\n",
      "63:\tlearn: 1066.5245644\ttotal: 370ms\tremaining: 5.42s\n",
      "64:\tlearn: 1066.0662455\ttotal: 375ms\tremaining: 5.39s\n",
      "65:\tlearn: 1065.3145643\ttotal: 378ms\tremaining: 5.35s\n",
      "66:\tlearn: 1064.9234496\ttotal: 382ms\tremaining: 5.32s\n",
      "67:\tlearn: 1064.1819154\ttotal: 385ms\tremaining: 5.28s\n",
      "68:\tlearn: 1064.0652418\ttotal: 388ms\tremaining: 5.23s\n",
      "69:\tlearn: 1063.7989739\ttotal: 392ms\tremaining: 5.2s\n",
      "70:\tlearn: 1063.2703807\ttotal: 395ms\tremaining: 5.17s\n",
      "71:\tlearn: 1062.8226777\ttotal: 400ms\tremaining: 5.16s\n",
      "72:\tlearn: 1062.5519899\ttotal: 404ms\tremaining: 5.13s\n",
      "73:\tlearn: 1062.1523181\ttotal: 407ms\tremaining: 5.09s\n",
      "74:\tlearn: 1061.9959804\ttotal: 411ms\tremaining: 5.07s\n",
      "75:\tlearn: 1061.6285435\ttotal: 414ms\tremaining: 5.04s\n",
      "76:\tlearn: 1061.1904345\ttotal: 418ms\tremaining: 5.01s\n",
      "77:\tlearn: 1060.6669478\ttotal: 422ms\tremaining: 4.98s\n",
      "78:\tlearn: 1060.3737384\ttotal: 425ms\tremaining: 4.95s\n",
      "79:\tlearn: 1060.1173284\ttotal: 428ms\tremaining: 4.92s\n",
      "80:\tlearn: 1059.5060756\ttotal: 432ms\tremaining: 4.9s\n",
      "81:\tlearn: 1059.1649208\ttotal: 435ms\tremaining: 4.87s\n",
      "82:\tlearn: 1058.7869611\ttotal: 439ms\tremaining: 4.85s\n",
      "83:\tlearn: 1058.2116465\ttotal: 443ms\tremaining: 4.83s\n",
      "84:\tlearn: 1057.7763273\ttotal: 447ms\tremaining: 4.81s\n",
      "85:\tlearn: 1057.2122112\ttotal: 450ms\tremaining: 4.78s\n",
      "86:\tlearn: 1056.8035005\ttotal: 453ms\tremaining: 4.76s\n",
      "87:\tlearn: 1056.3187196\ttotal: 457ms\tremaining: 4.73s\n",
      "88:\tlearn: 1056.2126343\ttotal: 460ms\tremaining: 4.71s\n",
      "89:\tlearn: 1055.8248260\ttotal: 463ms\tremaining: 4.68s\n",
      "90:\tlearn: 1055.6211111\ttotal: 467ms\tremaining: 4.66s\n",
      "91:\tlearn: 1055.0876900\ttotal: 470ms\tremaining: 4.64s\n",
      "92:\tlearn: 1054.9127083\ttotal: 473ms\tremaining: 4.61s\n",
      "93:\tlearn: 1054.5933850\ttotal: 476ms\tremaining: 4.59s\n",
      "94:\tlearn: 1054.1598970\ttotal: 480ms\tremaining: 4.57s\n",
      "95:\tlearn: 1054.0213209\ttotal: 485ms\tremaining: 4.57s\n",
      "96:\tlearn: 1053.7379415\ttotal: 489ms\tremaining: 4.55s\n",
      "97:\tlearn: 1053.5301330\ttotal: 492ms\tremaining: 4.53s\n",
      "98:\tlearn: 1052.9419117\ttotal: 495ms\tremaining: 4.5s\n",
      "99:\tlearn: 1052.5902444\ttotal: 498ms\tremaining: 4.48s\n",
      "100:\tlearn: 1052.3084900\ttotal: 501ms\tremaining: 4.46s\n",
      "101:\tlearn: 1051.9417847\ttotal: 504ms\tremaining: 4.44s\n",
      "102:\tlearn: 1051.7638351\ttotal: 507ms\tremaining: 4.42s\n",
      "103:\tlearn: 1051.5531993\ttotal: 510ms\tremaining: 4.39s\n",
      "104:\tlearn: 1051.2560691\ttotal: 514ms\tremaining: 4.38s\n",
      "105:\tlearn: 1050.9847941\ttotal: 518ms\tremaining: 4.37s\n",
      "106:\tlearn: 1050.3684597\ttotal: 521ms\tremaining: 4.35s\n",
      "107:\tlearn: 1050.1579837\ttotal: 524ms\tremaining: 4.33s\n",
      "108:\tlearn: 1049.7635884\ttotal: 528ms\tremaining: 4.31s\n",
      "109:\tlearn: 1049.5732906\ttotal: 531ms\tremaining: 4.29s\n",
      "110:\tlearn: 1049.0159564\ttotal: 534ms\tremaining: 4.28s\n",
      "111:\tlearn: 1048.7438206\ttotal: 537ms\tremaining: 4.26s\n",
      "112:\tlearn: 1048.5154249\ttotal: 541ms\tremaining: 4.24s\n",
      "113:\tlearn: 1048.3294061\ttotal: 544ms\tremaining: 4.22s\n",
      "114:\tlearn: 1047.9953373\ttotal: 547ms\tremaining: 4.21s\n",
      "115:\tlearn: 1047.8377336\ttotal: 550ms\tremaining: 4.19s\n",
      "116:\tlearn: 1047.6483527\ttotal: 553ms\tremaining: 4.18s\n",
      "117:\tlearn: 1047.4536080\ttotal: 558ms\tremaining: 4.17s\n",
      "118:\tlearn: 1047.0841646\ttotal: 561ms\tremaining: 4.16s\n",
      "119:\tlearn: 1046.7461542\ttotal: 565ms\tremaining: 4.14s\n",
      "120:\tlearn: 1046.3886693\ttotal: 568ms\tremaining: 4.13s\n",
      "121:\tlearn: 1046.1361476\ttotal: 572ms\tremaining: 4.12s\n",
      "122:\tlearn: 1045.7565093\ttotal: 575ms\tremaining: 4.1s\n",
      "123:\tlearn: 1045.3378886\ttotal: 579ms\tremaining: 4.09s\n",
      "124:\tlearn: 1044.9975423\ttotal: 582ms\tremaining: 4.08s\n",
      "125:\tlearn: 1044.6610487\ttotal: 586ms\tremaining: 4.06s\n",
      "126:\tlearn: 1044.3851436\ttotal: 589ms\tremaining: 4.05s\n",
      "127:\tlearn: 1044.1470724\ttotal: 593ms\tremaining: 4.04s\n",
      "128:\tlearn: 1043.9226158\ttotal: 597ms\tremaining: 4.03s\n",
      "129:\tlearn: 1043.6135064\ttotal: 600ms\tremaining: 4.01s\n",
      "130:\tlearn: 1043.2368193\ttotal: 603ms\tremaining: 4s\n",
      "131:\tlearn: 1042.9634546\ttotal: 607ms\tremaining: 3.99s\n",
      "132:\tlearn: 1042.7986525\ttotal: 610ms\tremaining: 3.98s\n",
      "133:\tlearn: 1042.6245118\ttotal: 613ms\tremaining: 3.96s\n",
      "134:\tlearn: 1042.4392533\ttotal: 617ms\tremaining: 3.95s\n",
      "135:\tlearn: 1042.2473029\ttotal: 620ms\tremaining: 3.94s\n",
      "136:\tlearn: 1041.6806927\ttotal: 624ms\tremaining: 3.93s\n",
      "137:\tlearn: 1041.4813566\ttotal: 631ms\tremaining: 3.94s\n",
      "138:\tlearn: 1041.0996181\ttotal: 634ms\tremaining: 3.93s\n",
      "139:\tlearn: 1040.9383188\ttotal: 638ms\tremaining: 3.92s\n",
      "140:\tlearn: 1040.6990527\ttotal: 641ms\tremaining: 3.91s\n",
      "141:\tlearn: 1040.3347653\ttotal: 645ms\tremaining: 3.9s\n",
      "142:\tlearn: 1040.3004562\ttotal: 647ms\tremaining: 3.88s\n",
      "143:\tlearn: 1040.1052724\ttotal: 651ms\tremaining: 3.87s\n",
      "144:\tlearn: 1039.7920563\ttotal: 654ms\tremaining: 3.86s\n",
      "145:\tlearn: 1039.1997715\ttotal: 658ms\tremaining: 3.85s\n",
      "146:\tlearn: 1039.0055796\ttotal: 661ms\tremaining: 3.83s\n",
      "147:\tlearn: 1038.4517376\ttotal: 664ms\tremaining: 3.82s\n",
      "148:\tlearn: 1038.0984871\ttotal: 668ms\tremaining: 3.81s\n",
      "149:\tlearn: 1037.9717095\ttotal: 672ms\tremaining: 3.81s\n",
      "150:\tlearn: 1037.7656253\ttotal: 676ms\tremaining: 3.8s\n",
      "151:\tlearn: 1037.7542522\ttotal: 678ms\tremaining: 3.78s\n",
      "152:\tlearn: 1037.5357157\ttotal: 682ms\tremaining: 3.77s\n",
      "153:\tlearn: 1037.0592856\ttotal: 685ms\tremaining: 3.76s\n",
      "154:\tlearn: 1036.4902545\ttotal: 688ms\tremaining: 3.75s\n",
      "155:\tlearn: 1036.2292949\ttotal: 691ms\tremaining: 3.74s\n",
      "156:\tlearn: 1036.0175768\ttotal: 695ms\tremaining: 3.73s\n",
      "157:\tlearn: 1035.6236316\ttotal: 698ms\tremaining: 3.72s\n",
      "158:\tlearn: 1035.0241957\ttotal: 702ms\tremaining: 3.71s\n"
     ]
    },
    {
     "name": "stdout",
     "output_type": "stream",
     "text": [
      "159:\tlearn: 1034.9232858\ttotal: 707ms\tremaining: 3.71s\n",
      "160:\tlearn: 1034.4941952\ttotal: 710ms\tremaining: 3.7s\n",
      "161:\tlearn: 1034.2871817\ttotal: 713ms\tremaining: 3.69s\n",
      "162:\tlearn: 1033.9982929\ttotal: 716ms\tremaining: 3.68s\n",
      "163:\tlearn: 1033.8199312\ttotal: 720ms\tremaining: 3.67s\n",
      "164:\tlearn: 1033.5443582\ttotal: 723ms\tremaining: 3.66s\n",
      "165:\tlearn: 1033.1619858\ttotal: 726ms\tremaining: 3.65s\n",
      "166:\tlearn: 1032.8435082\ttotal: 729ms\tremaining: 3.64s\n",
      "167:\tlearn: 1032.6047493\ttotal: 732ms\tremaining: 3.63s\n",
      "168:\tlearn: 1032.4493317\ttotal: 735ms\tremaining: 3.62s\n",
      "169:\tlearn: 1032.0184716\ttotal: 739ms\tremaining: 3.61s\n",
      "170:\tlearn: 1031.6959316\ttotal: 742ms\tremaining: 3.6s\n",
      "171:\tlearn: 1031.4025936\ttotal: 746ms\tremaining: 3.59s\n",
      "172:\tlearn: 1031.1889439\ttotal: 750ms\tremaining: 3.58s\n",
      "173:\tlearn: 1030.3672622\ttotal: 753ms\tremaining: 3.57s\n",
      "174:\tlearn: 1030.0433087\ttotal: 756ms\tremaining: 3.56s\n",
      "175:\tlearn: 1029.7077771\ttotal: 760ms\tremaining: 3.56s\n",
      "176:\tlearn: 1029.5179110\ttotal: 763ms\tremaining: 3.55s\n",
      "177:\tlearn: 1029.2854868\ttotal: 769ms\tremaining: 3.55s\n",
      "178:\tlearn: 1029.0473496\ttotal: 774ms\tremaining: 3.55s\n",
      "179:\tlearn: 1028.7433407\ttotal: 777ms\tremaining: 3.54s\n",
      "180:\tlearn: 1028.3617372\ttotal: 780ms\tremaining: 3.53s\n",
      "181:\tlearn: 1028.0377540\ttotal: 783ms\tremaining: 3.52s\n",
      "182:\tlearn: 1027.7460768\ttotal: 787ms\tremaining: 3.51s\n",
      "183:\tlearn: 1027.4224737\ttotal: 790ms\tremaining: 3.5s\n",
      "184:\tlearn: 1026.8644502\ttotal: 793ms\tremaining: 3.49s\n",
      "185:\tlearn: 1026.5008329\ttotal: 796ms\tremaining: 3.48s\n",
      "186:\tlearn: 1026.0521822\ttotal: 799ms\tremaining: 3.47s\n",
      "187:\tlearn: 1025.6342595\ttotal: 802ms\tremaining: 3.46s\n",
      "188:\tlearn: 1025.2550765\ttotal: 806ms\tremaining: 3.46s\n",
      "189:\tlearn: 1024.5862854\ttotal: 809ms\tremaining: 3.45s\n",
      "190:\tlearn: 1024.3753828\ttotal: 813ms\tremaining: 3.44s\n",
      "191:\tlearn: 1024.0757351\ttotal: 816ms\tremaining: 3.43s\n",
      "192:\tlearn: 1023.8360267\ttotal: 820ms\tremaining: 3.43s\n",
      "193:\tlearn: 1023.2525648\ttotal: 823ms\tremaining: 3.42s\n",
      "194:\tlearn: 1022.9299471\ttotal: 826ms\tremaining: 3.41s\n",
      "195:\tlearn: 1022.5748690\ttotal: 829ms\tremaining: 3.4s\n",
      "196:\tlearn: 1022.0787181\ttotal: 833ms\tremaining: 3.39s\n",
      "197:\tlearn: 1021.6816226\ttotal: 836ms\tremaining: 3.38s\n",
      "198:\tlearn: 1021.3774770\ttotal: 839ms\tremaining: 3.38s\n",
      "199:\tlearn: 1021.0710791\ttotal: 842ms\tremaining: 3.37s\n",
      "200:\tlearn: 1020.6483401\ttotal: 845ms\tremaining: 3.36s\n",
      "201:\tlearn: 1020.1787387\ttotal: 849ms\tremaining: 3.35s\n",
      "202:\tlearn: 1019.9518506\ttotal: 853ms\tremaining: 3.35s\n",
      "203:\tlearn: 1019.4768602\ttotal: 856ms\tremaining: 3.34s\n",
      "204:\tlearn: 1019.1961438\ttotal: 859ms\tremaining: 3.33s\n",
      "205:\tlearn: 1018.7826641\ttotal: 862ms\tremaining: 3.32s\n",
      "206:\tlearn: 1018.1527356\ttotal: 865ms\tremaining: 3.31s\n",
      "207:\tlearn: 1017.8214820\ttotal: 868ms\tremaining: 3.31s\n",
      "208:\tlearn: 1017.4361319\ttotal: 871ms\tremaining: 3.3s\n",
      "209:\tlearn: 1017.1684865\ttotal: 876ms\tremaining: 3.3s\n",
      "210:\tlearn: 1016.8184943\ttotal: 880ms\tremaining: 3.29s\n",
      "211:\tlearn: 1016.3798130\ttotal: 883ms\tremaining: 3.28s\n",
      "212:\tlearn: 1016.0869486\ttotal: 887ms\tremaining: 3.27s\n",
      "213:\tlearn: 1015.7879072\ttotal: 890ms\tremaining: 3.27s\n",
      "214:\tlearn: 1015.5909786\ttotal: 894ms\tremaining: 3.26s\n",
      "215:\tlearn: 1015.2322449\ttotal: 899ms\tremaining: 3.26s\n",
      "216:\tlearn: 1014.8039242\ttotal: 902ms\tremaining: 3.26s\n",
      "217:\tlearn: 1014.5526580\ttotal: 906ms\tremaining: 3.25s\n",
      "218:\tlearn: 1014.3048238\ttotal: 909ms\tremaining: 3.24s\n",
      "219:\tlearn: 1014.1013523\ttotal: 912ms\tremaining: 3.23s\n",
      "220:\tlearn: 1013.9188113\ttotal: 915ms\tremaining: 3.23s\n",
      "221:\tlearn: 1013.6964136\ttotal: 919ms\tremaining: 3.22s\n",
      "222:\tlearn: 1013.2902468\ttotal: 922ms\tremaining: 3.21s\n",
      "223:\tlearn: 1013.1781633\ttotal: 925ms\tremaining: 3.2s\n",
      "224:\tlearn: 1012.8650393\ttotal: 929ms\tremaining: 3.2s\n",
      "225:\tlearn: 1012.3991636\ttotal: 932ms\tremaining: 3.19s\n",
      "226:\tlearn: 1011.9424188\ttotal: 935ms\tremaining: 3.18s\n",
      "227:\tlearn: 1011.7259561\ttotal: 938ms\tremaining: 3.18s\n",
      "228:\tlearn: 1011.4472151\ttotal: 942ms\tremaining: 3.17s\n",
      "229:\tlearn: 1011.3333937\ttotal: 946ms\tremaining: 3.17s\n",
      "230:\tlearn: 1010.9358543\ttotal: 949ms\tremaining: 3.16s\n",
      "231:\tlearn: 1010.7225717\ttotal: 953ms\tremaining: 3.15s\n",
      "232:\tlearn: 1010.3936181\ttotal: 956ms\tremaining: 3.15s\n",
      "233:\tlearn: 1010.0751784\ttotal: 960ms\tremaining: 3.14s\n",
      "234:\tlearn: 1009.8450966\ttotal: 964ms\tremaining: 3.14s\n",
      "235:\tlearn: 1009.5838502\ttotal: 969ms\tremaining: 3.14s\n",
      "236:\tlearn: 1009.2549758\ttotal: 973ms\tremaining: 3.13s\n",
      "237:\tlearn: 1008.7783476\ttotal: 978ms\tremaining: 3.13s\n",
      "238:\tlearn: 1008.5505399\ttotal: 982ms\tremaining: 3.13s\n",
      "239:\tlearn: 1008.4041064\ttotal: 987ms\tremaining: 3.12s\n",
      "240:\tlearn: 1008.1220909\ttotal: 990ms\tremaining: 3.12s\n",
      "241:\tlearn: 1007.8358476\ttotal: 995ms\tremaining: 3.12s\n",
      "242:\tlearn: 1007.6611806\ttotal: 999ms\tremaining: 3.11s\n",
      "243:\tlearn: 1007.4265494\ttotal: 1s\tremaining: 3.11s\n",
      "244:\tlearn: 1007.1492634\ttotal: 1.01s\tremaining: 3.1s\n",
      "245:\tlearn: 1006.8087254\ttotal: 1.01s\tremaining: 3.11s\n",
      "246:\tlearn: 1006.4684205\ttotal: 1.02s\tremaining: 3.11s\n",
      "247:\tlearn: 1006.2595574\ttotal: 1.03s\tremaining: 3.11s\n",
      "248:\tlearn: 1006.0014384\ttotal: 1.03s\tremaining: 3.11s\n",
      "249:\tlearn: 1005.6629285\ttotal: 1.04s\tremaining: 3.11s\n",
      "250:\tlearn: 1005.4506409\ttotal: 1.04s\tremaining: 3.11s\n",
      "251:\tlearn: 1005.0705791\ttotal: 1.05s\tremaining: 3.12s\n",
      "252:\tlearn: 1004.8268012\ttotal: 1.06s\tremaining: 3.13s\n",
      "253:\tlearn: 1004.4921082\ttotal: 1.07s\tremaining: 3.13s\n",
      "254:\tlearn: 1004.0850497\ttotal: 1.07s\tremaining: 3.14s\n",
      "255:\tlearn: 1003.7270445\ttotal: 1.08s\tremaining: 3.14s\n",
      "256:\tlearn: 1003.3882151\ttotal: 1.09s\tremaining: 3.15s\n",
      "257:\tlearn: 1002.9949231\ttotal: 1.1s\tremaining: 3.16s\n",
      "258:\tlearn: 1002.6599855\ttotal: 1.11s\tremaining: 3.17s\n",
      "259:\tlearn: 1002.4144133\ttotal: 1.11s\tremaining: 3.17s\n",
      "260:\tlearn: 1002.1388465\ttotal: 1.12s\tremaining: 3.18s\n",
      "261:\tlearn: 1001.8851414\ttotal: 1.13s\tremaining: 3.19s\n",
      "262:\tlearn: 1001.5576500\ttotal: 1.14s\tremaining: 3.19s\n",
      "263:\tlearn: 1001.2442228\ttotal: 1.15s\tremaining: 3.2s\n",
      "264:\tlearn: 1001.0156317\ttotal: 1.16s\tremaining: 3.21s\n",
      "265:\tlearn: 1000.4557956\ttotal: 1.16s\tremaining: 3.21s\n",
      "266:\tlearn: 1000.3712217\ttotal: 1.17s\tremaining: 3.21s\n",
      "267:\tlearn: 999.9641174\ttotal: 1.18s\tremaining: 3.21s\n",
      "268:\tlearn: 999.6496928\ttotal: 1.18s\tremaining: 3.22s\n",
      "269:\tlearn: 999.4005838\ttotal: 1.19s\tremaining: 3.23s\n",
      "270:\tlearn: 999.2037050\ttotal: 1.2s\tremaining: 3.23s\n",
      "271:\tlearn: 999.0648102\ttotal: 1.21s\tremaining: 3.24s\n",
      "272:\tlearn: 998.6991813\ttotal: 1.22s\tremaining: 3.25s\n",
      "273:\tlearn: 998.3186091\ttotal: 1.23s\tremaining: 3.25s\n",
      "274:\tlearn: 997.9673181\ttotal: 1.24s\tremaining: 3.26s\n",
      "275:\tlearn: 997.7592393\ttotal: 1.24s\tremaining: 3.27s\n",
      "276:\tlearn: 997.3650882\ttotal: 1.25s\tremaining: 3.27s\n",
      "277:\tlearn: 997.1127716\ttotal: 1.26s\tremaining: 3.27s\n",
      "278:\tlearn: 996.9468630\ttotal: 1.27s\tremaining: 3.28s\n",
      "279:\tlearn: 996.7114734\ttotal: 1.28s\tremaining: 3.3s\n",
      "280:\tlearn: 996.3592830\ttotal: 1.29s\tremaining: 3.31s\n",
      "281:\tlearn: 996.1643630\ttotal: 1.3s\tremaining: 3.31s\n",
      "282:\tlearn: 995.6803722\ttotal: 1.31s\tremaining: 3.32s\n",
      "283:\tlearn: 995.5164101\ttotal: 1.32s\tremaining: 3.33s\n",
      "284:\tlearn: 995.2681619\ttotal: 1.33s\tremaining: 3.33s\n",
      "285:\tlearn: 994.8772726\ttotal: 1.34s\tremaining: 3.35s\n",
      "286:\tlearn: 994.5456911\ttotal: 1.35s\tremaining: 3.35s\n",
      "287:\tlearn: 994.2957771\ttotal: 1.36s\tremaining: 3.37s\n",
      "288:\tlearn: 994.0486862\ttotal: 1.37s\tremaining: 3.38s\n",
      "289:\tlearn: 993.8328667\ttotal: 1.38s\tremaining: 3.38s\n",
      "290:\tlearn: 993.5771958\ttotal: 1.39s\tremaining: 3.39s\n",
      "291:\tlearn: 993.3264122\ttotal: 1.4s\tremaining: 3.39s\n",
      "292:\tlearn: 992.9962410\ttotal: 1.41s\tremaining: 3.4s\n",
      "293:\tlearn: 992.7907898\ttotal: 1.42s\tremaining: 3.4s\n",
      "294:\tlearn: 992.5239757\ttotal: 1.42s\tremaining: 3.4s\n",
      "295:\tlearn: 992.2946146\ttotal: 1.43s\tremaining: 3.4s\n",
      "296:\tlearn: 992.0821124\ttotal: 1.44s\tremaining: 3.4s\n",
      "297:\tlearn: 991.9255196\ttotal: 1.44s\tremaining: 3.4s\n",
      "298:\tlearn: 991.7580980\ttotal: 1.45s\tremaining: 3.4s\n",
      "299:\tlearn: 991.4099795\ttotal: 1.46s\tremaining: 3.4s\n",
      "300:\tlearn: 991.2546828\ttotal: 1.46s\tremaining: 3.4s\n",
      "301:\tlearn: 990.9078419\ttotal: 1.47s\tremaining: 3.4s\n",
      "302:\tlearn: 990.5089964\ttotal: 1.48s\tremaining: 3.4s\n",
      "303:\tlearn: 990.1867746\ttotal: 1.48s\tremaining: 3.39s\n",
      "304:\tlearn: 989.7574104\ttotal: 1.49s\tremaining: 3.39s\n",
      "305:\tlearn: 989.4479297\ttotal: 1.49s\tremaining: 3.38s\n",
      "306:\tlearn: 989.2925880\ttotal: 1.5s\tremaining: 3.38s\n",
      "307:\tlearn: 989.1557682\ttotal: 1.5s\tremaining: 3.38s\n",
      "308:\tlearn: 988.9471163\ttotal: 1.51s\tremaining: 3.38s\n",
      "309:\tlearn: 988.6252070\ttotal: 1.51s\tremaining: 3.37s\n",
      "310:\tlearn: 988.2073585\ttotal: 1.52s\tremaining: 3.37s\n",
      "311:\tlearn: 988.0096342\ttotal: 1.52s\tremaining: 3.36s\n",
      "312:\tlearn: 987.8200499\ttotal: 1.53s\tremaining: 3.35s\n",
      "313:\tlearn: 987.5088808\ttotal: 1.53s\tremaining: 3.35s\n",
      "314:\tlearn: 987.2440851\ttotal: 1.54s\tremaining: 3.34s\n",
      "315:\tlearn: 987.1412223\ttotal: 1.54s\tremaining: 3.34s\n",
      "316:\tlearn: 986.9864762\ttotal: 1.54s\tremaining: 3.33s\n",
      "317:\tlearn: 986.7915650\ttotal: 1.55s\tremaining: 3.32s\n",
      "318:\tlearn: 986.5268208\ttotal: 1.55s\tremaining: 3.31s\n",
      "319:\tlearn: 986.2597516\ttotal: 1.56s\tremaining: 3.31s\n",
      "320:\tlearn: 986.0149742\ttotal: 1.56s\tremaining: 3.3s\n",
      "321:\tlearn: 985.7898768\ttotal: 1.57s\tremaining: 3.3s\n",
      "322:\tlearn: 985.5874065\ttotal: 1.57s\tremaining: 3.29s\n",
      "323:\tlearn: 985.3922338\ttotal: 1.57s\tremaining: 3.28s\n",
      "324:\tlearn: 985.0120134\ttotal: 1.58s\tremaining: 3.27s\n",
      "325:\tlearn: 984.7989286\ttotal: 1.58s\tremaining: 3.27s\n"
     ]
    },
    {
     "name": "stdout",
     "output_type": "stream",
     "text": [
      "326:\tlearn: 984.6710966\ttotal: 1.58s\tremaining: 3.26s\n",
      "327:\tlearn: 984.4033441\ttotal: 1.59s\tremaining: 3.26s\n",
      "328:\tlearn: 984.1252613\ttotal: 1.59s\tremaining: 3.25s\n",
      "329:\tlearn: 983.9408797\ttotal: 1.6s\tremaining: 3.24s\n",
      "330:\tlearn: 983.6821280\ttotal: 1.6s\tremaining: 3.23s\n",
      "331:\tlearn: 983.4592389\ttotal: 1.6s\tremaining: 3.23s\n",
      "332:\tlearn: 983.3825107\ttotal: 1.61s\tremaining: 3.22s\n",
      "333:\tlearn: 983.0281994\ttotal: 1.61s\tremaining: 3.22s\n",
      "334:\tlearn: 982.8830361\ttotal: 1.62s\tremaining: 3.21s\n",
      "335:\tlearn: 982.5133264\ttotal: 1.62s\tremaining: 3.2s\n",
      "336:\tlearn: 982.2274173\ttotal: 1.62s\tremaining: 3.19s\n",
      "337:\tlearn: 982.0308953\ttotal: 1.63s\tremaining: 3.19s\n",
      "338:\tlearn: 981.7891585\ttotal: 1.63s\tremaining: 3.18s\n",
      "339:\tlearn: 981.5806388\ttotal: 1.63s\tremaining: 3.17s\n",
      "340:\tlearn: 981.3145600\ttotal: 1.64s\tremaining: 3.17s\n",
      "341:\tlearn: 981.0128499\ttotal: 1.64s\tremaining: 3.16s\n",
      "342:\tlearn: 980.8931324\ttotal: 1.64s\tremaining: 3.15s\n",
      "343:\tlearn: 980.7510711\ttotal: 1.65s\tremaining: 3.14s\n",
      "344:\tlearn: 980.4093660\ttotal: 1.65s\tremaining: 3.13s\n",
      "345:\tlearn: 980.2088785\ttotal: 1.65s\tremaining: 3.13s\n",
      "346:\tlearn: 979.9606439\ttotal: 1.66s\tremaining: 3.12s\n",
      "347:\tlearn: 979.7141528\ttotal: 1.66s\tremaining: 3.11s\n",
      "348:\tlearn: 979.3431904\ttotal: 1.66s\tremaining: 3.1s\n",
      "349:\tlearn: 979.0726261\ttotal: 1.67s\tremaining: 3.1s\n",
      "350:\tlearn: 978.8285637\ttotal: 1.67s\tremaining: 3.09s\n",
      "351:\tlearn: 978.5541401\ttotal: 1.67s\tremaining: 3.08s\n",
      "352:\tlearn: 978.3689074\ttotal: 1.68s\tremaining: 3.08s\n",
      "353:\tlearn: 977.9922837\ttotal: 1.68s\tremaining: 3.07s\n",
      "354:\tlearn: 977.6891776\ttotal: 1.69s\tremaining: 3.06s\n",
      "355:\tlearn: 977.4042705\ttotal: 1.69s\tremaining: 3.06s\n",
      "356:\tlearn: 977.2062588\ttotal: 1.69s\tremaining: 3.05s\n",
      "357:\tlearn: 977.0170691\ttotal: 1.7s\tremaining: 3.04s\n",
      "358:\tlearn: 976.7049878\ttotal: 1.7s\tremaining: 3.04s\n",
      "359:\tlearn: 976.4419246\ttotal: 1.7s\tremaining: 3.03s\n",
      "360:\tlearn: 976.0412912\ttotal: 1.71s\tremaining: 3.02s\n",
      "361:\tlearn: 975.6395855\ttotal: 1.71s\tremaining: 3.01s\n",
      "362:\tlearn: 975.3941520\ttotal: 1.71s\tremaining: 3.01s\n",
      "363:\tlearn: 975.1941170\ttotal: 1.72s\tremaining: 3s\n",
      "364:\tlearn: 975.1163267\ttotal: 1.72s\tremaining: 2.99s\n",
      "365:\tlearn: 974.7603699\ttotal: 1.72s\tremaining: 2.98s\n",
      "366:\tlearn: 974.5088677\ttotal: 1.73s\tremaining: 2.98s\n",
      "367:\tlearn: 974.2096727\ttotal: 1.73s\tremaining: 2.97s\n",
      "368:\tlearn: 973.9628684\ttotal: 1.73s\tremaining: 2.97s\n",
      "369:\tlearn: 973.8501019\ttotal: 1.74s\tremaining: 2.96s\n",
      "370:\tlearn: 973.6366211\ttotal: 1.74s\tremaining: 2.95s\n",
      "371:\tlearn: 973.2294542\ttotal: 1.74s\tremaining: 2.94s\n",
      "372:\tlearn: 973.0856865\ttotal: 1.75s\tremaining: 2.94s\n",
      "373:\tlearn: 972.7453925\ttotal: 1.75s\tremaining: 2.93s\n",
      "374:\tlearn: 972.5705581\ttotal: 1.75s\tremaining: 2.92s\n",
      "375:\tlearn: 972.2604287\ttotal: 1.76s\tremaining: 2.92s\n",
      "376:\tlearn: 972.1203766\ttotal: 1.76s\tremaining: 2.91s\n",
      "377:\tlearn: 971.7993668\ttotal: 1.77s\tremaining: 2.91s\n",
      "378:\tlearn: 971.3340864\ttotal: 1.77s\tremaining: 2.9s\n",
      "379:\tlearn: 971.1068999\ttotal: 1.77s\tremaining: 2.89s\n",
      "380:\tlearn: 970.8670672\ttotal: 1.78s\tremaining: 2.89s\n",
      "381:\tlearn: 970.5202875\ttotal: 1.78s\tremaining: 2.88s\n",
      "382:\tlearn: 970.3537623\ttotal: 1.78s\tremaining: 2.87s\n",
      "383:\tlearn: 970.1533600\ttotal: 1.79s\tremaining: 2.87s\n",
      "384:\tlearn: 969.9236299\ttotal: 1.79s\tremaining: 2.86s\n",
      "385:\tlearn: 969.8659919\ttotal: 1.79s\tremaining: 2.85s\n",
      "386:\tlearn: 969.7451332\ttotal: 1.8s\tremaining: 2.85s\n",
      "387:\tlearn: 969.5163815\ttotal: 1.8s\tremaining: 2.84s\n",
      "388:\tlearn: 969.3814604\ttotal: 1.8s\tremaining: 2.83s\n",
      "389:\tlearn: 968.9821499\ttotal: 1.81s\tremaining: 2.83s\n",
      "390:\tlearn: 968.8867615\ttotal: 1.81s\tremaining: 2.82s\n",
      "391:\tlearn: 968.8231014\ttotal: 1.81s\tremaining: 2.81s\n",
      "392:\tlearn: 968.5564020\ttotal: 1.82s\tremaining: 2.81s\n",
      "393:\tlearn: 968.1538521\ttotal: 1.82s\tremaining: 2.8s\n",
      "394:\tlearn: 967.8014580\ttotal: 1.82s\tremaining: 2.79s\n",
      "395:\tlearn: 967.5294498\ttotal: 1.83s\tremaining: 2.79s\n",
      "396:\tlearn: 967.3092149\ttotal: 1.83s\tremaining: 2.78s\n",
      "397:\tlearn: 967.0596831\ttotal: 1.83s\tremaining: 2.77s\n",
      "398:\tlearn: 966.8542537\ttotal: 1.84s\tremaining: 2.77s\n",
      "399:\tlearn: 966.7845410\ttotal: 1.84s\tremaining: 2.76s\n",
      "400:\tlearn: 966.6133860\ttotal: 1.84s\tremaining: 2.75s\n",
      "401:\tlearn: 966.5138659\ttotal: 1.84s\tremaining: 2.75s\n",
      "402:\tlearn: 966.1427256\ttotal: 1.85s\tremaining: 2.74s\n",
      "403:\tlearn: 965.8812493\ttotal: 1.85s\tremaining: 2.73s\n",
      "404:\tlearn: 965.7836209\ttotal: 1.85s\tremaining: 2.73s\n",
      "405:\tlearn: 965.5462051\ttotal: 1.86s\tremaining: 2.72s\n",
      "406:\tlearn: 965.4385255\ttotal: 1.86s\tremaining: 2.71s\n",
      "407:\tlearn: 965.1286223\ttotal: 1.87s\tremaining: 2.71s\n",
      "408:\tlearn: 964.9950279\ttotal: 1.87s\tremaining: 2.7s\n",
      "409:\tlearn: 964.9161733\ttotal: 1.87s\tremaining: 2.69s\n",
      "410:\tlearn: 964.8546993\ttotal: 1.88s\tremaining: 2.69s\n",
      "411:\tlearn: 964.4579906\ttotal: 1.88s\tremaining: 2.68s\n",
      "412:\tlearn: 964.2504673\ttotal: 1.88s\tremaining: 2.68s\n",
      "413:\tlearn: 963.9141324\ttotal: 1.89s\tremaining: 2.67s\n",
      "414:\tlearn: 963.6441490\ttotal: 1.89s\tremaining: 2.66s\n",
      "415:\tlearn: 963.4477908\ttotal: 1.89s\tremaining: 2.66s\n",
      "416:\tlearn: 963.1300147\ttotal: 1.9s\tremaining: 2.65s\n",
      "417:\tlearn: 962.9166597\ttotal: 1.9s\tremaining: 2.65s\n",
      "418:\tlearn: 962.6213092\ttotal: 1.9s\tremaining: 2.64s\n",
      "419:\tlearn: 962.3720964\ttotal: 1.91s\tremaining: 2.63s\n",
      "420:\tlearn: 962.0874681\ttotal: 1.91s\tremaining: 2.62s\n",
      "421:\tlearn: 961.8804716\ttotal: 1.91s\tremaining: 2.62s\n",
      "422:\tlearn: 961.6497756\ttotal: 1.91s\tremaining: 2.61s\n",
      "423:\tlearn: 961.4951777\ttotal: 1.92s\tremaining: 2.6s\n",
      "424:\tlearn: 961.2978438\ttotal: 1.92s\tremaining: 2.6s\n",
      "425:\tlearn: 961.0287593\ttotal: 1.92s\tremaining: 2.59s\n",
      "426:\tlearn: 960.7093586\ttotal: 1.93s\tremaining: 2.58s\n",
      "427:\tlearn: 960.4238630\ttotal: 1.93s\tremaining: 2.58s\n",
      "428:\tlearn: 960.2409296\ttotal: 1.93s\tremaining: 2.57s\n",
      "429:\tlearn: 960.0192715\ttotal: 1.94s\tremaining: 2.57s\n",
      "430:\tlearn: 959.7205137\ttotal: 1.94s\tremaining: 2.56s\n",
      "431:\tlearn: 959.6211014\ttotal: 1.95s\tremaining: 2.56s\n",
      "432:\tlearn: 959.5479856\ttotal: 1.95s\tremaining: 2.55s\n",
      "433:\tlearn: 959.4018389\ttotal: 1.95s\tremaining: 2.55s\n",
      "434:\tlearn: 959.2459755\ttotal: 1.96s\tremaining: 2.54s\n",
      "435:\tlearn: 959.0247464\ttotal: 1.96s\tremaining: 2.53s\n",
      "436:\tlearn: 958.8896771\ttotal: 1.96s\tremaining: 2.53s\n",
      "437:\tlearn: 958.7314186\ttotal: 1.97s\tremaining: 2.52s\n",
      "438:\tlearn: 958.5537486\ttotal: 1.97s\tremaining: 2.52s\n",
      "439:\tlearn: 958.1951981\ttotal: 1.97s\tremaining: 2.51s\n",
      "440:\tlearn: 957.8722804\ttotal: 1.98s\tremaining: 2.5s\n",
      "441:\tlearn: 957.6561326\ttotal: 1.98s\tremaining: 2.5s\n",
      "442:\tlearn: 957.5992546\ttotal: 1.98s\tremaining: 2.49s\n",
      "443:\tlearn: 957.2761939\ttotal: 1.99s\tremaining: 2.49s\n",
      "444:\tlearn: 957.0787904\ttotal: 1.99s\tremaining: 2.48s\n",
      "445:\tlearn: 956.7806050\ttotal: 1.99s\tremaining: 2.47s\n",
      "446:\tlearn: 956.6770593\ttotal: 1.99s\tremaining: 2.47s\n",
      "447:\tlearn: 956.3838063\ttotal: 2s\tremaining: 2.46s\n",
      "448:\tlearn: 956.1750305\ttotal: 2s\tremaining: 2.46s\n",
      "449:\tlearn: 956.0237188\ttotal: 2s\tremaining: 2.45s\n",
      "450:\tlearn: 955.8955085\ttotal: 2.01s\tremaining: 2.44s\n",
      "451:\tlearn: 955.7919194\ttotal: 2.01s\tremaining: 2.44s\n",
      "452:\tlearn: 955.6632391\ttotal: 2.01s\tremaining: 2.43s\n",
      "453:\tlearn: 955.4487719\ttotal: 2.02s\tremaining: 2.42s\n",
      "454:\tlearn: 955.3556205\ttotal: 2.02s\tremaining: 2.42s\n",
      "455:\tlearn: 954.9800417\ttotal: 2.02s\tremaining: 2.41s\n",
      "456:\tlearn: 954.9193930\ttotal: 2.03s\tremaining: 2.41s\n",
      "457:\tlearn: 954.6519115\ttotal: 2.03s\tremaining: 2.4s\n",
      "458:\tlearn: 954.3949074\ttotal: 2.03s\tremaining: 2.4s\n",
      "459:\tlearn: 954.2474850\ttotal: 2.04s\tremaining: 2.39s\n",
      "460:\tlearn: 954.1217456\ttotal: 2.04s\tremaining: 2.38s\n",
      "461:\tlearn: 954.0200416\ttotal: 2.04s\tremaining: 2.38s\n",
      "462:\tlearn: 953.7100761\ttotal: 2.04s\tremaining: 2.37s\n",
      "463:\tlearn: 953.5428495\ttotal: 2.05s\tremaining: 2.37s\n",
      "464:\tlearn: 953.3938261\ttotal: 2.05s\tremaining: 2.36s\n",
      "465:\tlearn: 953.2316602\ttotal: 2.05s\tremaining: 2.35s\n",
      "466:\tlearn: 952.9897579\ttotal: 2.06s\tremaining: 2.35s\n",
      "467:\tlearn: 952.9276569\ttotal: 2.06s\tremaining: 2.34s\n",
      "468:\tlearn: 952.7070314\ttotal: 2.06s\tremaining: 2.33s\n",
      "469:\tlearn: 952.5514356\ttotal: 2.07s\tremaining: 2.33s\n",
      "470:\tlearn: 952.2878483\ttotal: 2.07s\tremaining: 2.33s\n",
      "471:\tlearn: 952.2150567\ttotal: 2.07s\tremaining: 2.32s\n",
      "472:\tlearn: 952.0273264\ttotal: 2.08s\tremaining: 2.31s\n",
      "473:\tlearn: 951.6335581\ttotal: 2.08s\tremaining: 2.31s\n",
      "474:\tlearn: 951.5349507\ttotal: 2.08s\tremaining: 2.3s\n",
      "475:\tlearn: 951.1768480\ttotal: 2.08s\tremaining: 2.29s\n",
      "476:\tlearn: 951.0789326\ttotal: 2.09s\tremaining: 2.29s\n",
      "477:\tlearn: 950.9325167\ttotal: 2.09s\tremaining: 2.28s\n",
      "478:\tlearn: 950.8092613\ttotal: 2.09s\tremaining: 2.28s\n",
      "479:\tlearn: 950.6875641\ttotal: 2.1s\tremaining: 2.27s\n",
      "480:\tlearn: 950.5237804\ttotal: 2.1s\tremaining: 2.27s\n",
      "481:\tlearn: 950.2961585\ttotal: 2.1s\tremaining: 2.26s\n",
      "482:\tlearn: 950.1932604\ttotal: 2.11s\tremaining: 2.25s\n"
     ]
    },
    {
     "name": "stdout",
     "output_type": "stream",
     "text": [
      "483:\tlearn: 950.0943613\ttotal: 2.11s\tremaining: 2.25s\n",
      "484:\tlearn: 949.7364178\ttotal: 2.11s\tremaining: 2.25s\n",
      "485:\tlearn: 949.5605500\ttotal: 2.12s\tremaining: 2.24s\n",
      "486:\tlearn: 949.4632788\ttotal: 2.12s\tremaining: 2.23s\n",
      "487:\tlearn: 949.4135828\ttotal: 2.12s\tremaining: 2.23s\n",
      "488:\tlearn: 949.3354010\ttotal: 2.13s\tremaining: 2.22s\n",
      "489:\tlearn: 949.2027586\ttotal: 2.13s\tremaining: 2.22s\n",
      "490:\tlearn: 948.9806491\ttotal: 2.13s\tremaining: 2.21s\n",
      "491:\tlearn: 948.8191861\ttotal: 2.14s\tremaining: 2.21s\n",
      "492:\tlearn: 948.5932225\ttotal: 2.14s\tremaining: 2.2s\n",
      "493:\tlearn: 948.4124848\ttotal: 2.14s\tremaining: 2.19s\n",
      "494:\tlearn: 948.1960339\ttotal: 2.15s\tremaining: 2.19s\n",
      "495:\tlearn: 947.9871968\ttotal: 2.15s\tremaining: 2.18s\n",
      "496:\tlearn: 947.9278287\ttotal: 2.15s\tremaining: 2.18s\n",
      "497:\tlearn: 947.7472464\ttotal: 2.15s\tremaining: 2.17s\n",
      "498:\tlearn: 947.5654717\ttotal: 2.16s\tremaining: 2.17s\n",
      "499:\tlearn: 947.4826597\ttotal: 2.16s\tremaining: 2.16s\n",
      "500:\tlearn: 947.3209671\ttotal: 2.16s\tremaining: 2.16s\n",
      "501:\tlearn: 947.2326577\ttotal: 2.17s\tremaining: 2.15s\n",
      "502:\tlearn: 947.0757086\ttotal: 2.17s\tremaining: 2.15s\n",
      "503:\tlearn: 946.9295886\ttotal: 2.17s\tremaining: 2.14s\n",
      "504:\tlearn: 946.7605865\ttotal: 2.18s\tremaining: 2.13s\n",
      "505:\tlearn: 946.4177104\ttotal: 2.18s\tremaining: 2.13s\n",
      "506:\tlearn: 946.2258956\ttotal: 2.18s\tremaining: 2.12s\n",
      "507:\tlearn: 946.1062077\ttotal: 2.19s\tremaining: 2.12s\n",
      "508:\tlearn: 945.9530287\ttotal: 2.19s\tremaining: 2.11s\n",
      "509:\tlearn: 945.6558955\ttotal: 2.19s\tremaining: 2.11s\n",
      "510:\tlearn: 945.5610427\ttotal: 2.2s\tremaining: 2.1s\n",
      "511:\tlearn: 945.3960758\ttotal: 2.2s\tremaining: 2.1s\n",
      "512:\tlearn: 945.2592232\ttotal: 2.2s\tremaining: 2.09s\n",
      "513:\tlearn: 945.1103802\ttotal: 2.21s\tremaining: 2.08s\n",
      "514:\tlearn: 944.9580266\ttotal: 2.21s\tremaining: 2.08s\n",
      "515:\tlearn: 944.7856540\ttotal: 2.21s\tremaining: 2.07s\n",
      "516:\tlearn: 944.6214600\ttotal: 2.21s\tremaining: 2.07s\n",
      "517:\tlearn: 944.3107862\ttotal: 2.22s\tremaining: 2.06s\n",
      "518:\tlearn: 944.0853058\ttotal: 2.22s\tremaining: 2.06s\n",
      "519:\tlearn: 943.8049783\ttotal: 2.22s\tremaining: 2.05s\n",
      "520:\tlearn: 943.5314758\ttotal: 2.23s\tremaining: 2.05s\n",
      "521:\tlearn: 943.4439560\ttotal: 2.23s\tremaining: 2.04s\n",
      "522:\tlearn: 943.3198429\ttotal: 2.23s\tremaining: 2.04s\n",
      "523:\tlearn: 943.1950126\ttotal: 2.24s\tremaining: 2.03s\n",
      "524:\tlearn: 943.0492247\ttotal: 2.24s\tremaining: 2.03s\n",
      "525:\tlearn: 942.7870853\ttotal: 2.25s\tremaining: 2.02s\n",
      "526:\tlearn: 942.6746488\ttotal: 2.25s\tremaining: 2.02s\n",
      "527:\tlearn: 942.3683517\ttotal: 2.25s\tremaining: 2.01s\n",
      "528:\tlearn: 942.0899062\ttotal: 2.25s\tremaining: 2.01s\n",
      "529:\tlearn: 941.9145653\ttotal: 2.26s\tremaining: 2s\n",
      "530:\tlearn: 941.7595408\ttotal: 2.26s\tremaining: 2s\n",
      "531:\tlearn: 941.4291050\ttotal: 2.26s\tremaining: 1.99s\n",
      "532:\tlearn: 941.2671052\ttotal: 2.27s\tremaining: 1.99s\n",
      "533:\tlearn: 940.9982863\ttotal: 2.27s\tremaining: 1.98s\n",
      "534:\tlearn: 940.8594966\ttotal: 2.27s\tremaining: 1.97s\n",
      "535:\tlearn: 940.5292218\ttotal: 2.27s\tremaining: 1.97s\n",
      "536:\tlearn: 940.3668172\ttotal: 2.28s\tremaining: 1.96s\n",
      "537:\tlearn: 940.2176212\ttotal: 2.28s\tremaining: 1.96s\n",
      "538:\tlearn: 940.1378228\ttotal: 2.28s\tremaining: 1.95s\n",
      "539:\tlearn: 939.8841946\ttotal: 2.29s\tremaining: 1.95s\n",
      "540:\tlearn: 939.6398755\ttotal: 2.29s\tremaining: 1.94s\n",
      "541:\tlearn: 939.3023717\ttotal: 2.29s\tremaining: 1.94s\n",
      "542:\tlearn: 939.0607884\ttotal: 2.3s\tremaining: 1.93s\n",
      "543:\tlearn: 938.8039564\ttotal: 2.3s\tremaining: 1.93s\n",
      "544:\tlearn: 938.5968871\ttotal: 2.31s\tremaining: 1.92s\n",
      "545:\tlearn: 938.3595485\ttotal: 2.31s\tremaining: 1.92s\n",
      "546:\tlearn: 938.1964862\ttotal: 2.31s\tremaining: 1.91s\n",
      "547:\tlearn: 937.9132060\ttotal: 2.31s\tremaining: 1.91s\n",
      "548:\tlearn: 937.5637228\ttotal: 2.32s\tremaining: 1.9s\n",
      "549:\tlearn: 937.3033877\ttotal: 2.32s\tremaining: 1.9s\n",
      "550:\tlearn: 937.1865033\ttotal: 2.32s\tremaining: 1.89s\n",
      "551:\tlearn: 937.0723221\ttotal: 2.33s\tremaining: 1.89s\n",
      "552:\tlearn: 936.8791628\ttotal: 2.33s\tremaining: 1.89s\n",
      "553:\tlearn: 936.8145866\ttotal: 2.33s\tremaining: 1.88s\n",
      "554:\tlearn: 936.7238087\ttotal: 2.34s\tremaining: 1.88s\n",
      "555:\tlearn: 936.4856684\ttotal: 2.34s\tremaining: 1.87s\n",
      "556:\tlearn: 936.3321558\ttotal: 2.35s\tremaining: 1.86s\n",
      "557:\tlearn: 936.1171342\ttotal: 2.35s\tremaining: 1.86s\n",
      "558:\tlearn: 936.0360585\ttotal: 2.35s\tremaining: 1.85s\n",
      "559:\tlearn: 935.8710995\ttotal: 2.36s\tremaining: 1.85s\n",
      "560:\tlearn: 935.7210772\ttotal: 2.36s\tremaining: 1.85s\n",
      "561:\tlearn: 935.4730047\ttotal: 2.36s\tremaining: 1.84s\n",
      "562:\tlearn: 935.3255410\ttotal: 2.37s\tremaining: 1.84s\n",
      "563:\tlearn: 935.2613938\ttotal: 2.37s\tremaining: 1.83s\n",
      "564:\tlearn: 934.9465242\ttotal: 2.37s\tremaining: 1.83s\n",
      "565:\tlearn: 934.8290249\ttotal: 2.38s\tremaining: 1.82s\n",
      "566:\tlearn: 934.6285178\ttotal: 2.38s\tremaining: 1.82s\n",
      "567:\tlearn: 934.3348178\ttotal: 2.38s\tremaining: 1.81s\n",
      "568:\tlearn: 934.0653044\ttotal: 2.39s\tremaining: 1.81s\n",
      "569:\tlearn: 933.9000078\ttotal: 2.39s\tremaining: 1.8s\n",
      "570:\tlearn: 933.6972925\ttotal: 2.4s\tremaining: 1.8s\n",
      "571:\tlearn: 933.5885023\ttotal: 2.4s\tremaining: 1.8s\n",
      "572:\tlearn: 933.3576034\ttotal: 2.4s\tremaining: 1.79s\n",
      "573:\tlearn: 933.0749485\ttotal: 2.41s\tremaining: 1.79s\n",
      "574:\tlearn: 932.9297751\ttotal: 2.41s\tremaining: 1.78s\n",
      "575:\tlearn: 932.7165373\ttotal: 2.42s\tremaining: 1.78s\n",
      "576:\tlearn: 932.5286573\ttotal: 2.42s\tremaining: 1.77s\n",
      "577:\tlearn: 932.3756652\ttotal: 2.42s\tremaining: 1.77s\n",
      "578:\tlearn: 932.1440848\ttotal: 2.43s\tremaining: 1.77s\n",
      "579:\tlearn: 931.9878904\ttotal: 2.44s\tremaining: 1.76s\n",
      "580:\tlearn: 931.9197662\ttotal: 2.44s\tremaining: 1.76s\n",
      "581:\tlearn: 931.5683255\ttotal: 2.44s\tremaining: 1.75s\n",
      "582:\tlearn: 931.3974853\ttotal: 2.45s\tremaining: 1.75s\n",
      "583:\tlearn: 931.1785631\ttotal: 2.45s\tremaining: 1.75s\n",
      "584:\tlearn: 930.9949233\ttotal: 2.46s\tremaining: 1.74s\n",
      "585:\tlearn: 930.8400422\ttotal: 2.46s\tremaining: 1.74s\n",
      "586:\tlearn: 930.5862208\ttotal: 2.47s\tremaining: 1.74s\n",
      "587:\tlearn: 930.3644472\ttotal: 2.47s\tremaining: 1.73s\n",
      "588:\tlearn: 930.1657027\ttotal: 2.48s\tremaining: 1.73s\n",
      "589:\tlearn: 930.0887269\ttotal: 2.48s\tremaining: 1.72s\n",
      "590:\tlearn: 929.8383374\ttotal: 2.48s\tremaining: 1.72s\n",
      "591:\tlearn: 929.6560104\ttotal: 2.49s\tremaining: 1.72s\n",
      "592:\tlearn: 929.5036026\ttotal: 2.49s\tremaining: 1.71s\n",
      "593:\tlearn: 929.4567187\ttotal: 2.5s\tremaining: 1.71s\n",
      "594:\tlearn: 929.3240392\ttotal: 2.5s\tremaining: 1.7s\n",
      "595:\tlearn: 929.1631638\ttotal: 2.51s\tremaining: 1.7s\n",
      "596:\tlearn: 929.0057208\ttotal: 2.52s\tremaining: 1.7s\n",
      "597:\tlearn: 928.8285388\ttotal: 2.52s\tremaining: 1.69s\n",
      "598:\tlearn: 928.6616729\ttotal: 2.52s\tremaining: 1.69s\n",
      "599:\tlearn: 928.5890943\ttotal: 2.53s\tremaining: 1.69s\n",
      "600:\tlearn: 928.3836994\ttotal: 2.54s\tremaining: 1.68s\n",
      "601:\tlearn: 928.2409532\ttotal: 2.54s\tremaining: 1.68s\n",
      "602:\tlearn: 928.1503005\ttotal: 2.54s\tremaining: 1.68s\n",
      "603:\tlearn: 927.8118623\ttotal: 2.55s\tremaining: 1.67s\n",
      "604:\tlearn: 927.5745275\ttotal: 2.56s\tremaining: 1.67s\n",
      "605:\tlearn: 927.4306936\ttotal: 2.56s\tremaining: 1.67s\n",
      "606:\tlearn: 927.2704144\ttotal: 2.57s\tremaining: 1.66s\n",
      "607:\tlearn: 927.0871220\ttotal: 2.57s\tremaining: 1.66s\n",
      "608:\tlearn: 926.9029092\ttotal: 2.57s\tremaining: 1.65s\n",
      "609:\tlearn: 926.6870472\ttotal: 2.58s\tremaining: 1.65s\n",
      "610:\tlearn: 926.4997959\ttotal: 2.58s\tremaining: 1.64s\n",
      "611:\tlearn: 926.4433800\ttotal: 2.59s\tremaining: 1.64s\n",
      "612:\tlearn: 926.1352242\ttotal: 2.59s\tremaining: 1.64s\n",
      "613:\tlearn: 925.8862213\ttotal: 2.59s\tremaining: 1.63s\n",
      "614:\tlearn: 925.7675012\ttotal: 2.6s\tremaining: 1.63s\n",
      "615:\tlearn: 925.6366203\ttotal: 2.6s\tremaining: 1.62s\n",
      "616:\tlearn: 925.4193838\ttotal: 2.61s\tremaining: 1.62s\n",
      "617:\tlearn: 925.3118201\ttotal: 2.61s\tremaining: 1.61s\n",
      "618:\tlearn: 925.1633355\ttotal: 2.61s\tremaining: 1.61s\n",
      "619:\tlearn: 924.9460954\ttotal: 2.62s\tremaining: 1.6s\n",
      "620:\tlearn: 924.8868496\ttotal: 2.62s\tremaining: 1.6s\n",
      "621:\tlearn: 924.7164364\ttotal: 2.63s\tremaining: 1.6s\n",
      "622:\tlearn: 924.6152559\ttotal: 2.63s\tremaining: 1.59s\n",
      "623:\tlearn: 924.5535156\ttotal: 2.63s\tremaining: 1.59s\n",
      "624:\tlearn: 924.5030409\ttotal: 2.64s\tremaining: 1.58s\n",
      "625:\tlearn: 924.3738053\ttotal: 2.64s\tremaining: 1.58s\n",
      "626:\tlearn: 924.1934890\ttotal: 2.65s\tremaining: 1.57s\n",
      "627:\tlearn: 924.0897918\ttotal: 2.65s\tremaining: 1.57s\n",
      "628:\tlearn: 923.9526114\ttotal: 2.65s\tremaining: 1.56s\n",
      "629:\tlearn: 923.7671917\ttotal: 2.65s\tremaining: 1.56s\n",
      "630:\tlearn: 923.6718592\ttotal: 2.66s\tremaining: 1.55s\n",
      "631:\tlearn: 923.5364538\ttotal: 2.66s\tremaining: 1.55s\n",
      "632:\tlearn: 923.4944224\ttotal: 2.67s\tremaining: 1.55s\n",
      "633:\tlearn: 923.3693590\ttotal: 2.67s\tremaining: 1.54s\n",
      "634:\tlearn: 923.2812308\ttotal: 2.67s\tremaining: 1.54s\n",
      "635:\tlearn: 923.0271258\ttotal: 2.68s\tremaining: 1.53s\n",
      "636:\tlearn: 922.9102213\ttotal: 2.68s\tremaining: 1.53s\n",
      "637:\tlearn: 922.8432302\ttotal: 2.68s\tremaining: 1.52s\n",
      "638:\tlearn: 922.6195625\ttotal: 2.69s\tremaining: 1.52s\n",
      "639:\tlearn: 922.4904189\ttotal: 2.69s\tremaining: 1.51s\n",
      "640:\tlearn: 922.3134979\ttotal: 2.69s\tremaining: 1.51s\n",
      "641:\tlearn: 922.0619631\ttotal: 2.7s\tremaining: 1.5s\n",
      "642:\tlearn: 921.9408192\ttotal: 2.7s\tremaining: 1.5s\n",
      "643:\tlearn: 921.7917475\ttotal: 2.7s\tremaining: 1.49s\n",
      "644:\tlearn: 921.6036576\ttotal: 2.71s\tremaining: 1.49s\n",
      "645:\tlearn: 921.3299297\ttotal: 2.71s\tremaining: 1.48s\n",
      "646:\tlearn: 921.1551077\ttotal: 2.71s\tremaining: 1.48s\n",
      "647:\tlearn: 920.9491003\ttotal: 2.71s\tremaining: 1.48s\n",
      "648:\tlearn: 920.8543690\ttotal: 2.72s\tremaining: 1.47s\n",
      "649:\tlearn: 920.7471262\ttotal: 2.72s\tremaining: 1.47s\n",
      "650:\tlearn: 920.6535750\ttotal: 2.72s\tremaining: 1.46s\n",
      "651:\tlearn: 920.5293284\ttotal: 2.73s\tremaining: 1.46s\n",
      "652:\tlearn: 920.3181782\ttotal: 2.73s\tremaining: 1.45s\n",
      "653:\tlearn: 920.1240204\ttotal: 2.73s\tremaining: 1.45s\n",
      "654:\tlearn: 919.9462179\ttotal: 2.74s\tremaining: 1.44s\n",
      "655:\tlearn: 919.7393774\ttotal: 2.74s\tremaining: 1.44s\n",
      "656:\tlearn: 919.6338798\ttotal: 2.75s\tremaining: 1.43s\n",
      "657:\tlearn: 919.4597918\ttotal: 2.75s\tremaining: 1.43s\n",
      "658:\tlearn: 919.3591573\ttotal: 2.75s\tremaining: 1.42s\n",
      "659:\tlearn: 919.1452493\ttotal: 2.75s\tremaining: 1.42s\n",
      "660:\tlearn: 919.0002617\ttotal: 2.76s\tremaining: 1.41s\n",
      "661:\tlearn: 918.7438255\ttotal: 2.76s\tremaining: 1.41s\n",
      "662:\tlearn: 918.6234446\ttotal: 2.77s\tremaining: 1.41s\n",
      "663:\tlearn: 918.5225163\ttotal: 2.77s\tremaining: 1.4s\n",
      "664:\tlearn: 918.3486380\ttotal: 2.77s\tremaining: 1.4s\n",
      "665:\tlearn: 918.0538417\ttotal: 2.78s\tremaining: 1.39s\n",
      "666:\tlearn: 918.0127702\ttotal: 2.78s\tremaining: 1.39s\n",
      "667:\tlearn: 917.7959768\ttotal: 2.78s\tremaining: 1.38s\n",
      "668:\tlearn: 917.6345647\ttotal: 2.79s\tremaining: 1.38s\n",
      "669:\tlearn: 917.5959831\ttotal: 2.79s\tremaining: 1.38s\n",
      "670:\tlearn: 917.3689336\ttotal: 2.8s\tremaining: 1.37s\n",
      "671:\tlearn: 917.2269728\ttotal: 2.8s\tremaining: 1.37s\n",
      "672:\tlearn: 916.9215105\ttotal: 2.8s\tremaining: 1.36s\n",
      "673:\tlearn: 916.8329215\ttotal: 2.81s\tremaining: 1.36s\n",
      "674:\tlearn: 916.4399311\ttotal: 2.81s\tremaining: 1.35s\n"
     ]
    },
    {
     "name": "stdout",
     "output_type": "stream",
     "text": [
      "675:\tlearn: 916.2666198\ttotal: 2.82s\tremaining: 1.35s\n",
      "676:\tlearn: 916.1834930\ttotal: 2.82s\tremaining: 1.35s\n",
      "677:\tlearn: 916.0839694\ttotal: 2.83s\tremaining: 1.34s\n",
      "678:\tlearn: 915.9938379\ttotal: 2.83s\tremaining: 1.34s\n",
      "679:\tlearn: 915.8272528\ttotal: 2.84s\tremaining: 1.33s\n",
      "680:\tlearn: 915.6951486\ttotal: 2.84s\tremaining: 1.33s\n",
      "681:\tlearn: 915.4123443\ttotal: 2.85s\tremaining: 1.33s\n",
      "682:\tlearn: 915.1529900\ttotal: 2.85s\tremaining: 1.32s\n",
      "683:\tlearn: 915.0211637\ttotal: 2.86s\tremaining: 1.32s\n",
      "684:\tlearn: 914.7652465\ttotal: 2.86s\tremaining: 1.31s\n",
      "685:\tlearn: 914.5975249\ttotal: 2.87s\tremaining: 1.31s\n",
      "686:\tlearn: 914.3388609\ttotal: 2.87s\tremaining: 1.31s\n",
      "687:\tlearn: 914.2725227\ttotal: 2.87s\tremaining: 1.3s\n",
      "688:\tlearn: 914.1180312\ttotal: 2.88s\tremaining: 1.3s\n",
      "689:\tlearn: 913.9595743\ttotal: 2.88s\tremaining: 1.29s\n",
      "690:\tlearn: 913.8556901\ttotal: 2.89s\tremaining: 1.29s\n",
      "691:\tlearn: 913.7582247\ttotal: 2.9s\tremaining: 1.29s\n",
      "692:\tlearn: 913.5000684\ttotal: 2.9s\tremaining: 1.28s\n",
      "693:\tlearn: 913.3784261\ttotal: 2.91s\tremaining: 1.28s\n",
      "694:\tlearn: 913.1605649\ttotal: 2.91s\tremaining: 1.28s\n",
      "695:\tlearn: 913.0257872\ttotal: 2.92s\tremaining: 1.27s\n",
      "696:\tlearn: 912.8069648\ttotal: 2.92s\tremaining: 1.27s\n",
      "697:\tlearn: 912.5097469\ttotal: 2.93s\tremaining: 1.27s\n",
      "698:\tlearn: 912.3648898\ttotal: 2.93s\tremaining: 1.26s\n",
      "699:\tlearn: 912.1915911\ttotal: 2.94s\tremaining: 1.26s\n",
      "700:\tlearn: 911.9674775\ttotal: 2.94s\tremaining: 1.25s\n",
      "701:\tlearn: 911.8406904\ttotal: 2.95s\tremaining: 1.25s\n",
      "702:\tlearn: 911.7270531\ttotal: 2.96s\tremaining: 1.25s\n",
      "703:\tlearn: 911.5630221\ttotal: 2.96s\tremaining: 1.24s\n",
      "704:\tlearn: 911.4952090\ttotal: 2.96s\tremaining: 1.24s\n",
      "705:\tlearn: 911.3185315\ttotal: 2.97s\tremaining: 1.24s\n",
      "706:\tlearn: 911.0565100\ttotal: 2.97s\tremaining: 1.23s\n",
      "707:\tlearn: 910.8098039\ttotal: 2.98s\tremaining: 1.23s\n",
      "708:\tlearn: 910.6640083\ttotal: 2.98s\tremaining: 1.22s\n",
      "709:\tlearn: 910.4674977\ttotal: 2.98s\tremaining: 1.22s\n",
      "710:\tlearn: 910.2748744\ttotal: 2.99s\tremaining: 1.21s\n",
      "711:\tlearn: 910.1109950\ttotal: 2.99s\tremaining: 1.21s\n",
      "712:\tlearn: 910.0680253\ttotal: 3s\tremaining: 1.21s\n",
      "713:\tlearn: 909.8658381\ttotal: 3s\tremaining: 1.2s\n",
      "714:\tlearn: 909.7939265\ttotal: 3s\tremaining: 1.2s\n",
      "715:\tlearn: 909.6539353\ttotal: 3.01s\tremaining: 1.19s\n",
      "716:\tlearn: 909.5383056\ttotal: 3.01s\tremaining: 1.19s\n",
      "717:\tlearn: 909.4687771\ttotal: 3.02s\tremaining: 1.19s\n",
      "718:\tlearn: 909.3881700\ttotal: 3.02s\tremaining: 1.18s\n",
      "719:\tlearn: 909.3319870\ttotal: 3.02s\tremaining: 1.18s\n",
      "720:\tlearn: 909.2025103\ttotal: 3.03s\tremaining: 1.17s\n",
      "721:\tlearn: 909.0127834\ttotal: 3.03s\tremaining: 1.17s\n",
      "722:\tlearn: 908.8743319\ttotal: 3.04s\tremaining: 1.16s\n",
      "723:\tlearn: 908.7654206\ttotal: 3.04s\tremaining: 1.16s\n",
      "724:\tlearn: 908.6954104\ttotal: 3.04s\tremaining: 1.15s\n",
      "725:\tlearn: 908.5132617\ttotal: 3.04s\tremaining: 1.15s\n",
      "726:\tlearn: 908.4311091\ttotal: 3.05s\tremaining: 1.15s\n",
      "727:\tlearn: 908.3722224\ttotal: 3.05s\tremaining: 1.14s\n",
      "728:\tlearn: 908.2420565\ttotal: 3.06s\tremaining: 1.14s\n",
      "729:\tlearn: 908.0556626\ttotal: 3.06s\tremaining: 1.13s\n",
      "730:\tlearn: 907.8338841\ttotal: 3.06s\tremaining: 1.13s\n",
      "731:\tlearn: 907.6289739\ttotal: 3.07s\tremaining: 1.12s\n",
      "732:\tlearn: 907.5425653\ttotal: 3.07s\tremaining: 1.12s\n",
      "733:\tlearn: 907.2154679\ttotal: 3.07s\tremaining: 1.11s\n",
      "734:\tlearn: 907.0442977\ttotal: 3.08s\tremaining: 1.11s\n",
      "735:\tlearn: 906.9111936\ttotal: 3.08s\tremaining: 1.1s\n",
      "736:\tlearn: 906.7616053\ttotal: 3.08s\tremaining: 1.1s\n",
      "737:\tlearn: 906.5901690\ttotal: 3.09s\tremaining: 1.1s\n",
      "738:\tlearn: 906.3599594\ttotal: 3.09s\tremaining: 1.09s\n",
      "739:\tlearn: 906.2342252\ttotal: 3.09s\tremaining: 1.09s\n",
      "740:\tlearn: 906.0838965\ttotal: 3.1s\tremaining: 1.08s\n",
      "741:\tlearn: 905.8486864\ttotal: 3.1s\tremaining: 1.08s\n",
      "742:\tlearn: 905.5902192\ttotal: 3.1s\tremaining: 1.07s\n",
      "743:\tlearn: 905.4670088\ttotal: 3.11s\tremaining: 1.07s\n",
      "744:\tlearn: 905.2283429\ttotal: 3.11s\tremaining: 1.06s\n",
      "745:\tlearn: 905.0443463\ttotal: 3.11s\tremaining: 1.06s\n",
      "746:\tlearn: 904.7524158\ttotal: 3.12s\tremaining: 1.05s\n",
      "747:\tlearn: 904.5418990\ttotal: 3.12s\tremaining: 1.05s\n",
      "748:\tlearn: 904.5003550\ttotal: 3.12s\tremaining: 1.05s\n",
      "749:\tlearn: 904.2905317\ttotal: 3.13s\tremaining: 1.04s\n",
      "750:\tlearn: 904.0925032\ttotal: 3.13s\tremaining: 1.04s\n",
      "751:\tlearn: 903.8594721\ttotal: 3.13s\tremaining: 1.03s\n",
      "752:\tlearn: 903.7529070\ttotal: 3.14s\tremaining: 1.03s\n",
      "753:\tlearn: 903.6018175\ttotal: 3.14s\tremaining: 1.02s\n",
      "754:\tlearn: 903.4967681\ttotal: 3.14s\tremaining: 1.02s\n",
      "755:\tlearn: 903.3049768\ttotal: 3.15s\tremaining: 1.01s\n",
      "756:\tlearn: 903.1506590\ttotal: 3.15s\tremaining: 1.01s\n",
      "757:\tlearn: 903.0896423\ttotal: 3.15s\tremaining: 1.01s\n",
      "758:\tlearn: 902.9129401\ttotal: 3.16s\tremaining: 1s\n",
      "759:\tlearn: 902.7691728\ttotal: 3.16s\tremaining: 998ms\n",
      "760:\tlearn: 902.6053029\ttotal: 3.17s\tremaining: 994ms\n",
      "761:\tlearn: 902.3793894\ttotal: 3.17s\tremaining: 990ms\n",
      "762:\tlearn: 902.1960543\ttotal: 3.17s\tremaining: 985ms\n",
      "763:\tlearn: 902.0730814\ttotal: 3.17s\tremaining: 981ms\n",
      "764:\tlearn: 901.8039892\ttotal: 3.18s\tremaining: 976ms\n",
      "765:\tlearn: 901.6243119\ttotal: 3.18s\tremaining: 972ms\n",
      "766:\tlearn: 901.4686157\ttotal: 3.18s\tremaining: 967ms\n",
      "767:\tlearn: 901.1798885\ttotal: 3.19s\tremaining: 963ms\n",
      "768:\tlearn: 900.9350934\ttotal: 3.19s\tremaining: 959ms\n",
      "769:\tlearn: 900.7647591\ttotal: 3.2s\tremaining: 955ms\n",
      "770:\tlearn: 900.6129503\ttotal: 3.2s\tremaining: 950ms\n",
      "771:\tlearn: 900.3716764\ttotal: 3.2s\tremaining: 946ms\n",
      "772:\tlearn: 900.2246059\ttotal: 3.21s\tremaining: 942ms\n",
      "773:\tlearn: 900.1847228\ttotal: 3.21s\tremaining: 938ms\n",
      "774:\tlearn: 899.9444269\ttotal: 3.21s\tremaining: 933ms\n",
      "775:\tlearn: 899.7600298\ttotal: 3.22s\tremaining: 929ms\n",
      "776:\tlearn: 899.6673049\ttotal: 3.22s\tremaining: 926ms\n",
      "777:\tlearn: 899.5242123\ttotal: 3.23s\tremaining: 921ms\n",
      "778:\tlearn: 899.2842831\ttotal: 3.23s\tremaining: 917ms\n",
      "779:\tlearn: 899.1134819\ttotal: 3.23s\tremaining: 913ms\n",
      "780:\tlearn: 898.9627437\ttotal: 3.24s\tremaining: 908ms\n",
      "781:\tlearn: 898.7843877\ttotal: 3.24s\tremaining: 904ms\n",
      "782:\tlearn: 898.6993965\ttotal: 3.25s\tremaining: 900ms\n",
      "783:\tlearn: 898.5935274\ttotal: 3.25s\tremaining: 896ms\n",
      "784:\tlearn: 898.4085311\ttotal: 3.25s\tremaining: 891ms\n",
      "785:\tlearn: 898.3286663\ttotal: 3.26s\tremaining: 887ms\n",
      "786:\tlearn: 898.2033054\ttotal: 3.26s\tremaining: 883ms\n",
      "787:\tlearn: 897.9668359\ttotal: 3.27s\tremaining: 879ms\n",
      "788:\tlearn: 897.7853450\ttotal: 3.27s\tremaining: 875ms\n",
      "789:\tlearn: 897.5042160\ttotal: 3.28s\tremaining: 871ms\n",
      "790:\tlearn: 897.3387555\ttotal: 3.28s\tremaining: 867ms\n",
      "791:\tlearn: 897.1272300\ttotal: 3.28s\tremaining: 863ms\n",
      "792:\tlearn: 897.0052796\ttotal: 3.29s\tremaining: 858ms\n",
      "793:\tlearn: 896.8217870\ttotal: 3.29s\tremaining: 854ms\n",
      "794:\tlearn: 896.7099225\ttotal: 3.3s\tremaining: 850ms\n",
      "795:\tlearn: 896.6309688\ttotal: 3.3s\tremaining: 846ms\n",
      "796:\tlearn: 896.4613825\ttotal: 3.31s\tremaining: 842ms\n",
      "797:\tlearn: 896.2973209\ttotal: 3.31s\tremaining: 838ms\n",
      "798:\tlearn: 896.1569071\ttotal: 3.31s\tremaining: 834ms\n",
      "799:\tlearn: 895.9134683\ttotal: 3.32s\tremaining: 830ms\n",
      "800:\tlearn: 895.7771997\ttotal: 3.32s\tremaining: 826ms\n",
      "801:\tlearn: 895.6149196\ttotal: 3.33s\tremaining: 822ms\n",
      "802:\tlearn: 895.3540230\ttotal: 3.33s\tremaining: 818ms\n",
      "803:\tlearn: 895.2306540\ttotal: 3.34s\tremaining: 814ms\n",
      "804:\tlearn: 895.1185444\ttotal: 3.34s\tremaining: 810ms\n",
      "805:\tlearn: 894.8586555\ttotal: 3.36s\tremaining: 810ms\n",
      "806:\tlearn: 894.7631699\ttotal: 3.37s\tremaining: 805ms\n",
      "807:\tlearn: 894.6489099\ttotal: 3.37s\tremaining: 802ms\n",
      "808:\tlearn: 894.5172284\ttotal: 3.38s\tremaining: 798ms\n",
      "809:\tlearn: 894.3255197\ttotal: 3.38s\tremaining: 794ms\n",
      "810:\tlearn: 894.2315293\ttotal: 3.39s\tremaining: 790ms\n",
      "811:\tlearn: 894.0414800\ttotal: 3.39s\tremaining: 786ms\n",
      "812:\tlearn: 893.8858971\ttotal: 3.4s\tremaining: 782ms\n",
      "813:\tlearn: 893.7283706\ttotal: 3.4s\tremaining: 778ms\n",
      "814:\tlearn: 893.5413128\ttotal: 3.41s\tremaining: 774ms\n",
      "815:\tlearn: 893.4510296\ttotal: 3.42s\tremaining: 771ms\n",
      "816:\tlearn: 893.2114259\ttotal: 3.42s\tremaining: 767ms\n",
      "817:\tlearn: 893.0851332\ttotal: 3.43s\tremaining: 763ms\n",
      "818:\tlearn: 892.8816526\ttotal: 3.44s\tremaining: 759ms\n",
      "819:\tlearn: 892.7865207\ttotal: 3.44s\tremaining: 755ms\n",
      "820:\tlearn: 892.5685870\ttotal: 3.45s\tremaining: 752ms\n",
      "821:\tlearn: 892.3574475\ttotal: 3.45s\tremaining: 748ms\n",
      "822:\tlearn: 892.2652137\ttotal: 3.46s\tremaining: 745ms\n",
      "823:\tlearn: 892.1468893\ttotal: 3.47s\tremaining: 742ms\n",
      "824:\tlearn: 892.0220737\ttotal: 3.48s\tremaining: 739ms\n",
      "825:\tlearn: 891.7621362\ttotal: 3.49s\tremaining: 735ms\n",
      "826:\tlearn: 891.7164520\ttotal: 3.5s\tremaining: 731ms\n",
      "827:\tlearn: 891.4680611\ttotal: 3.51s\tremaining: 728ms\n",
      "828:\tlearn: 891.3182419\ttotal: 3.51s\tremaining: 725ms\n",
      "829:\tlearn: 891.1110445\ttotal: 3.52s\tremaining: 721ms\n",
      "830:\tlearn: 891.0427512\ttotal: 3.53s\tremaining: 718ms\n",
      "831:\tlearn: 890.8578182\ttotal: 3.54s\tremaining: 714ms\n"
     ]
    },
    {
     "name": "stdout",
     "output_type": "stream",
     "text": [
      "832:\tlearn: 890.7200471\ttotal: 3.55s\tremaining: 711ms\n",
      "833:\tlearn: 890.5798552\ttotal: 3.55s\tremaining: 707ms\n",
      "834:\tlearn: 890.3969843\ttotal: 3.56s\tremaining: 704ms\n",
      "835:\tlearn: 890.2439766\ttotal: 3.57s\tremaining: 701ms\n",
      "836:\tlearn: 889.9845016\ttotal: 3.58s\tremaining: 697ms\n",
      "837:\tlearn: 889.8360352\ttotal: 3.58s\tremaining: 693ms\n",
      "838:\tlearn: 889.7275722\ttotal: 3.59s\tremaining: 689ms\n",
      "839:\tlearn: 889.6510995\ttotal: 3.6s\tremaining: 686ms\n",
      "840:\tlearn: 889.4994218\ttotal: 3.6s\tremaining: 682ms\n",
      "841:\tlearn: 889.3948936\ttotal: 3.61s\tremaining: 678ms\n",
      "842:\tlearn: 889.3221879\ttotal: 3.62s\tremaining: 674ms\n",
      "843:\tlearn: 889.0878498\ttotal: 3.62s\tremaining: 670ms\n",
      "844:\tlearn: 888.8867780\ttotal: 3.63s\tremaining: 666ms\n",
      "845:\tlearn: 888.7656925\ttotal: 3.64s\tremaining: 663ms\n",
      "846:\tlearn: 888.5175684\ttotal: 3.65s\tremaining: 659ms\n",
      "847:\tlearn: 888.3428135\ttotal: 3.65s\tremaining: 655ms\n",
      "848:\tlearn: 888.1441450\ttotal: 3.66s\tremaining: 651ms\n",
      "849:\tlearn: 887.9989588\ttotal: 3.66s\tremaining: 647ms\n",
      "850:\tlearn: 887.8309301\ttotal: 3.67s\tremaining: 643ms\n",
      "851:\tlearn: 887.6808278\ttotal: 3.68s\tremaining: 639ms\n",
      "852:\tlearn: 887.5914972\ttotal: 3.68s\tremaining: 635ms\n",
      "853:\tlearn: 887.4505913\ttotal: 3.69s\tremaining: 631ms\n",
      "854:\tlearn: 887.2771366\ttotal: 3.69s\tremaining: 627ms\n",
      "855:\tlearn: 887.0403605\ttotal: 3.7s\tremaining: 623ms\n",
      "856:\tlearn: 886.9441894\ttotal: 3.71s\tremaining: 619ms\n",
      "857:\tlearn: 886.8102112\ttotal: 3.71s\tremaining: 614ms\n",
      "858:\tlearn: 886.7167780\ttotal: 3.72s\tremaining: 611ms\n",
      "859:\tlearn: 886.5115535\ttotal: 3.73s\tremaining: 607ms\n",
      "860:\tlearn: 886.3870700\ttotal: 3.73s\tremaining: 603ms\n",
      "861:\tlearn: 886.2209479\ttotal: 3.74s\tremaining: 599ms\n",
      "862:\tlearn: 886.0309559\ttotal: 3.75s\tremaining: 595ms\n",
      "863:\tlearn: 885.9093615\ttotal: 3.76s\tremaining: 591ms\n",
      "864:\tlearn: 885.7724460\ttotal: 3.76s\tremaining: 587ms\n",
      "865:\tlearn: 885.6173178\ttotal: 3.77s\tremaining: 583ms\n",
      "866:\tlearn: 885.4475210\ttotal: 3.78s\tremaining: 579ms\n",
      "867:\tlearn: 885.2985232\ttotal: 3.78s\tremaining: 575ms\n",
      "868:\tlearn: 885.1041733\ttotal: 3.79s\tremaining: 571ms\n",
      "869:\tlearn: 884.9261795\ttotal: 3.79s\tremaining: 567ms\n",
      "870:\tlearn: 884.8020068\ttotal: 3.8s\tremaining: 563ms\n",
      "871:\tlearn: 884.6309951\ttotal: 3.81s\tremaining: 559ms\n",
      "872:\tlearn: 884.4840092\ttotal: 3.82s\tremaining: 555ms\n",
      "873:\tlearn: 884.3466383\ttotal: 3.82s\tremaining: 551ms\n",
      "874:\tlearn: 884.1672983\ttotal: 3.83s\tremaining: 548ms\n",
      "875:\tlearn: 883.9729755\ttotal: 3.84s\tremaining: 544ms\n",
      "876:\tlearn: 883.9322540\ttotal: 3.85s\tremaining: 540ms\n",
      "877:\tlearn: 883.7703737\ttotal: 3.85s\tremaining: 536ms\n",
      "878:\tlearn: 883.6208318\ttotal: 3.86s\tremaining: 532ms\n",
      "879:\tlearn: 883.5302103\ttotal: 3.87s\tremaining: 528ms\n",
      "880:\tlearn: 883.4314466\ttotal: 3.88s\tremaining: 524ms\n",
      "881:\tlearn: 883.3893458\ttotal: 3.88s\tremaining: 519ms\n",
      "882:\tlearn: 883.2795254\ttotal: 3.89s\tremaining: 515ms\n",
      "883:\tlearn: 883.1739155\ttotal: 3.9s\tremaining: 511ms\n",
      "884:\tlearn: 883.0221320\ttotal: 3.9s\tremaining: 507ms\n",
      "885:\tlearn: 882.8692796\ttotal: 3.91s\tremaining: 503ms\n",
      "886:\tlearn: 882.6569534\ttotal: 3.92s\tremaining: 499ms\n",
      "887:\tlearn: 882.5594444\ttotal: 3.92s\tremaining: 495ms\n",
      "888:\tlearn: 882.4995252\ttotal: 3.93s\tremaining: 491ms\n",
      "889:\tlearn: 882.3170485\ttotal: 3.94s\tremaining: 487ms\n",
      "890:\tlearn: 882.2117669\ttotal: 3.94s\tremaining: 482ms\n",
      "891:\tlearn: 882.1140124\ttotal: 3.95s\tremaining: 478ms\n",
      "892:\tlearn: 881.9492960\ttotal: 3.96s\tremaining: 474ms\n",
      "893:\tlearn: 881.8569689\ttotal: 3.96s\tremaining: 470ms\n",
      "894:\tlearn: 881.7500890\ttotal: 3.97s\tremaining: 465ms\n",
      "895:\tlearn: 881.6850417\ttotal: 3.97s\tremaining: 461ms\n",
      "896:\tlearn: 881.5442773\ttotal: 3.98s\tremaining: 457ms\n",
      "897:\tlearn: 881.4590313\ttotal: 3.99s\tremaining: 453ms\n",
      "898:\tlearn: 881.3623636\ttotal: 4s\tremaining: 449ms\n",
      "899:\tlearn: 881.2638190\ttotal: 4s\tremaining: 445ms\n",
      "900:\tlearn: 881.0645240\ttotal: 4.01s\tremaining: 441ms\n",
      "901:\tlearn: 880.9344071\ttotal: 4.02s\tremaining: 437ms\n",
      "902:\tlearn: 880.7565025\ttotal: 4.03s\tremaining: 433ms\n",
      "903:\tlearn: 880.6687802\ttotal: 4.04s\tremaining: 429ms\n",
      "904:\tlearn: 880.5514171\ttotal: 4.04s\tremaining: 424ms\n",
      "905:\tlearn: 880.4509289\ttotal: 4.05s\tremaining: 420ms\n",
      "906:\tlearn: 880.1862886\ttotal: 4.06s\tremaining: 416ms\n",
      "907:\tlearn: 880.0227190\ttotal: 4.06s\tremaining: 412ms\n",
      "908:\tlearn: 879.8680188\ttotal: 4.07s\tremaining: 407ms\n",
      "909:\tlearn: 879.7363982\ttotal: 4.08s\tremaining: 403ms\n",
      "910:\tlearn: 879.6054988\ttotal: 4.08s\tremaining: 399ms\n",
      "911:\tlearn: 879.4970232\ttotal: 4.1s\tremaining: 395ms\n",
      "912:\tlearn: 879.3426700\ttotal: 4.1s\tremaining: 391ms\n",
      "913:\tlearn: 879.1372671\ttotal: 4.11s\tremaining: 387ms\n",
      "914:\tlearn: 878.8464389\ttotal: 4.12s\tremaining: 383ms\n",
      "915:\tlearn: 878.6815646\ttotal: 4.13s\tremaining: 378ms\n",
      "916:\tlearn: 878.6079188\ttotal: 4.13s\tremaining: 374ms\n",
      "917:\tlearn: 878.3298060\ttotal: 4.14s\tremaining: 370ms\n",
      "918:\tlearn: 878.1034845\ttotal: 4.15s\tremaining: 365ms\n",
      "919:\tlearn: 877.9506276\ttotal: 4.15s\tremaining: 361ms\n",
      "920:\tlearn: 877.7787517\ttotal: 4.16s\tremaining: 357ms\n",
      "921:\tlearn: 877.6861901\ttotal: 4.17s\tremaining: 353ms\n",
      "922:\tlearn: 877.5024351\ttotal: 4.17s\tremaining: 348ms\n",
      "923:\tlearn: 877.3284225\ttotal: 4.18s\tremaining: 344ms\n",
      "924:\tlearn: 877.2210356\ttotal: 4.19s\tremaining: 339ms\n",
      "925:\tlearn: 877.0053700\ttotal: 4.19s\tremaining: 335ms\n",
      "926:\tlearn: 876.8152365\ttotal: 4.2s\tremaining: 331ms\n",
      "927:\tlearn: 876.6614046\ttotal: 4.2s\tremaining: 326ms\n",
      "928:\tlearn: 876.5437198\ttotal: 4.21s\tremaining: 322ms\n",
      "929:\tlearn: 876.4151757\ttotal: 4.22s\tremaining: 317ms\n",
      "930:\tlearn: 876.1821977\ttotal: 4.22s\tremaining: 313ms\n",
      "931:\tlearn: 876.1073573\ttotal: 4.23s\tremaining: 308ms\n",
      "932:\tlearn: 875.9986705\ttotal: 4.23s\tremaining: 304ms\n",
      "933:\tlearn: 875.8562760\ttotal: 4.24s\tremaining: 299ms\n",
      "934:\tlearn: 875.7565477\ttotal: 4.25s\tremaining: 295ms\n",
      "935:\tlearn: 875.6699054\ttotal: 4.25s\tremaining: 291ms\n",
      "936:\tlearn: 875.5235237\ttotal: 4.26s\tremaining: 286ms\n",
      "937:\tlearn: 875.3638564\ttotal: 4.26s\tremaining: 282ms\n",
      "938:\tlearn: 875.1479248\ttotal: 4.27s\tremaining: 277ms\n",
      "939:\tlearn: 874.9005192\ttotal: 4.28s\tremaining: 273ms\n",
      "940:\tlearn: 874.7140067\ttotal: 4.28s\tremaining: 269ms\n",
      "941:\tlearn: 874.5657675\ttotal: 4.29s\tremaining: 264ms\n",
      "942:\tlearn: 874.3002674\ttotal: 4.29s\tremaining: 260ms\n",
      "943:\tlearn: 874.2620300\ttotal: 4.3s\tremaining: 255ms\n",
      "944:\tlearn: 874.1197662\ttotal: 4.3s\tremaining: 251ms\n",
      "945:\tlearn: 873.9353602\ttotal: 4.31s\tremaining: 246ms\n",
      "946:\tlearn: 873.7615097\ttotal: 4.32s\tremaining: 242ms\n",
      "947:\tlearn: 873.6815037\ttotal: 4.33s\tremaining: 237ms\n",
      "948:\tlearn: 873.5383505\ttotal: 4.33s\tremaining: 233ms\n",
      "949:\tlearn: 873.4993537\ttotal: 4.34s\tremaining: 228ms\n",
      "950:\tlearn: 873.3238883\ttotal: 4.34s\tremaining: 224ms\n",
      "951:\tlearn: 873.1707650\ttotal: 4.35s\tremaining: 220ms\n",
      "952:\tlearn: 873.0440503\ttotal: 4.36s\tremaining: 215ms\n",
      "953:\tlearn: 872.9759265\ttotal: 4.37s\tremaining: 211ms\n",
      "954:\tlearn: 872.8032214\ttotal: 4.37s\tremaining: 206ms\n",
      "955:\tlearn: 872.6203558\ttotal: 4.38s\tremaining: 202ms\n",
      "956:\tlearn: 872.4984840\ttotal: 4.38s\tremaining: 197ms\n",
      "957:\tlearn: 872.3791813\ttotal: 4.39s\tremaining: 193ms\n",
      "958:\tlearn: 872.1977157\ttotal: 4.4s\tremaining: 188ms\n",
      "959:\tlearn: 872.0835675\ttotal: 4.4s\tremaining: 184ms\n",
      "960:\tlearn: 871.9425984\ttotal: 4.41s\tremaining: 179ms\n",
      "961:\tlearn: 871.8087484\ttotal: 4.42s\tremaining: 174ms\n",
      "962:\tlearn: 871.7472432\ttotal: 4.42s\tremaining: 170ms\n",
      "963:\tlearn: 871.5597743\ttotal: 4.43s\tremaining: 165ms\n",
      "964:\tlearn: 871.4153508\ttotal: 4.43s\tremaining: 161ms\n",
      "965:\tlearn: 871.2819391\ttotal: 4.44s\tremaining: 156ms\n",
      "966:\tlearn: 871.1819215\ttotal: 4.45s\tremaining: 152ms\n",
      "967:\tlearn: 870.9869571\ttotal: 4.45s\tremaining: 147ms\n",
      "968:\tlearn: 870.7976103\ttotal: 4.46s\tremaining: 143ms\n",
      "969:\tlearn: 870.6701770\ttotal: 4.46s\tremaining: 138ms\n",
      "970:\tlearn: 870.5729944\ttotal: 4.47s\tremaining: 133ms\n",
      "971:\tlearn: 870.3486327\ttotal: 4.47s\tremaining: 129ms\n",
      "972:\tlearn: 870.2444409\ttotal: 4.48s\tremaining: 124ms\n",
      "973:\tlearn: 870.0737886\ttotal: 4.48s\tremaining: 120ms\n",
      "974:\tlearn: 870.0174989\ttotal: 4.49s\tremaining: 115ms\n",
      "975:\tlearn: 869.8315148\ttotal: 4.49s\tremaining: 110ms\n",
      "976:\tlearn: 869.7167537\ttotal: 4.5s\tremaining: 106ms\n",
      "977:\tlearn: 869.5058287\ttotal: 4.5s\tremaining: 101ms\n",
      "978:\tlearn: 869.3347210\ttotal: 4.5s\tremaining: 96.6ms\n",
      "979:\tlearn: 869.1975200\ttotal: 4.51s\tremaining: 92ms\n",
      "980:\tlearn: 869.0242590\ttotal: 4.51s\tremaining: 87.4ms\n",
      "981:\tlearn: 868.8422867\ttotal: 4.52s\tremaining: 82.8ms\n",
      "982:\tlearn: 868.7417120\ttotal: 4.52s\tremaining: 78.2ms\n",
      "983:\tlearn: 868.6100445\ttotal: 4.53s\tremaining: 73.6ms\n",
      "984:\tlearn: 868.4573681\ttotal: 4.53s\tremaining: 69ms\n",
      "985:\tlearn: 868.3364770\ttotal: 4.53s\tremaining: 64.4ms\n",
      "986:\tlearn: 868.2137881\ttotal: 4.54s\tremaining: 59.8ms\n",
      "987:\tlearn: 868.0365199\ttotal: 4.54s\tremaining: 55.2ms\n",
      "988:\tlearn: 867.8975062\ttotal: 4.55s\tremaining: 50.6ms\n",
      "989:\tlearn: 867.7378793\ttotal: 4.55s\tremaining: 46ms\n",
      "990:\tlearn: 867.6192747\ttotal: 4.55s\tremaining: 41.4ms\n",
      "991:\tlearn: 867.5210303\ttotal: 4.56s\tremaining: 36.8ms\n",
      "992:\tlearn: 867.3685024\ttotal: 4.56s\tremaining: 32.2ms\n",
      "993:\tlearn: 867.2151239\ttotal: 4.57s\tremaining: 27.6ms\n",
      "994:\tlearn: 867.0199822\ttotal: 4.57s\tremaining: 23ms\n",
      "995:\tlearn: 866.9354367\ttotal: 4.58s\tremaining: 18.4ms\n",
      "996:\tlearn: 866.7994575\ttotal: 4.58s\tremaining: 13.8ms\n",
      "997:\tlearn: 866.5741018\ttotal: 4.58s\tremaining: 9.19ms\n",
      "998:\tlearn: 866.4059560\ttotal: 4.59s\tremaining: 4.59ms\n",
      "999:\tlearn: 866.2945853\ttotal: 4.59s\tremaining: 0us\n"
     ]
    },
    {
     "data": {
      "text/plain": [
       "<catboost.core.CatBoostRegressor at 0x2593c483a30>"
      ]
     },
     "execution_count": 162,
     "metadata": {},
     "output_type": "execute_result"
    }
   ],
   "source": [
    "model_cat.fit(df_robust_normalize,Y_train)"
   ]
  },
  {
   "cell_type": "code",
   "execution_count": 163,
   "metadata": {},
   "outputs": [
    {
     "name": "stdout",
     "output_type": "stream",
     "text": [
      "MAE Score for model_cat is :  625.9090337256961\n",
      "MSE Score for model_cat is :  750466.3067200301\n",
      "RMSE Score for model_cat is :  866.2945842610521\n",
      "R2 Score for model_cat is :  0.7422671550592372\n"
     ]
    }
   ],
   "source": [
    "print(\"MAE Score for model_cat is : \",mean_absolute_error(Y_train,model_cat.predict(df_robust_normalize)))\n",
    "print(\"MSE Score for model_cat is : \",mean_squared_error(Y_train,model_cat.predict(df_robust_normalize)))\n",
    "print(\"RMSE Score for model_cat is : \",root_mean_squared_error(Y_train,model_cat.predict(df_robust_normalize)))\n",
    "print(\"R2 Score for model_cat is : \",r2_score(Y_train,model_cat.predict(df_robust_normalize)))"
   ]
  },
  {
   "cell_type": "code",
   "execution_count": 164,
   "metadata": {
    "collapsed": true
   },
   "outputs": [
    {
     "name": "stdout",
     "output_type": "stream",
     "text": [
      "Collecting lightgbm\n",
      "  Downloading lightgbm-3.3.3-py3-none-win_amd64.whl (1.0 MB)\n",
      "Requirement already satisfied: numpy in c:\\users\\theve\\appdata\\roaming\\python\\python39\\site-packages (from lightgbm) (1.20.3)\n",
      "Requirement already satisfied: wheel in c:\\programdata\\anaconda3\\lib\\site-packages (from lightgbm) (0.37.0)\n",
      "Requirement already satisfied: scikit-learn!=0.22.0 in c:\\users\\theve\\appdata\\roaming\\python\\python39\\site-packages (from lightgbm) (1.1.2)\n",
      "Requirement already satisfied: scipy in c:\\programdata\\anaconda3\\lib\\site-packages (from lightgbm) (1.7.1)\n",
      "Requirement already satisfied: joblib>=1.0.0 in c:\\programdata\\anaconda3\\lib\\site-packages (from scikit-learn!=0.22.0->lightgbm) (1.1.0)\n",
      "Requirement already satisfied: threadpoolctl>=2.0.0 in c:\\programdata\\anaconda3\\lib\\site-packages (from scikit-learn!=0.22.0->lightgbm) (2.2.0)\n",
      "Installing collected packages: lightgbm\n",
      "Successfully installed lightgbm-3.3.3\n"
     ]
    },
    {
     "name": "stderr",
     "output_type": "stream",
     "text": [
      "WARNING: Ignoring invalid distribution -rotobuf (c:\\users\\theve\\appdata\\roaming\\python\\python39\\site-packages)\n",
      "WARNING: Ignoring invalid distribution -umpy (c:\\programdata\\anaconda3\\lib\\site-packages)\n",
      "WARNING: Ignoring invalid distribution -cikit-learn (c:\\programdata\\anaconda3\\lib\\site-packages)\n",
      "WARNING: Ignoring invalid distribution -rotobuf (c:\\users\\theve\\appdata\\roaming\\python\\python39\\site-packages)\n",
      "WARNING: Ignoring invalid distribution -umpy (c:\\programdata\\anaconda3\\lib\\site-packages)\n",
      "WARNING: Ignoring invalid distribution -cikit-learn (c:\\programdata\\anaconda3\\lib\\site-packages)\n",
      "WARNING: Ignoring invalid distribution -rotobuf (c:\\users\\theve\\appdata\\roaming\\python\\python39\\site-packages)\n",
      "WARNING: Ignoring invalid distribution -umpy (c:\\programdata\\anaconda3\\lib\\site-packages)\n",
      "WARNING: Ignoring invalid distribution -cikit-learn (c:\\programdata\\anaconda3\\lib\\site-packages)\n",
      "WARNING: Ignoring invalid distribution -umpy (c:\\programdata\\anaconda3\\lib\\site-packages)\n",
      "WARNING: Ignoring invalid distribution -cikit-learn (c:\\programdata\\anaconda3\\lib\\site-packages)\n",
      "WARNING: Ignoring invalid distribution -rotobuf (c:\\users\\theve\\appdata\\roaming\\python\\python39\\site-packages)\n",
      "WARNING: Ignoring invalid distribution -umpy (c:\\programdata\\anaconda3\\lib\\site-packages)\n",
      "WARNING: Ignoring invalid distribution -cikit-learn (c:\\programdata\\anaconda3\\lib\\site-packages)\n",
      "WARNING: Ignoring invalid distribution -rotobuf (c:\\users\\theve\\appdata\\roaming\\python\\python39\\site-packages)\n",
      "WARNING: Ignoring invalid distribution -umpy (c:\\programdata\\anaconda3\\lib\\site-packages)\n",
      "WARNING: Ignoring invalid distribution -cikit-learn (c:\\programdata\\anaconda3\\lib\\site-packages)\n",
      "WARNING: Ignoring invalid distribution -rotobuf (c:\\users\\theve\\appdata\\roaming\\python\\python39\\site-packages)\n",
      "WARNING: Ignoring invalid distribution -umpy (c:\\programdata\\anaconda3\\lib\\site-packages)\n",
      "WARNING: Ignoring invalid distribution -cikit-learn (c:\\programdata\\anaconda3\\lib\\site-packages)\n"
     ]
    }
   ],
   "source": [
    "! pip install lightgbm"
   ]
  },
  {
   "cell_type": "code",
   "execution_count": 168,
   "metadata": {},
   "outputs": [],
   "source": [
    "from lightgbm import LGBMRegressor"
   ]
  },
  {
   "cell_type": "code",
   "execution_count": 169,
   "metadata": {},
   "outputs": [],
   "source": [
    "model_lgbm = LGBMRegressor()"
   ]
  },
  {
   "cell_type": "code",
   "execution_count": 170,
   "metadata": {
    "scrolled": true
   },
   "outputs": [
    {
     "data": {
      "text/html": [
       "<style>#sk-container-id-10 {color: black;background-color: white;}#sk-container-id-10 pre{padding: 0;}#sk-container-id-10 div.sk-toggleable {background-color: white;}#sk-container-id-10 label.sk-toggleable__label {cursor: pointer;display: block;width: 100%;margin-bottom: 0;padding: 0.3em;box-sizing: border-box;text-align: center;}#sk-container-id-10 label.sk-toggleable__label-arrow:before {content: \"▸\";float: left;margin-right: 0.25em;color: #696969;}#sk-container-id-10 label.sk-toggleable__label-arrow:hover:before {color: black;}#sk-container-id-10 div.sk-estimator:hover label.sk-toggleable__label-arrow:before {color: black;}#sk-container-id-10 div.sk-toggleable__content {max-height: 0;max-width: 0;overflow: hidden;text-align: left;background-color: #f0f8ff;}#sk-container-id-10 div.sk-toggleable__content pre {margin: 0.2em;color: black;border-radius: 0.25em;background-color: #f0f8ff;}#sk-container-id-10 input.sk-toggleable__control:checked~div.sk-toggleable__content {max-height: 200px;max-width: 100%;overflow: auto;}#sk-container-id-10 input.sk-toggleable__control:checked~label.sk-toggleable__label-arrow:before {content: \"▾\";}#sk-container-id-10 div.sk-estimator input.sk-toggleable__control:checked~label.sk-toggleable__label {background-color: #d4ebff;}#sk-container-id-10 div.sk-label input.sk-toggleable__control:checked~label.sk-toggleable__label {background-color: #d4ebff;}#sk-container-id-10 input.sk-hidden--visually {border: 0;clip: rect(1px 1px 1px 1px);clip: rect(1px, 1px, 1px, 1px);height: 1px;margin: -1px;overflow: hidden;padding: 0;position: absolute;width: 1px;}#sk-container-id-10 div.sk-estimator {font-family: monospace;background-color: #f0f8ff;border: 1px dotted black;border-radius: 0.25em;box-sizing: border-box;margin-bottom: 0.5em;}#sk-container-id-10 div.sk-estimator:hover {background-color: #d4ebff;}#sk-container-id-10 div.sk-parallel-item::after {content: \"\";width: 100%;border-bottom: 1px solid gray;flex-grow: 1;}#sk-container-id-10 div.sk-label:hover label.sk-toggleable__label {background-color: #d4ebff;}#sk-container-id-10 div.sk-serial::before {content: \"\";position: absolute;border-left: 1px solid gray;box-sizing: border-box;top: 0;bottom: 0;left: 50%;z-index: 0;}#sk-container-id-10 div.sk-serial {display: flex;flex-direction: column;align-items: center;background-color: white;padding-right: 0.2em;padding-left: 0.2em;position: relative;}#sk-container-id-10 div.sk-item {position: relative;z-index: 1;}#sk-container-id-10 div.sk-parallel {display: flex;align-items: stretch;justify-content: center;background-color: white;position: relative;}#sk-container-id-10 div.sk-item::before, #sk-container-id-10 div.sk-parallel-item::before {content: \"\";position: absolute;border-left: 1px solid gray;box-sizing: border-box;top: 0;bottom: 0;left: 50%;z-index: -1;}#sk-container-id-10 div.sk-parallel-item {display: flex;flex-direction: column;z-index: 1;position: relative;background-color: white;}#sk-container-id-10 div.sk-parallel-item:first-child::after {align-self: flex-end;width: 50%;}#sk-container-id-10 div.sk-parallel-item:last-child::after {align-self: flex-start;width: 50%;}#sk-container-id-10 div.sk-parallel-item:only-child::after {width: 0;}#sk-container-id-10 div.sk-dashed-wrapped {border: 1px dashed gray;margin: 0 0.4em 0.5em 0.4em;box-sizing: border-box;padding-bottom: 0.4em;background-color: white;}#sk-container-id-10 div.sk-label label {font-family: monospace;font-weight: bold;display: inline-block;line-height: 1.2em;}#sk-container-id-10 div.sk-label-container {text-align: center;}#sk-container-id-10 div.sk-container {/* jupyter's `normalize.less` sets `[hidden] { display: none; }` but bootstrap.min.css set `[hidden] { display: none !important; }` so we also need the `!important` here to be able to override the default hidden behavior on the sphinx rendered scikit-learn.org. See: https://github.com/scikit-learn/scikit-learn/issues/21755 */display: inline-block !important;position: relative;}#sk-container-id-10 div.sk-text-repr-fallback {display: none;}</style><div id=\"sk-container-id-10\" class=\"sk-top-container\"><div class=\"sk-text-repr-fallback\"><pre>LGBMRegressor()</pre><b>In a Jupyter environment, please rerun this cell to show the HTML representation or trust the notebook. <br />On GitHub, the HTML representation is unable to render, please try loading this page with nbviewer.org.</b></div><div class=\"sk-container\" hidden><div class=\"sk-item\"><div class=\"sk-estimator sk-toggleable\"><input class=\"sk-toggleable__control sk-hidden--visually\" id=\"sk-estimator-id-10\" type=\"checkbox\" checked><label for=\"sk-estimator-id-10\" class=\"sk-toggleable__label sk-toggleable__label-arrow\">LGBMRegressor</label><div class=\"sk-toggleable__content\"><pre>LGBMRegressor()</pre></div></div></div></div></div>"
      ],
      "text/plain": [
       "LGBMRegressor()"
      ]
     },
     "execution_count": 170,
     "metadata": {},
     "output_type": "execute_result"
    }
   ],
   "source": [
    "model_lgbm.fit(df_robust_normalize,Y_train)"
   ]
  },
  {
   "cell_type": "code",
   "execution_count": 171,
   "metadata": {},
   "outputs": [
    {
     "name": "stdout",
     "output_type": "stream",
     "text": [
      "MAE Score for model_lgbm is :  654.6923039130734\n",
      "MSE Score for model_lgbm is :  840501.8796373843\n",
      "RMSE Score for model_lgbm is :  916.7888958955513\n",
      "R2 Score for model_lgbm is :  0.7113462141108275\n"
     ]
    }
   ],
   "source": [
    "print(\"MAE Score for model_lgbm is : \",mean_absolute_error(Y_train,model_lgbm.predict(df_robust_normalize)))\n",
    "print(\"MSE Score for model_lgbm is : \",mean_squared_error(Y_train,model_lgbm.predict(df_robust_normalize)))\n",
    "print(\"RMSE Score for model_lgbm is : \",root_mean_squared_error(Y_train,model_lgbm.predict(df_robust_normalize)))\n",
    "print(\"R2 Score for model_lgbm is : \",r2_score(Y_train,model_lgbm.predict(df_robust_normalize)))"
   ]
  },
  {
   "cell_type": "markdown",
   "metadata": {},
   "source": [
    "## Xgboost [Xtreme Gradient Boosting.]"
   ]
  },
  {
   "cell_type": "code",
   "execution_count": 173,
   "metadata": {
    "collapsed": true
   },
   "outputs": [
    {
     "name": "stdout",
     "output_type": "stream",
     "text": [
      "Requirement already satisfied: xgboost in c:\\programdata\\anaconda3\\lib\\site-packages (1.5.1)\n",
      "Requirement already satisfied: numpy in c:\\users\\theve\\appdata\\roaming\\python\\python39\\site-packages (from xgboost) (1.20.3)\n",
      "Requirement already satisfied: scipy in c:\\programdata\\anaconda3\\lib\\site-packages (from xgboost) (1.7.1)\n"
     ]
    },
    {
     "name": "stderr",
     "output_type": "stream",
     "text": [
      "WARNING: Ignoring invalid distribution -rotobuf (c:\\users\\theve\\appdata\\roaming\\python\\python39\\site-packages)\n",
      "WARNING: Ignoring invalid distribution -umpy (c:\\programdata\\anaconda3\\lib\\site-packages)\n",
      "WARNING: Ignoring invalid distribution -cikit-learn (c:\\programdata\\anaconda3\\lib\\site-packages)\n",
      "WARNING: Ignoring invalid distribution -rotobuf (c:\\users\\theve\\appdata\\roaming\\python\\python39\\site-packages)\n",
      "WARNING: Ignoring invalid distribution -umpy (c:\\programdata\\anaconda3\\lib\\site-packages)\n",
      "WARNING: Ignoring invalid distribution -cikit-learn (c:\\programdata\\anaconda3\\lib\\site-packages)\n",
      "WARNING: Ignoring invalid distribution -rotobuf (c:\\users\\theve\\appdata\\roaming\\python\\python39\\site-packages)\n",
      "WARNING: Ignoring invalid distribution -umpy (c:\\programdata\\anaconda3\\lib\\site-packages)\n",
      "WARNING: Ignoring invalid distribution -cikit-learn (c:\\programdata\\anaconda3\\lib\\site-packages)\n",
      "WARNING: Ignoring invalid distribution -rotobuf (c:\\users\\theve\\appdata\\roaming\\python\\python39\\site-packages)\n",
      "WARNING: Ignoring invalid distribution -umpy (c:\\programdata\\anaconda3\\lib\\site-packages)\n",
      "WARNING: Ignoring invalid distribution -cikit-learn (c:\\programdata\\anaconda3\\lib\\site-packages)\n",
      "WARNING: Ignoring invalid distribution -rotobuf (c:\\users\\theve\\appdata\\roaming\\python\\python39\\site-packages)\n",
      "WARNING: Ignoring invalid distribution -umpy (c:\\programdata\\anaconda3\\lib\\site-packages)\n",
      "WARNING: Ignoring invalid distribution -cikit-learn (c:\\programdata\\anaconda3\\lib\\site-packages)\n",
      "WARNING: Ignoring invalid distribution -rotobuf (c:\\users\\theve\\appdata\\roaming\\python\\python39\\site-packages)\n",
      "WARNING: Ignoring invalid distribution -umpy (c:\\programdata\\anaconda3\\lib\\site-packages)\n",
      "WARNING: Ignoring invalid distribution -cikit-learn (c:\\programdata\\anaconda3\\lib\\site-packages)\n"
     ]
    }
   ],
   "source": [
    "! pip install xgboost"
   ]
  },
  {
   "cell_type": "code",
   "execution_count": 175,
   "metadata": {},
   "outputs": [],
   "source": [
    "from xgboost import  XGBRegressor"
   ]
  },
  {
   "cell_type": "code",
   "execution_count": 176,
   "metadata": {},
   "outputs": [],
   "source": [
    "model_xgb = XGBRegressor()"
   ]
  },
  {
   "cell_type": "code",
   "execution_count": 177,
   "metadata": {},
   "outputs": [
    {
     "data": {
      "text/html": [
       "<style>#sk-container-id-11 {color: black;background-color: white;}#sk-container-id-11 pre{padding: 0;}#sk-container-id-11 div.sk-toggleable {background-color: white;}#sk-container-id-11 label.sk-toggleable__label {cursor: pointer;display: block;width: 100%;margin-bottom: 0;padding: 0.3em;box-sizing: border-box;text-align: center;}#sk-container-id-11 label.sk-toggleable__label-arrow:before {content: \"▸\";float: left;margin-right: 0.25em;color: #696969;}#sk-container-id-11 label.sk-toggleable__label-arrow:hover:before {color: black;}#sk-container-id-11 div.sk-estimator:hover label.sk-toggleable__label-arrow:before {color: black;}#sk-container-id-11 div.sk-toggleable__content {max-height: 0;max-width: 0;overflow: hidden;text-align: left;background-color: #f0f8ff;}#sk-container-id-11 div.sk-toggleable__content pre {margin: 0.2em;color: black;border-radius: 0.25em;background-color: #f0f8ff;}#sk-container-id-11 input.sk-toggleable__control:checked~div.sk-toggleable__content {max-height: 200px;max-width: 100%;overflow: auto;}#sk-container-id-11 input.sk-toggleable__control:checked~label.sk-toggleable__label-arrow:before {content: \"▾\";}#sk-container-id-11 div.sk-estimator input.sk-toggleable__control:checked~label.sk-toggleable__label {background-color: #d4ebff;}#sk-container-id-11 div.sk-label input.sk-toggleable__control:checked~label.sk-toggleable__label {background-color: #d4ebff;}#sk-container-id-11 input.sk-hidden--visually {border: 0;clip: rect(1px 1px 1px 1px);clip: rect(1px, 1px, 1px, 1px);height: 1px;margin: -1px;overflow: hidden;padding: 0;position: absolute;width: 1px;}#sk-container-id-11 div.sk-estimator {font-family: monospace;background-color: #f0f8ff;border: 1px dotted black;border-radius: 0.25em;box-sizing: border-box;margin-bottom: 0.5em;}#sk-container-id-11 div.sk-estimator:hover {background-color: #d4ebff;}#sk-container-id-11 div.sk-parallel-item::after {content: \"\";width: 100%;border-bottom: 1px solid gray;flex-grow: 1;}#sk-container-id-11 div.sk-label:hover label.sk-toggleable__label {background-color: #d4ebff;}#sk-container-id-11 div.sk-serial::before {content: \"\";position: absolute;border-left: 1px solid gray;box-sizing: border-box;top: 0;bottom: 0;left: 50%;z-index: 0;}#sk-container-id-11 div.sk-serial {display: flex;flex-direction: column;align-items: center;background-color: white;padding-right: 0.2em;padding-left: 0.2em;position: relative;}#sk-container-id-11 div.sk-item {position: relative;z-index: 1;}#sk-container-id-11 div.sk-parallel {display: flex;align-items: stretch;justify-content: center;background-color: white;position: relative;}#sk-container-id-11 div.sk-item::before, #sk-container-id-11 div.sk-parallel-item::before {content: \"\";position: absolute;border-left: 1px solid gray;box-sizing: border-box;top: 0;bottom: 0;left: 50%;z-index: -1;}#sk-container-id-11 div.sk-parallel-item {display: flex;flex-direction: column;z-index: 1;position: relative;background-color: white;}#sk-container-id-11 div.sk-parallel-item:first-child::after {align-self: flex-end;width: 50%;}#sk-container-id-11 div.sk-parallel-item:last-child::after {align-self: flex-start;width: 50%;}#sk-container-id-11 div.sk-parallel-item:only-child::after {width: 0;}#sk-container-id-11 div.sk-dashed-wrapped {border: 1px dashed gray;margin: 0 0.4em 0.5em 0.4em;box-sizing: border-box;padding-bottom: 0.4em;background-color: white;}#sk-container-id-11 div.sk-label label {font-family: monospace;font-weight: bold;display: inline-block;line-height: 1.2em;}#sk-container-id-11 div.sk-label-container {text-align: center;}#sk-container-id-11 div.sk-container {/* jupyter's `normalize.less` sets `[hidden] { display: none; }` but bootstrap.min.css set `[hidden] { display: none !important; }` so we also need the `!important` here to be able to override the default hidden behavior on the sphinx rendered scikit-learn.org. See: https://github.com/scikit-learn/scikit-learn/issues/21755 */display: inline-block !important;position: relative;}#sk-container-id-11 div.sk-text-repr-fallback {display: none;}</style><div id=\"sk-container-id-11\" class=\"sk-top-container\"><div class=\"sk-text-repr-fallback\"><pre>XGBRegressor(base_score=0.5, booster=&#x27;gbtree&#x27;, colsample_bylevel=1,\n",
       "             colsample_bynode=1, colsample_bytree=1, enable_categorical=False,\n",
       "             gamma=0, gpu_id=-1, importance_type=None,\n",
       "             interaction_constraints=&#x27;&#x27;, learning_rate=0.300000012,\n",
       "             max_delta_step=0, max_depth=6, min_child_weight=1, missing=nan,\n",
       "             monotone_constraints=&#x27;()&#x27;, n_estimators=100, n_jobs=16,\n",
       "             num_parallel_tree=1, predictor=&#x27;auto&#x27;, random_state=0, reg_alpha=0,\n",
       "             reg_lambda=1, scale_pos_weight=1, subsample=1, tree_method=&#x27;exact&#x27;,\n",
       "             validate_parameters=1, verbosity=None)</pre><b>In a Jupyter environment, please rerun this cell to show the HTML representation or trust the notebook. <br />On GitHub, the HTML representation is unable to render, please try loading this page with nbviewer.org.</b></div><div class=\"sk-container\" hidden><div class=\"sk-item\"><div class=\"sk-estimator sk-toggleable\"><input class=\"sk-toggleable__control sk-hidden--visually\" id=\"sk-estimator-id-11\" type=\"checkbox\" checked><label for=\"sk-estimator-id-11\" class=\"sk-toggleable__label sk-toggleable__label-arrow\">XGBRegressor</label><div class=\"sk-toggleable__content\"><pre>XGBRegressor(base_score=0.5, booster=&#x27;gbtree&#x27;, colsample_bylevel=1,\n",
       "             colsample_bynode=1, colsample_bytree=1, enable_categorical=False,\n",
       "             gamma=0, gpu_id=-1, importance_type=None,\n",
       "             interaction_constraints=&#x27;&#x27;, learning_rate=0.300000012,\n",
       "             max_delta_step=0, max_depth=6, min_child_weight=1, missing=nan,\n",
       "             monotone_constraints=&#x27;()&#x27;, n_estimators=100, n_jobs=16,\n",
       "             num_parallel_tree=1, predictor=&#x27;auto&#x27;, random_state=0, reg_alpha=0,\n",
       "             reg_lambda=1, scale_pos_weight=1, subsample=1, tree_method=&#x27;exact&#x27;,\n",
       "             validate_parameters=1, verbosity=None)</pre></div></div></div></div></div>"
      ],
      "text/plain": [
       "XGBRegressor(base_score=0.5, booster='gbtree', colsample_bylevel=1,\n",
       "             colsample_bynode=1, colsample_bytree=1, enable_categorical=False,\n",
       "             gamma=0, gpu_id=-1, importance_type=None,\n",
       "             interaction_constraints='', learning_rate=0.300000012,\n",
       "             max_delta_step=0, max_depth=6, min_child_weight=1, missing=nan,\n",
       "             monotone_constraints='()', n_estimators=100, n_jobs=16,\n",
       "             num_parallel_tree=1, predictor='auto', random_state=0, reg_alpha=0,\n",
       "             reg_lambda=1, scale_pos_weight=1, subsample=1, tree_method='exact',\n",
       "             validate_parameters=1, verbosity=None)"
      ]
     },
     "execution_count": 177,
     "metadata": {},
     "output_type": "execute_result"
    }
   ],
   "source": [
    "model_xgb.fit(df_robust_normalize,Y_train)"
   ]
  },
  {
   "cell_type": "code",
   "execution_count": 178,
   "metadata": {},
   "outputs": [
    {
     "name": "stdout",
     "output_type": "stream",
     "text": [
      "MAE Score for model_xgb is :  516.4969162490946\n",
      "MSE Score for model_xgb is :  514099.00673181145\n",
      "RMSE Score for model_xgb is :  717.0069781611683\n",
      "R2 Score for model_xgb is :  0.8234428402717875\n"
     ]
    }
   ],
   "source": [
    "print(\"MAE Score for model_xgb is : \",mean_absolute_error(Y_train,model_xgb.predict(df_robust_normalize)))\n",
    "print(\"MSE Score for model_xgb is : \",mean_squared_error(Y_train,model_xgb.predict(df_robust_normalize)))\n",
    "print(\"RMSE Score for model_xgb is : \",root_mean_squared_error(Y_train,model_xgb.predict(df_robust_normalize)))\n",
    "print(\"R2 Score for model_xgb is : \",r2_score(Y_train,model_xgb.predict(df_robust_normalize)))"
   ]
  },
  {
   "cell_type": "code",
   "execution_count": 63,
   "metadata": {
    "id": "IRdnuZVMXaU2"
   },
   "outputs": [],
   "source": [
    "final_prediction=model.predict(df_test_robust_normalize) #Predicting the outlet sales"
   ]
  },
  {
   "cell_type": "code",
   "execution_count": 64,
   "metadata": {
    "id": "JiIEWcnyXaU2"
   },
   "outputs": [],
   "source": [
    "#the prediction is in the form of numpy array \n",
    "# Converting into Dataframe \n",
    "df_final_prediction = pd.DataFrame(final_prediction,columns=['Item_Outlet_Sales'])"
   ]
  },
  {
   "cell_type": "code",
   "execution_count": 65,
   "metadata": {
    "colab": {
     "base_uri": "https://localhost:8080/"
    },
    "executionInfo": {
     "elapsed": 14,
     "status": "ok",
     "timestamp": 1644229120227,
     "user": {
      "displayName": "Siddhi Jadhav",
      "photoUrl": "https://lh3.googleusercontent.com/a/default-user=s64",
      "userId": "08402691859170607175"
     },
     "user_tz": -330
    },
    "id": "o6TRMWlYXaU3",
    "outputId": "d49073c8-0f8e-4fae-8ef7-2ec0f0049aca"
   },
   "outputs": [
    {
     "data": {
      "text/html": [
       "<div>\n",
       "<style scoped>\n",
       "    .dataframe tbody tr th:only-of-type {\n",
       "        vertical-align: middle;\n",
       "    }\n",
       "\n",
       "    .dataframe tbody tr th {\n",
       "        vertical-align: top;\n",
       "    }\n",
       "\n",
       "    .dataframe thead th {\n",
       "        text-align: right;\n",
       "    }\n",
       "</style>\n",
       "<table border=\"1\" class=\"dataframe\">\n",
       "  <thead>\n",
       "    <tr style=\"text-align: right;\">\n",
       "      <th></th>\n",
       "      <th>Item_Outlet_Sales</th>\n",
       "    </tr>\n",
       "  </thead>\n",
       "  <tbody>\n",
       "    <tr>\n",
       "      <th>0</th>\n",
       "      <td>1831.0</td>\n",
       "    </tr>\n",
       "    <tr>\n",
       "      <th>1</th>\n",
       "      <td>1549.0</td>\n",
       "    </tr>\n",
       "    <tr>\n",
       "      <th>2</th>\n",
       "      <td>1892.0</td>\n",
       "    </tr>\n",
       "    <tr>\n",
       "      <th>3</th>\n",
       "      <td>2565.0</td>\n",
       "    </tr>\n",
       "    <tr>\n",
       "      <th>4</th>\n",
       "      <td>5189.0</td>\n",
       "    </tr>\n",
       "  </tbody>\n",
       "</table>\n",
       "</div>"
      ],
      "text/plain": [
       "   Item_Outlet_Sales\n",
       "0             1831.0\n",
       "1             1549.0\n",
       "2             1892.0\n",
       "3             2565.0\n",
       "4             5189.0"
      ]
     },
     "execution_count": 65,
     "metadata": {},
     "output_type": "execute_result"
    }
   ],
   "source": [
    "df_final_prediction.head()"
   ]
  },
  {
   "cell_type": "markdown",
   "metadata": {
    "id": "56H-JuRDXaU3"
   },
   "source": [
    "# Saving the final model using Joblib"
   ]
  },
  {
   "cell_type": "code",
   "execution_count": 96,
   "metadata": {
    "colab": {
     "base_uri": "https://localhost:8080/"
    },
    "executionInfo": {
     "elapsed": 13,
     "status": "ok",
     "timestamp": 1644229120228,
     "user": {
      "displayName": "Siddhi Jadhav",
      "photoUrl": "https://lh3.googleusercontent.com/a/default-user=s64",
      "userId": "08402691859170607175"
     },
     "user_tz": -330
    },
    "id": "fvFsND_yXaU3",
    "outputId": "19333bd5-149b-4879-edaf-4355d867ddd8"
   },
   "outputs": [
    {
     "data": {
      "text/plain": [
       "['linear_regression.sav']"
      ]
     },
     "execution_count": 96,
     "metadata": {},
     "output_type": "execute_result"
    }
   ],
   "source": [
    "import joblib\n",
    "filename = 'linear_regression.sav' # Name of the model \n",
    "joblib.dump(model, filename) # it is saved in your current working directory"
   ]
  },
  {
   "cell_type": "code",
   "execution_count": 97,
   "metadata": {
    "id": "16VpM5v0XaU3"
   },
   "outputs": [],
   "source": [
    "# This command loads the model once again\n",
    "load_model = joblib.load(filename)"
   ]
  },
  {
   "cell_type": "code",
   "execution_count": 98,
   "metadata": {},
   "outputs": [],
   "source": [
    "float_formatter = \"{:.2f}\".format"
   ]
  },
  {
   "cell_type": "code",
   "execution_count": 100,
   "metadata": {},
   "outputs": [
    {
     "data": {
      "text/plain": [
       "array([4042.])"
      ]
     },
     "execution_count": 100,
     "metadata": {},
     "output_type": "execute_result"
    }
   ],
   "source": [
    "load_model.predict(np.array(df_robust_normalize.iloc[0,:]).reshape(1, -1))"
   ]
  },
  {
   "cell_type": "code",
   "execution_count": 101,
   "metadata": {},
   "outputs": [
    {
     "data": {
      "text/plain": [
       "array([4042.,  604., 2360., 1023.,  928.])"
      ]
     },
     "execution_count": 101,
     "metadata": {},
     "output_type": "execute_result"
    }
   ],
   "source": [
    "load_model.predict(np.array(df_robust_normalize.iloc[0:5,:]))"
   ]
  },
  {
   "cell_type": "code",
   "execution_count": 99,
   "metadata": {},
   "outputs": [
    {
     "data": {
      "text/html": [
       "<div>\n",
       "<style scoped>\n",
       "    .dataframe tbody tr th:only-of-type {\n",
       "        vertical-align: middle;\n",
       "    }\n",
       "\n",
       "    .dataframe tbody tr th {\n",
       "        vertical-align: top;\n",
       "    }\n",
       "\n",
       "    .dataframe thead th {\n",
       "        text-align: right;\n",
       "    }\n",
       "</style>\n",
       "<table border=\"1\" class=\"dataframe\">\n",
       "  <thead>\n",
       "    <tr style=\"text-align: right;\">\n",
       "      <th></th>\n",
       "      <th>Item_Identifier</th>\n",
       "      <th>Item_Weight</th>\n",
       "      <th>Item_Fat_Content</th>\n",
       "      <th>Item_Visibility</th>\n",
       "      <th>Item_MRP</th>\n",
       "      <th>Outlet_Identifier</th>\n",
       "      <th>Outlet_Size</th>\n",
       "      <th>Outlet_Location_Type</th>\n",
       "      <th>Outlet_Type</th>\n",
       "      <th>Item_Outlet_Sales</th>\n",
       "      <th>Item_Type_combined</th>\n",
       "      <th>years_old</th>\n",
       "    </tr>\n",
       "  </thead>\n",
       "  <tbody>\n",
       "    <tr>\n",
       "      <th>0</th>\n",
       "      <td>FDA15</td>\n",
       "      <td>9.30</td>\n",
       "      <td>0</td>\n",
       "      <td>0.016047</td>\n",
       "      <td>249.8092</td>\n",
       "      <td>OUT049</td>\n",
       "      <td>1</td>\n",
       "      <td>0</td>\n",
       "      <td>1</td>\n",
       "      <td>3735.1380</td>\n",
       "      <td>1</td>\n",
       "      <td>14</td>\n",
       "    </tr>\n",
       "    <tr>\n",
       "      <th>1</th>\n",
       "      <td>DRC01</td>\n",
       "      <td>5.92</td>\n",
       "      <td>2</td>\n",
       "      <td>0.019278</td>\n",
       "      <td>48.2692</td>\n",
       "      <td>OUT018</td>\n",
       "      <td>1</td>\n",
       "      <td>2</td>\n",
       "      <td>2</td>\n",
       "      <td>443.4228</td>\n",
       "      <td>0</td>\n",
       "      <td>4</td>\n",
       "    </tr>\n",
       "    <tr>\n",
       "      <th>2</th>\n",
       "      <td>FDN15</td>\n",
       "      <td>17.50</td>\n",
       "      <td>0</td>\n",
       "      <td>0.016760</td>\n",
       "      <td>141.6180</td>\n",
       "      <td>OUT049</td>\n",
       "      <td>1</td>\n",
       "      <td>0</td>\n",
       "      <td>1</td>\n",
       "      <td>2097.2700</td>\n",
       "      <td>1</td>\n",
       "      <td>14</td>\n",
       "    </tr>\n",
       "    <tr>\n",
       "      <th>3</th>\n",
       "      <td>FDX07</td>\n",
       "      <td>19.20</td>\n",
       "      <td>2</td>\n",
       "      <td>0.017834</td>\n",
       "      <td>182.0950</td>\n",
       "      <td>OUT010</td>\n",
       "      <td>2</td>\n",
       "      <td>2</td>\n",
       "      <td>0</td>\n",
       "      <td>732.3800</td>\n",
       "      <td>1</td>\n",
       "      <td>15</td>\n",
       "    </tr>\n",
       "    <tr>\n",
       "      <th>4</th>\n",
       "      <td>NCD19</td>\n",
       "      <td>8.93</td>\n",
       "      <td>1</td>\n",
       "      <td>0.009780</td>\n",
       "      <td>53.8614</td>\n",
       "      <td>OUT013</td>\n",
       "      <td>0</td>\n",
       "      <td>2</td>\n",
       "      <td>1</td>\n",
       "      <td>994.7052</td>\n",
       "      <td>2</td>\n",
       "      <td>26</td>\n",
       "    </tr>\n",
       "  </tbody>\n",
       "</table>\n",
       "</div>"
      ],
      "text/plain": [
       "  Item_Identifier  Item_Weight  Item_Fat_Content  Item_Visibility  Item_MRP  \\\n",
       "0           FDA15         9.30                 0         0.016047  249.8092   \n",
       "1           DRC01         5.92                 2         0.019278   48.2692   \n",
       "2           FDN15        17.50                 0         0.016760  141.6180   \n",
       "3           FDX07        19.20                 2         0.017834  182.0950   \n",
       "4           NCD19         8.93                 1         0.009780   53.8614   \n",
       "\n",
       "  Outlet_Identifier  Outlet_Size  Outlet_Location_Type  Outlet_Type  \\\n",
       "0            OUT049            1                     0            1   \n",
       "1            OUT018            1                     2            2   \n",
       "2            OUT049            1                     0            1   \n",
       "3            OUT010            2                     2            0   \n",
       "4            OUT013            0                     2            1   \n",
       "\n",
       "   Item_Outlet_Sales  Item_Type_combined  years_old  \n",
       "0          3735.1380                   1         14  \n",
       "1           443.4228                   0          4  \n",
       "2          2097.2700                   1         14  \n",
       "3           732.3800                   1         15  \n",
       "4           994.7052                   2         26  "
      ]
     },
     "execution_count": 99,
     "metadata": {},
     "output_type": "execute_result"
    }
   ],
   "source": [
    "df.head()"
   ]
  }
 ],
 "metadata": {
  "colab": {
   "collapsed_sections": [
    "oOauTuldXaUv",
    "qzRhxciJXaUx",
    "Ce9uu9__XaUz",
    "lNndHteFXaU0",
    "_QKLvJHgXaU1",
    "fJFzeJ_tXaU2",
    "WiFKHoRQXaU2",
    "56H-JuRDXaU3"
   ],
   "name": "Data_Science_Project_in_Python_on_BigMart_Sales_Prediction.ipynb",
   "provenance": []
  },
  "kernelspec": {
   "display_name": "Python 3 (ipykernel)",
   "language": "python",
   "name": "python3"
  },
  "language_info": {
   "codemirror_mode": {
    "name": "ipython",
    "version": 3
   },
   "file_extension": ".py",
   "mimetype": "text/x-python",
   "name": "python",
   "nbconvert_exporter": "python",
   "pygments_lexer": "ipython3",
   "version": "3.9.12"
  }
 },
 "nbformat": 4,
 "nbformat_minor": 1
}
